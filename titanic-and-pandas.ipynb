{
 "cells": [
  {
   "cell_type": "code",
   "execution_count": 1,
   "id": "1ae150e7",
   "metadata": {
    "execution": {
     "iopub.execute_input": "2025-07-09T17:43:27.085293Z",
     "iopub.status.busy": "2025-07-09T17:43:27.084879Z",
     "iopub.status.idle": "2025-07-09T17:43:27.090640Z",
     "shell.execute_reply": "2025-07-09T17:43:27.089843Z"
    },
    "papermill": {
     "duration": 0.015675,
     "end_time": "2025-07-09T17:43:27.093057",
     "exception": false,
     "start_time": "2025-07-09T17:43:27.077382",
     "status": "completed"
    },
    "tags": []
   },
   "outputs": [],
   "source": [
    "# !pip install pandas"
   ]
  },
  {
   "cell_type": "code",
   "execution_count": 2,
   "id": "8d6d0d83",
   "metadata": {
    "execution": {
     "iopub.execute_input": "2025-07-09T17:43:27.104175Z",
     "iopub.status.busy": "2025-07-09T17:43:27.103878Z",
     "iopub.status.idle": "2025-07-09T17:43:29.015164Z",
     "shell.execute_reply": "2025-07-09T17:43:29.014074Z"
    },
    "papermill": {
     "duration": 1.918787,
     "end_time": "2025-07-09T17:43:29.016996",
     "exception": false,
     "start_time": "2025-07-09T17:43:27.098209",
     "status": "completed"
    },
    "tags": []
   },
   "outputs": [],
   "source": [
    "import pandas as pd"
   ]
  },
  {
   "cell_type": "code",
   "execution_count": 3,
   "id": "bcd4d982",
   "metadata": {
    "execution": {
     "iopub.execute_input": "2025-07-09T17:43:29.029193Z",
     "iopub.status.busy": "2025-07-09T17:43:29.027183Z",
     "iopub.status.idle": "2025-07-09T17:43:29.055133Z",
     "shell.execute_reply": "2025-07-09T17:43:29.054136Z"
    },
    "papermill": {
     "duration": 0.035303,
     "end_time": "2025-07-09T17:43:29.057051",
     "exception": false,
     "start_time": "2025-07-09T17:43:29.021748",
     "status": "completed"
    },
    "tags": []
   },
   "outputs": [],
   "source": [
    "df=pd.read_csv('/kaggle/input/lab-exp/titanic_train.csv')"
   ]
  },
  {
   "cell_type": "code",
   "execution_count": 4,
   "id": "f14aee87",
   "metadata": {
    "execution": {
     "iopub.execute_input": "2025-07-09T17:43:29.069073Z",
     "iopub.status.busy": "2025-07-09T17:43:29.068304Z",
     "iopub.status.idle": "2025-07-09T17:43:29.095094Z",
     "shell.execute_reply": "2025-07-09T17:43:29.094252Z"
    },
    "papermill": {
     "duration": 0.034407,
     "end_time": "2025-07-09T17:43:29.096612",
     "exception": false,
     "start_time": "2025-07-09T17:43:29.062205",
     "status": "completed"
    },
    "tags": []
   },
   "outputs": [
    {
     "data": {
      "text/html": [
       "<div>\n",
       "<style scoped>\n",
       "    .dataframe tbody tr th:only-of-type {\n",
       "        vertical-align: middle;\n",
       "    }\n",
       "\n",
       "    .dataframe tbody tr th {\n",
       "        vertical-align: top;\n",
       "    }\n",
       "\n",
       "    .dataframe thead th {\n",
       "        text-align: right;\n",
       "    }\n",
       "</style>\n",
       "<table border=\"1\" class=\"dataframe\">\n",
       "  <thead>\n",
       "    <tr style=\"text-align: right;\">\n",
       "      <th></th>\n",
       "      <th>PassengerId</th>\n",
       "      <th>Survived</th>\n",
       "      <th>Pclass</th>\n",
       "      <th>Name</th>\n",
       "      <th>Sex</th>\n",
       "      <th>Age</th>\n",
       "      <th>SibSp</th>\n",
       "      <th>Parch</th>\n",
       "      <th>Ticket</th>\n",
       "      <th>Fare</th>\n",
       "      <th>Cabin</th>\n",
       "      <th>Embarked</th>\n",
       "    </tr>\n",
       "  </thead>\n",
       "  <tbody>\n",
       "    <tr>\n",
       "      <th>0</th>\n",
       "      <td>1</td>\n",
       "      <td>0</td>\n",
       "      <td>3</td>\n",
       "      <td>Braund, Mr. Owen Harris</td>\n",
       "      <td>male</td>\n",
       "      <td>22.0</td>\n",
       "      <td>1</td>\n",
       "      <td>0</td>\n",
       "      <td>A/5 21171</td>\n",
       "      <td>7.2500</td>\n",
       "      <td>NaN</td>\n",
       "      <td>S</td>\n",
       "    </tr>\n",
       "    <tr>\n",
       "      <th>1</th>\n",
       "      <td>2</td>\n",
       "      <td>1</td>\n",
       "      <td>1</td>\n",
       "      <td>Cumings, Mrs. John Bradley (Florence Briggs Th...</td>\n",
       "      <td>female</td>\n",
       "      <td>38.0</td>\n",
       "      <td>1</td>\n",
       "      <td>0</td>\n",
       "      <td>PC 17599</td>\n",
       "      <td>71.2833</td>\n",
       "      <td>C85</td>\n",
       "      <td>C</td>\n",
       "    </tr>\n",
       "    <tr>\n",
       "      <th>2</th>\n",
       "      <td>3</td>\n",
       "      <td>1</td>\n",
       "      <td>3</td>\n",
       "      <td>Heikkinen, Miss. Laina</td>\n",
       "      <td>female</td>\n",
       "      <td>26.0</td>\n",
       "      <td>0</td>\n",
       "      <td>0</td>\n",
       "      <td>STON/O2. 3101282</td>\n",
       "      <td>7.9250</td>\n",
       "      <td>NaN</td>\n",
       "      <td>S</td>\n",
       "    </tr>\n",
       "    <tr>\n",
       "      <th>3</th>\n",
       "      <td>4</td>\n",
       "      <td>1</td>\n",
       "      <td>1</td>\n",
       "      <td>Futrelle, Mrs. Jacques Heath (Lily May Peel)</td>\n",
       "      <td>female</td>\n",
       "      <td>35.0</td>\n",
       "      <td>1</td>\n",
       "      <td>0</td>\n",
       "      <td>113803</td>\n",
       "      <td>53.1000</td>\n",
       "      <td>C123</td>\n",
       "      <td>S</td>\n",
       "    </tr>\n",
       "    <tr>\n",
       "      <th>4</th>\n",
       "      <td>5</td>\n",
       "      <td>0</td>\n",
       "      <td>3</td>\n",
       "      <td>Allen, Mr. William Henry</td>\n",
       "      <td>male</td>\n",
       "      <td>35.0</td>\n",
       "      <td>0</td>\n",
       "      <td>0</td>\n",
       "      <td>373450</td>\n",
       "      <td>8.0500</td>\n",
       "      <td>NaN</td>\n",
       "      <td>S</td>\n",
       "    </tr>\n",
       "  </tbody>\n",
       "</table>\n",
       "</div>"
      ],
      "text/plain": [
       "   PassengerId  Survived  Pclass  \\\n",
       "0            1         0       3   \n",
       "1            2         1       1   \n",
       "2            3         1       3   \n",
       "3            4         1       1   \n",
       "4            5         0       3   \n",
       "\n",
       "                                                Name     Sex   Age  SibSp  \\\n",
       "0                            Braund, Mr. Owen Harris    male  22.0      1   \n",
       "1  Cumings, Mrs. John Bradley (Florence Briggs Th...  female  38.0      1   \n",
       "2                             Heikkinen, Miss. Laina  female  26.0      0   \n",
       "3       Futrelle, Mrs. Jacques Heath (Lily May Peel)  female  35.0      1   \n",
       "4                           Allen, Mr. William Henry    male  35.0      0   \n",
       "\n",
       "   Parch            Ticket     Fare Cabin Embarked  \n",
       "0      0         A/5 21171   7.2500   NaN        S  \n",
       "1      0          PC 17599  71.2833   C85        C  \n",
       "2      0  STON/O2. 3101282   7.9250   NaN        S  \n",
       "3      0            113803  53.1000  C123        S  \n",
       "4      0            373450   8.0500   NaN        S  "
      ]
     },
     "execution_count": 4,
     "metadata": {},
     "output_type": "execute_result"
    }
   ],
   "source": [
    "df.head()"
   ]
  },
  {
   "cell_type": "code",
   "execution_count": 5,
   "id": "b2c52713",
   "metadata": {
    "execution": {
     "iopub.execute_input": "2025-07-09T17:43:29.107474Z",
     "iopub.status.busy": "2025-07-09T17:43:29.107115Z",
     "iopub.status.idle": "2025-07-09T17:43:29.120808Z",
     "shell.execute_reply": "2025-07-09T17:43:29.119856Z"
    },
    "papermill": {
     "duration": 0.020712,
     "end_time": "2025-07-09T17:43:29.122285",
     "exception": false,
     "start_time": "2025-07-09T17:43:29.101573",
     "status": "completed"
    },
    "tags": []
   },
   "outputs": [
    {
     "name": "stderr",
     "output_type": "stream",
     "text": [
      "/usr/local/lib/python3.11/dist-packages/pandas/io/formats/format.py:1458: RuntimeWarning: invalid value encountered in greater\n",
      "  has_large_values = (abs_vals > 1e6).any()\n",
      "/usr/local/lib/python3.11/dist-packages/pandas/io/formats/format.py:1459: RuntimeWarning: invalid value encountered in less\n",
      "  has_small_values = ((abs_vals < 10 ** (-self.digits)) & (abs_vals > 0)).any()\n",
      "/usr/local/lib/python3.11/dist-packages/pandas/io/formats/format.py:1459: RuntimeWarning: invalid value encountered in greater\n",
      "  has_small_values = ((abs_vals < 10 ** (-self.digits)) & (abs_vals > 0)).any()\n"
     ]
    },
    {
     "data": {
      "text/html": [
       "<div>\n",
       "<style scoped>\n",
       "    .dataframe tbody tr th:only-of-type {\n",
       "        vertical-align: middle;\n",
       "    }\n",
       "\n",
       "    .dataframe tbody tr th {\n",
       "        vertical-align: top;\n",
       "    }\n",
       "\n",
       "    .dataframe thead th {\n",
       "        text-align: right;\n",
       "    }\n",
       "</style>\n",
       "<table border=\"1\" class=\"dataframe\">\n",
       "  <thead>\n",
       "    <tr style=\"text-align: right;\">\n",
       "      <th></th>\n",
       "      <th>PassengerId</th>\n",
       "      <th>Survived</th>\n",
       "      <th>Pclass</th>\n",
       "      <th>Name</th>\n",
       "      <th>Sex</th>\n",
       "      <th>Age</th>\n",
       "      <th>SibSp</th>\n",
       "      <th>Parch</th>\n",
       "      <th>Ticket</th>\n",
       "      <th>Fare</th>\n",
       "      <th>Cabin</th>\n",
       "      <th>Embarked</th>\n",
       "    </tr>\n",
       "  </thead>\n",
       "  <tbody>\n",
       "    <tr>\n",
       "      <th>886</th>\n",
       "      <td>887</td>\n",
       "      <td>0</td>\n",
       "      <td>2</td>\n",
       "      <td>Montvila, Rev. Juozas</td>\n",
       "      <td>male</td>\n",
       "      <td>27.0</td>\n",
       "      <td>0</td>\n",
       "      <td>0</td>\n",
       "      <td>211536</td>\n",
       "      <td>13.00</td>\n",
       "      <td>NaN</td>\n",
       "      <td>S</td>\n",
       "    </tr>\n",
       "    <tr>\n",
       "      <th>887</th>\n",
       "      <td>888</td>\n",
       "      <td>1</td>\n",
       "      <td>1</td>\n",
       "      <td>Graham, Miss. Margaret Edith</td>\n",
       "      <td>female</td>\n",
       "      <td>19.0</td>\n",
       "      <td>0</td>\n",
       "      <td>0</td>\n",
       "      <td>112053</td>\n",
       "      <td>30.00</td>\n",
       "      <td>B42</td>\n",
       "      <td>S</td>\n",
       "    </tr>\n",
       "    <tr>\n",
       "      <th>888</th>\n",
       "      <td>889</td>\n",
       "      <td>0</td>\n",
       "      <td>3</td>\n",
       "      <td>Johnston, Miss. Catherine Helen \"Carrie\"</td>\n",
       "      <td>female</td>\n",
       "      <td>NaN</td>\n",
       "      <td>1</td>\n",
       "      <td>2</td>\n",
       "      <td>W./C. 6607</td>\n",
       "      <td>23.45</td>\n",
       "      <td>NaN</td>\n",
       "      <td>S</td>\n",
       "    </tr>\n",
       "    <tr>\n",
       "      <th>889</th>\n",
       "      <td>890</td>\n",
       "      <td>1</td>\n",
       "      <td>1</td>\n",
       "      <td>Behr, Mr. Karl Howell</td>\n",
       "      <td>male</td>\n",
       "      <td>26.0</td>\n",
       "      <td>0</td>\n",
       "      <td>0</td>\n",
       "      <td>111369</td>\n",
       "      <td>30.00</td>\n",
       "      <td>C148</td>\n",
       "      <td>C</td>\n",
       "    </tr>\n",
       "    <tr>\n",
       "      <th>890</th>\n",
       "      <td>891</td>\n",
       "      <td>0</td>\n",
       "      <td>3</td>\n",
       "      <td>Dooley, Mr. Patrick</td>\n",
       "      <td>male</td>\n",
       "      <td>32.0</td>\n",
       "      <td>0</td>\n",
       "      <td>0</td>\n",
       "      <td>370376</td>\n",
       "      <td>7.75</td>\n",
       "      <td>NaN</td>\n",
       "      <td>Q</td>\n",
       "    </tr>\n",
       "  </tbody>\n",
       "</table>\n",
       "</div>"
      ],
      "text/plain": [
       "     PassengerId  Survived  Pclass                                      Name  \\\n",
       "886          887         0       2                     Montvila, Rev. Juozas   \n",
       "887          888         1       1              Graham, Miss. Margaret Edith   \n",
       "888          889         0       3  Johnston, Miss. Catherine Helen \"Carrie\"   \n",
       "889          890         1       1                     Behr, Mr. Karl Howell   \n",
       "890          891         0       3                       Dooley, Mr. Patrick   \n",
       "\n",
       "        Sex   Age  SibSp  Parch      Ticket   Fare Cabin Embarked  \n",
       "886    male  27.0      0      0      211536  13.00   NaN        S  \n",
       "887  female  19.0      0      0      112053  30.00   B42        S  \n",
       "888  female   NaN      1      2  W./C. 6607  23.45   NaN        S  \n",
       "889    male  26.0      0      0      111369  30.00  C148        C  \n",
       "890    male  32.0      0      0      370376   7.75   NaN        Q  "
      ]
     },
     "execution_count": 5,
     "metadata": {},
     "output_type": "execute_result"
    }
   ],
   "source": [
    "df.tail()"
   ]
  },
  {
   "cell_type": "code",
   "execution_count": 6,
   "id": "5cb3d044",
   "metadata": {
    "execution": {
     "iopub.execute_input": "2025-07-09T17:43:29.133679Z",
     "iopub.status.busy": "2025-07-09T17:43:29.133401Z",
     "iopub.status.idle": "2025-07-09T17:43:29.141203Z",
     "shell.execute_reply": "2025-07-09T17:43:29.140255Z"
    },
    "papermill": {
     "duration": 0.015595,
     "end_time": "2025-07-09T17:43:29.142963",
     "exception": false,
     "start_time": "2025-07-09T17:43:29.127368",
     "status": "completed"
    },
    "tags": []
   },
   "outputs": [
    {
     "data": {
      "text/plain": [
       "177"
      ]
     },
     "execution_count": 6,
     "metadata": {},
     "output_type": "execute_result"
    }
   ],
   "source": [
    "df['Age'].isnull().sum()"
   ]
  },
  {
   "cell_type": "code",
   "execution_count": 7,
   "id": "66c82cf5",
   "metadata": {
    "execution": {
     "iopub.execute_input": "2025-07-09T17:43:29.154657Z",
     "iopub.status.busy": "2025-07-09T17:43:29.154381Z",
     "iopub.status.idle": "2025-07-09T17:43:29.159869Z",
     "shell.execute_reply": "2025-07-09T17:43:29.158838Z"
    },
    "papermill": {
     "duration": 0.012938,
     "end_time": "2025-07-09T17:43:29.161404",
     "exception": false,
     "start_time": "2025-07-09T17:43:29.148466",
     "status": "completed"
    },
    "tags": []
   },
   "outputs": [
    {
     "data": {
      "text/plain": [
       "12"
      ]
     },
     "execution_count": 7,
     "metadata": {},
     "output_type": "execute_result"
    }
   ],
   "source": [
    "len(df.columns)"
   ]
  },
  {
   "cell_type": "code",
   "execution_count": 8,
   "id": "99d287b0",
   "metadata": {
    "execution": {
     "iopub.execute_input": "2025-07-09T17:43:29.173244Z",
     "iopub.status.busy": "2025-07-09T17:43:29.172997Z",
     "iopub.status.idle": "2025-07-09T17:43:29.178912Z",
     "shell.execute_reply": "2025-07-09T17:43:29.177902Z"
    },
    "papermill": {
     "duration": 0.013674,
     "end_time": "2025-07-09T17:43:29.180423",
     "exception": false,
     "start_time": "2025-07-09T17:43:29.166749",
     "status": "completed"
    },
    "tags": []
   },
   "outputs": [],
   "source": [
    "df['Age']=df['Age'].fillna(int(df['Age'].mean()))"
   ]
  },
  {
   "cell_type": "code",
   "execution_count": 9,
   "id": "68257994",
   "metadata": {
    "execution": {
     "iopub.execute_input": "2025-07-09T17:43:29.191656Z",
     "iopub.status.busy": "2025-07-09T17:43:29.191337Z",
     "iopub.status.idle": "2025-07-09T17:43:29.197474Z",
     "shell.execute_reply": "2025-07-09T17:43:29.196804Z"
    },
    "papermill": {
     "duration": 0.01334,
     "end_time": "2025-07-09T17:43:29.198917",
     "exception": false,
     "start_time": "2025-07-09T17:43:29.185577",
     "status": "completed"
    },
    "tags": []
   },
   "outputs": [
    {
     "data": {
      "text/plain": [
       "0"
      ]
     },
     "execution_count": 9,
     "metadata": {},
     "output_type": "execute_result"
    }
   ],
   "source": [
    "df['Age'].isnull().sum()"
   ]
  },
  {
   "cell_type": "code",
   "execution_count": 10,
   "id": "ae1568e1",
   "metadata": {
    "execution": {
     "iopub.execute_input": "2025-07-09T17:43:29.210687Z",
     "iopub.status.busy": "2025-07-09T17:43:29.210405Z",
     "iopub.status.idle": "2025-07-09T17:43:29.215853Z",
     "shell.execute_reply": "2025-07-09T17:43:29.214941Z"
    },
    "papermill": {
     "duration": 0.013068,
     "end_time": "2025-07-09T17:43:29.217550",
     "exception": false,
     "start_time": "2025-07-09T17:43:29.204482",
     "status": "completed"
    },
    "tags": []
   },
   "outputs": [
    {
     "data": {
      "text/plain": [
       "12"
      ]
     },
     "execution_count": 10,
     "metadata": {},
     "output_type": "execute_result"
    }
   ],
   "source": [
    "len(df.columns)"
   ]
  },
  {
   "cell_type": "code",
   "execution_count": 11,
   "id": "4eec52f9",
   "metadata": {
    "execution": {
     "iopub.execute_input": "2025-07-09T17:43:29.229491Z",
     "iopub.status.busy": "2025-07-09T17:43:29.229192Z",
     "iopub.status.idle": "2025-07-09T17:43:29.241003Z",
     "shell.execute_reply": "2025-07-09T17:43:29.240083Z"
    },
    "papermill": {
     "duration": 0.01977,
     "end_time": "2025-07-09T17:43:29.242683",
     "exception": false,
     "start_time": "2025-07-09T17:43:29.222913",
     "status": "completed"
    },
    "tags": []
   },
   "outputs": [],
   "source": [
    "df.drop('Name', axis=1, inplace=True)  #axis= 1 column and axis=0 row"
   ]
  },
  {
   "cell_type": "code",
   "execution_count": 12,
   "id": "c4f75976",
   "metadata": {
    "execution": {
     "iopub.execute_input": "2025-07-09T17:43:29.254552Z",
     "iopub.status.busy": "2025-07-09T17:43:29.254237Z",
     "iopub.status.idle": "2025-07-09T17:43:29.260156Z",
     "shell.execute_reply": "2025-07-09T17:43:29.259328Z"
    },
    "papermill": {
     "duration": 0.013463,
     "end_time": "2025-07-09T17:43:29.261530",
     "exception": false,
     "start_time": "2025-07-09T17:43:29.248067",
     "status": "completed"
    },
    "tags": []
   },
   "outputs": [
    {
     "data": {
      "text/plain": [
       "11"
      ]
     },
     "execution_count": 12,
     "metadata": {},
     "output_type": "execute_result"
    }
   ],
   "source": [
    "len(df.columns)"
   ]
  },
  {
   "cell_type": "code",
   "execution_count": 13,
   "id": "e762e7e2",
   "metadata": {
    "execution": {
     "iopub.execute_input": "2025-07-09T17:43:29.273365Z",
     "iopub.status.busy": "2025-07-09T17:43:29.273078Z",
     "iopub.status.idle": "2025-07-09T17:43:29.290799Z",
     "shell.execute_reply": "2025-07-09T17:43:29.289864Z"
    },
    "papermill": {
     "duration": 0.025224,
     "end_time": "2025-07-09T17:43:29.292201",
     "exception": false,
     "start_time": "2025-07-09T17:43:29.266977",
     "status": "completed"
    },
    "tags": []
   },
   "outputs": [
    {
     "name": "stdout",
     "output_type": "stream",
     "text": [
      "<class 'pandas.core.frame.DataFrame'>\n",
      "RangeIndex: 891 entries, 0 to 890\n",
      "Data columns (total 11 columns):\n",
      " #   Column       Non-Null Count  Dtype  \n",
      "---  ------       --------------  -----  \n",
      " 0   PassengerId  891 non-null    int64  \n",
      " 1   Survived     891 non-null    int64  \n",
      " 2   Pclass       891 non-null    int64  \n",
      " 3   Sex          891 non-null    object \n",
      " 4   Age          891 non-null    float64\n",
      " 5   SibSp        891 non-null    int64  \n",
      " 6   Parch        891 non-null    int64  \n",
      " 7   Ticket       891 non-null    object \n",
      " 8   Fare         891 non-null    float64\n",
      " 9   Cabin        204 non-null    object \n",
      " 10  Embarked     889 non-null    object \n",
      "dtypes: float64(2), int64(5), object(4)\n",
      "memory usage: 76.7+ KB\n"
     ]
    }
   ],
   "source": [
    "df.info()"
   ]
  },
  {
   "cell_type": "code",
   "execution_count": 14,
   "id": "e32d5634",
   "metadata": {
    "execution": {
     "iopub.execute_input": "2025-07-09T17:43:29.304067Z",
     "iopub.status.busy": "2025-07-09T17:43:29.303811Z",
     "iopub.status.idle": "2025-07-09T17:43:29.309469Z",
     "shell.execute_reply": "2025-07-09T17:43:29.308570Z"
    },
    "papermill": {
     "duration": 0.013462,
     "end_time": "2025-07-09T17:43:29.311103",
     "exception": false,
     "start_time": "2025-07-09T17:43:29.297641",
     "status": "completed"
    },
    "tags": []
   },
   "outputs": [],
   "source": [
    "df.drop(['Pclass','Ticket'], axis=1, inplace=True)"
   ]
  },
  {
   "cell_type": "code",
   "execution_count": 15,
   "id": "556d68a1",
   "metadata": {
    "execution": {
     "iopub.execute_input": "2025-07-09T17:43:29.323272Z",
     "iopub.status.busy": "2025-07-09T17:43:29.323030Z",
     "iopub.status.idle": "2025-07-09T17:43:29.328850Z",
     "shell.execute_reply": "2025-07-09T17:43:29.327834Z"
    },
    "papermill": {
     "duration": 0.014011,
     "end_time": "2025-07-09T17:43:29.330498",
     "exception": false,
     "start_time": "2025-07-09T17:43:29.316487",
     "status": "completed"
    },
    "tags": []
   },
   "outputs": [
    {
     "data": {
      "text/plain": [
       "9"
      ]
     },
     "execution_count": 15,
     "metadata": {},
     "output_type": "execute_result"
    }
   ],
   "source": [
    "len(df.columns)"
   ]
  },
  {
   "cell_type": "code",
   "execution_count": 16,
   "id": "36538236",
   "metadata": {
    "execution": {
     "iopub.execute_input": "2025-07-09T17:43:29.343551Z",
     "iopub.status.busy": "2025-07-09T17:43:29.342727Z",
     "iopub.status.idle": "2025-07-09T17:43:29.350006Z",
     "shell.execute_reply": "2025-07-09T17:43:29.349299Z"
    },
    "papermill": {
     "duration": 0.015012,
     "end_time": "2025-07-09T17:43:29.351532",
     "exception": false,
     "start_time": "2025-07-09T17:43:29.336520",
     "status": "completed"
    },
    "tags": []
   },
   "outputs": [
    {
     "data": {
      "text/plain": [
       "Sex\n",
       "male      577\n",
       "female    314\n",
       "Name: count, dtype: int64"
      ]
     },
     "execution_count": 16,
     "metadata": {},
     "output_type": "execute_result"
    }
   ],
   "source": [
    "df['Sex'].value_counts()"
   ]
  },
  {
   "cell_type": "code",
   "execution_count": 17,
   "id": "386cb460",
   "metadata": {
    "execution": {
     "iopub.execute_input": "2025-07-09T17:43:29.363544Z",
     "iopub.status.busy": "2025-07-09T17:43:29.363238Z",
     "iopub.status.idle": "2025-07-09T17:43:29.369454Z",
     "shell.execute_reply": "2025-07-09T17:43:29.368655Z"
    },
    "papermill": {
     "duration": 0.013622,
     "end_time": "2025-07-09T17:43:29.370684",
     "exception": false,
     "start_time": "2025-07-09T17:43:29.357062",
     "status": "completed"
    },
    "tags": []
   },
   "outputs": [
    {
     "data": {
      "text/plain": [
       "PassengerId       1\n",
       "Survived          0\n",
       "Sex            male\n",
       "Age            22.0\n",
       "SibSp             1\n",
       "Parch             0\n",
       "Fare           7.25\n",
       "Cabin           NaN\n",
       "Embarked          S\n",
       "Name: 0, dtype: object"
      ]
     },
     "execution_count": 17,
     "metadata": {},
     "output_type": "execute_result"
    }
   ],
   "source": [
    "df.iloc[0]  #for access data index wise"
   ]
  },
  {
   "cell_type": "code",
   "execution_count": 18,
   "id": "46f7ddd7",
   "metadata": {
    "execution": {
     "iopub.execute_input": "2025-07-09T17:43:29.382884Z",
     "iopub.status.busy": "2025-07-09T17:43:29.382568Z",
     "iopub.status.idle": "2025-07-09T17:43:29.399116Z",
     "shell.execute_reply": "2025-07-09T17:43:29.398364Z"
    },
    "papermill": {
     "duration": 0.024255,
     "end_time": "2025-07-09T17:43:29.400475",
     "exception": false,
     "start_time": "2025-07-09T17:43:29.376220",
     "status": "completed"
    },
    "tags": []
   },
   "outputs": [
    {
     "data": {
      "text/html": [
       "<div>\n",
       "<style scoped>\n",
       "    .dataframe tbody tr th:only-of-type {\n",
       "        vertical-align: middle;\n",
       "    }\n",
       "\n",
       "    .dataframe tbody tr th {\n",
       "        vertical-align: top;\n",
       "    }\n",
       "\n",
       "    .dataframe thead th {\n",
       "        text-align: right;\n",
       "    }\n",
       "</style>\n",
       "<table border=\"1\" class=\"dataframe\">\n",
       "  <thead>\n",
       "    <tr style=\"text-align: right;\">\n",
       "      <th></th>\n",
       "      <th>PassengerId</th>\n",
       "      <th>Survived</th>\n",
       "      <th>Sex</th>\n",
       "      <th>Age</th>\n",
       "      <th>SibSp</th>\n",
       "      <th>Parch</th>\n",
       "      <th>Fare</th>\n",
       "      <th>Cabin</th>\n",
       "      <th>Embarked</th>\n",
       "    </tr>\n",
       "  </thead>\n",
       "  <tbody>\n",
       "    <tr>\n",
       "      <th>0</th>\n",
       "      <td>1</td>\n",
       "      <td>0</td>\n",
       "      <td>-1</td>\n",
       "      <td>22.0</td>\n",
       "      <td>1</td>\n",
       "      <td>0</td>\n",
       "      <td>7.2500</td>\n",
       "      <td>NaN</td>\n",
       "      <td>S</td>\n",
       "    </tr>\n",
       "    <tr>\n",
       "      <th>1</th>\n",
       "      <td>2</td>\n",
       "      <td>1</td>\n",
       "      <td>0</td>\n",
       "      <td>38.0</td>\n",
       "      <td>1</td>\n",
       "      <td>0</td>\n",
       "      <td>71.2833</td>\n",
       "      <td>C85</td>\n",
       "      <td>C</td>\n",
       "    </tr>\n",
       "    <tr>\n",
       "      <th>2</th>\n",
       "      <td>3</td>\n",
       "      <td>1</td>\n",
       "      <td>0</td>\n",
       "      <td>26.0</td>\n",
       "      <td>0</td>\n",
       "      <td>0</td>\n",
       "      <td>7.9250</td>\n",
       "      <td>NaN</td>\n",
       "      <td>S</td>\n",
       "    </tr>\n",
       "    <tr>\n",
       "      <th>3</th>\n",
       "      <td>4</td>\n",
       "      <td>1</td>\n",
       "      <td>0</td>\n",
       "      <td>35.0</td>\n",
       "      <td>1</td>\n",
       "      <td>0</td>\n",
       "      <td>53.1000</td>\n",
       "      <td>C123</td>\n",
       "      <td>S</td>\n",
       "    </tr>\n",
       "    <tr>\n",
       "      <th>4</th>\n",
       "      <td>5</td>\n",
       "      <td>0</td>\n",
       "      <td>-1</td>\n",
       "      <td>35.0</td>\n",
       "      <td>0</td>\n",
       "      <td>0</td>\n",
       "      <td>8.0500</td>\n",
       "      <td>NaN</td>\n",
       "      <td>S</td>\n",
       "    </tr>\n",
       "    <tr>\n",
       "      <th>...</th>\n",
       "      <td>...</td>\n",
       "      <td>...</td>\n",
       "      <td>...</td>\n",
       "      <td>...</td>\n",
       "      <td>...</td>\n",
       "      <td>...</td>\n",
       "      <td>...</td>\n",
       "      <td>...</td>\n",
       "      <td>...</td>\n",
       "    </tr>\n",
       "    <tr>\n",
       "      <th>886</th>\n",
       "      <td>887</td>\n",
       "      <td>0</td>\n",
       "      <td>-1</td>\n",
       "      <td>27.0</td>\n",
       "      <td>0</td>\n",
       "      <td>0</td>\n",
       "      <td>13.0000</td>\n",
       "      <td>NaN</td>\n",
       "      <td>S</td>\n",
       "    </tr>\n",
       "    <tr>\n",
       "      <th>887</th>\n",
       "      <td>888</td>\n",
       "      <td>1</td>\n",
       "      <td>0</td>\n",
       "      <td>19.0</td>\n",
       "      <td>0</td>\n",
       "      <td>0</td>\n",
       "      <td>30.0000</td>\n",
       "      <td>B42</td>\n",
       "      <td>S</td>\n",
       "    </tr>\n",
       "    <tr>\n",
       "      <th>888</th>\n",
       "      <td>889</td>\n",
       "      <td>0</td>\n",
       "      <td>0</td>\n",
       "      <td>29.0</td>\n",
       "      <td>1</td>\n",
       "      <td>2</td>\n",
       "      <td>23.4500</td>\n",
       "      <td>NaN</td>\n",
       "      <td>S</td>\n",
       "    </tr>\n",
       "    <tr>\n",
       "      <th>889</th>\n",
       "      <td>890</td>\n",
       "      <td>1</td>\n",
       "      <td>-1</td>\n",
       "      <td>26.0</td>\n",
       "      <td>0</td>\n",
       "      <td>0</td>\n",
       "      <td>30.0000</td>\n",
       "      <td>C148</td>\n",
       "      <td>C</td>\n",
       "    </tr>\n",
       "    <tr>\n",
       "      <th>890</th>\n",
       "      <td>891</td>\n",
       "      <td>0</td>\n",
       "      <td>-1</td>\n",
       "      <td>32.0</td>\n",
       "      <td>0</td>\n",
       "      <td>0</td>\n",
       "      <td>7.7500</td>\n",
       "      <td>NaN</td>\n",
       "      <td>Q</td>\n",
       "    </tr>\n",
       "  </tbody>\n",
       "</table>\n",
       "<p>891 rows × 9 columns</p>\n",
       "</div>"
      ],
      "text/plain": [
       "     PassengerId  Survived  Sex   Age  SibSp  Parch     Fare Cabin Embarked\n",
       "0              1         0   -1  22.0      1      0   7.2500   NaN        S\n",
       "1              2         1    0  38.0      1      0  71.2833   C85        C\n",
       "2              3         1    0  26.0      0      0   7.9250   NaN        S\n",
       "3              4         1    0  35.0      1      0  53.1000  C123        S\n",
       "4              5         0   -1  35.0      0      0   8.0500   NaN        S\n",
       "..           ...       ...  ...   ...    ...    ...      ...   ...      ...\n",
       "886          887         0   -1  27.0      0      0  13.0000   NaN        S\n",
       "887          888         1    0  19.0      0      0  30.0000   B42        S\n",
       "888          889         0    0  29.0      1      2  23.4500   NaN        S\n",
       "889          890         1   -1  26.0      0      0  30.0000  C148        C\n",
       "890          891         0   -1  32.0      0      0   7.7500   NaN        Q\n",
       "\n",
       "[891 rows x 9 columns]"
      ]
     },
     "execution_count": 18,
     "metadata": {},
     "output_type": "execute_result"
    }
   ],
   "source": [
    "# replace value after search \n",
    "def fun(value):\n",
    "    # value=row['sex']\n",
    "    if value=='male':\n",
    "        return -1\n",
    "    return 0\n",
    "\n",
    "df['Sex']=df['Sex'].apply(fun)\n",
    "df"
   ]
  },
  {
   "cell_type": "code",
   "execution_count": 19,
   "id": "b767c5ab",
   "metadata": {
    "execution": {
     "iopub.execute_input": "2025-07-09T17:43:29.414990Z",
     "iopub.status.busy": "2025-07-09T17:43:29.413760Z",
     "iopub.status.idle": "2025-07-09T17:43:29.428934Z",
     "shell.execute_reply": "2025-07-09T17:43:29.427843Z"
    },
    "papermill": {
     "duration": 0.024024,
     "end_time": "2025-07-09T17:43:29.430652",
     "exception": false,
     "start_time": "2025-07-09T17:43:29.406628",
     "status": "completed"
    },
    "tags": []
   },
   "outputs": [
    {
     "data": {
      "text/html": [
       "<div>\n",
       "<style scoped>\n",
       "    .dataframe tbody tr th:only-of-type {\n",
       "        vertical-align: middle;\n",
       "    }\n",
       "\n",
       "    .dataframe tbody tr th {\n",
       "        vertical-align: top;\n",
       "    }\n",
       "\n",
       "    .dataframe thead th {\n",
       "        text-align: right;\n",
       "    }\n",
       "</style>\n",
       "<table border=\"1\" class=\"dataframe\">\n",
       "  <thead>\n",
       "    <tr style=\"text-align: right;\">\n",
       "      <th></th>\n",
       "      <th>PassengerId</th>\n",
       "      <th>Survived</th>\n",
       "      <th>Sex</th>\n",
       "      <th>Age</th>\n",
       "      <th>SibSp</th>\n",
       "      <th>Parch</th>\n",
       "      <th>Fare</th>\n",
       "      <th>Cabin</th>\n",
       "      <th>Embarked</th>\n",
       "      <th>age_description</th>\n",
       "    </tr>\n",
       "  </thead>\n",
       "  <tbody>\n",
       "    <tr>\n",
       "      <th>0</th>\n",
       "      <td>1</td>\n",
       "      <td>0</td>\n",
       "      <td>-1</td>\n",
       "      <td>22.0</td>\n",
       "      <td>1</td>\n",
       "      <td>0</td>\n",
       "      <td>7.2500</td>\n",
       "      <td>NaN</td>\n",
       "      <td>S</td>\n",
       "      <td>adult</td>\n",
       "    </tr>\n",
       "    <tr>\n",
       "      <th>1</th>\n",
       "      <td>2</td>\n",
       "      <td>1</td>\n",
       "      <td>0</td>\n",
       "      <td>38.0</td>\n",
       "      <td>1</td>\n",
       "      <td>0</td>\n",
       "      <td>71.2833</td>\n",
       "      <td>C85</td>\n",
       "      <td>C</td>\n",
       "      <td>adult</td>\n",
       "    </tr>\n",
       "    <tr>\n",
       "      <th>2</th>\n",
       "      <td>3</td>\n",
       "      <td>1</td>\n",
       "      <td>0</td>\n",
       "      <td>26.0</td>\n",
       "      <td>0</td>\n",
       "      <td>0</td>\n",
       "      <td>7.9250</td>\n",
       "      <td>NaN</td>\n",
       "      <td>S</td>\n",
       "      <td>adult</td>\n",
       "    </tr>\n",
       "    <tr>\n",
       "      <th>3</th>\n",
       "      <td>4</td>\n",
       "      <td>1</td>\n",
       "      <td>0</td>\n",
       "      <td>35.0</td>\n",
       "      <td>1</td>\n",
       "      <td>0</td>\n",
       "      <td>53.1000</td>\n",
       "      <td>C123</td>\n",
       "      <td>S</td>\n",
       "      <td>adult</td>\n",
       "    </tr>\n",
       "    <tr>\n",
       "      <th>4</th>\n",
       "      <td>5</td>\n",
       "      <td>0</td>\n",
       "      <td>-1</td>\n",
       "      <td>35.0</td>\n",
       "      <td>0</td>\n",
       "      <td>0</td>\n",
       "      <td>8.0500</td>\n",
       "      <td>NaN</td>\n",
       "      <td>S</td>\n",
       "      <td>adult</td>\n",
       "    </tr>\n",
       "    <tr>\n",
       "      <th>...</th>\n",
       "      <td>...</td>\n",
       "      <td>...</td>\n",
       "      <td>...</td>\n",
       "      <td>...</td>\n",
       "      <td>...</td>\n",
       "      <td>...</td>\n",
       "      <td>...</td>\n",
       "      <td>...</td>\n",
       "      <td>...</td>\n",
       "      <td>...</td>\n",
       "    </tr>\n",
       "    <tr>\n",
       "      <th>886</th>\n",
       "      <td>887</td>\n",
       "      <td>0</td>\n",
       "      <td>-1</td>\n",
       "      <td>27.0</td>\n",
       "      <td>0</td>\n",
       "      <td>0</td>\n",
       "      <td>13.0000</td>\n",
       "      <td>NaN</td>\n",
       "      <td>S</td>\n",
       "      <td>adult</td>\n",
       "    </tr>\n",
       "    <tr>\n",
       "      <th>887</th>\n",
       "      <td>888</td>\n",
       "      <td>1</td>\n",
       "      <td>0</td>\n",
       "      <td>19.0</td>\n",
       "      <td>0</td>\n",
       "      <td>0</td>\n",
       "      <td>30.0000</td>\n",
       "      <td>B42</td>\n",
       "      <td>S</td>\n",
       "      <td>adult</td>\n",
       "    </tr>\n",
       "    <tr>\n",
       "      <th>888</th>\n",
       "      <td>889</td>\n",
       "      <td>0</td>\n",
       "      <td>0</td>\n",
       "      <td>29.0</td>\n",
       "      <td>1</td>\n",
       "      <td>2</td>\n",
       "      <td>23.4500</td>\n",
       "      <td>NaN</td>\n",
       "      <td>S</td>\n",
       "      <td>adult</td>\n",
       "    </tr>\n",
       "    <tr>\n",
       "      <th>889</th>\n",
       "      <td>890</td>\n",
       "      <td>1</td>\n",
       "      <td>-1</td>\n",
       "      <td>26.0</td>\n",
       "      <td>0</td>\n",
       "      <td>0</td>\n",
       "      <td>30.0000</td>\n",
       "      <td>C148</td>\n",
       "      <td>C</td>\n",
       "      <td>adult</td>\n",
       "    </tr>\n",
       "    <tr>\n",
       "      <th>890</th>\n",
       "      <td>891</td>\n",
       "      <td>0</td>\n",
       "      <td>-1</td>\n",
       "      <td>32.0</td>\n",
       "      <td>0</td>\n",
       "      <td>0</td>\n",
       "      <td>7.7500</td>\n",
       "      <td>NaN</td>\n",
       "      <td>Q</td>\n",
       "      <td>adult</td>\n",
       "    </tr>\n",
       "  </tbody>\n",
       "</table>\n",
       "<p>891 rows × 10 columns</p>\n",
       "</div>"
      ],
      "text/plain": [
       "     PassengerId  Survived  Sex   Age  SibSp  Parch     Fare Cabin Embarked  \\\n",
       "0              1         0   -1  22.0      1      0   7.2500   NaN        S   \n",
       "1              2         1    0  38.0      1      0  71.2833   C85        C   \n",
       "2              3         1    0  26.0      0      0   7.9250   NaN        S   \n",
       "3              4         1    0  35.0      1      0  53.1000  C123        S   \n",
       "4              5         0   -1  35.0      0      0   8.0500   NaN        S   \n",
       "..           ...       ...  ...   ...    ...    ...      ...   ...      ...   \n",
       "886          887         0   -1  27.0      0      0  13.0000   NaN        S   \n",
       "887          888         1    0  19.0      0      0  30.0000   B42        S   \n",
       "888          889         0    0  29.0      1      2  23.4500   NaN        S   \n",
       "889          890         1   -1  26.0      0      0  30.0000  C148        C   \n",
       "890          891         0   -1  32.0      0      0   7.7500   NaN        Q   \n",
       "\n",
       "    age_description  \n",
       "0             adult  \n",
       "1             adult  \n",
       "2             adult  \n",
       "3             adult  \n",
       "4             adult  \n",
       "..              ...  \n",
       "886           adult  \n",
       "887           adult  \n",
       "888           adult  \n",
       "889           adult  \n",
       "890           adult  \n",
       "\n",
       "[891 rows x 10 columns]"
      ]
     },
     "execution_count": 19,
     "metadata": {},
     "output_type": "execute_result"
    }
   ],
   "source": [
    "# replace value after search \n",
    "def fun(value):\n",
    "    if value< 18:\n",
    "        return 'child'\n",
    "    else:\n",
    "        return 'adult'\n",
    "\n",
    "df['age_description']=df['Age'].apply(fun)\n",
    "df"
   ]
  },
  {
   "cell_type": "code",
   "execution_count": 20,
   "id": "cb552234",
   "metadata": {
    "execution": {
     "iopub.execute_input": "2025-07-09T17:43:29.444404Z",
     "iopub.status.busy": "2025-07-09T17:43:29.443817Z",
     "iopub.status.idle": "2025-07-09T17:43:29.447966Z",
     "shell.execute_reply": "2025-07-09T17:43:29.447099Z"
    },
    "papermill": {
     "duration": 0.013077,
     "end_time": "2025-07-09T17:43:29.449935",
     "exception": false,
     "start_time": "2025-07-09T17:43:29.436858",
     "status": "completed"
    },
    "tags": []
   },
   "outputs": [],
   "source": [
    "# !pip install scikit-learn"
   ]
  },
  {
   "cell_type": "code",
   "execution_count": 21,
   "id": "52cf754e",
   "metadata": {
    "execution": {
     "iopub.execute_input": "2025-07-09T17:43:29.463738Z",
     "iopub.status.busy": "2025-07-09T17:43:29.463468Z",
     "iopub.status.idle": "2025-07-09T17:43:30.856896Z",
     "shell.execute_reply": "2025-07-09T17:43:30.855801Z"
    },
    "papermill": {
     "duration": 1.402093,
     "end_time": "2025-07-09T17:43:30.858667",
     "exception": false,
     "start_time": "2025-07-09T17:43:29.456574",
     "status": "completed"
    },
    "tags": []
   },
   "outputs": [],
   "source": [
    "from sklearn.preprocessing import LabelEncoder, OrdinalEncoder, OneHotEncoder"
   ]
  },
  {
   "cell_type": "code",
   "execution_count": 22,
   "id": "158d68ce",
   "metadata": {
    "execution": {
     "iopub.execute_input": "2025-07-09T17:43:30.872869Z",
     "iopub.status.busy": "2025-07-09T17:43:30.872465Z",
     "iopub.status.idle": "2025-07-09T17:43:30.878035Z",
     "shell.execute_reply": "2025-07-09T17:43:30.877179Z"
    },
    "papermill": {
     "duration": 0.013915,
     "end_time": "2025-07-09T17:43:30.879527",
     "exception": false,
     "start_time": "2025-07-09T17:43:30.865612",
     "status": "completed"
    },
    "tags": []
   },
   "outputs": [],
   "source": [
    "le=LabelEncoder()\n",
    "df['Sex']=le.fit_transform(df['Sex'])"
   ]
  },
  {
   "cell_type": "code",
   "execution_count": 23,
   "id": "738ac270",
   "metadata": {
    "execution": {
     "iopub.execute_input": "2025-07-09T17:43:30.893048Z",
     "iopub.status.busy": "2025-07-09T17:43:30.892354Z",
     "iopub.status.idle": "2025-07-09T17:43:30.906502Z",
     "shell.execute_reply": "2025-07-09T17:43:30.905400Z"
    },
    "papermill": {
     "duration": 0.022672,
     "end_time": "2025-07-09T17:43:30.908197",
     "exception": false,
     "start_time": "2025-07-09T17:43:30.885525",
     "status": "completed"
    },
    "tags": []
   },
   "outputs": [
    {
     "data": {
      "text/html": [
       "<div>\n",
       "<style scoped>\n",
       "    .dataframe tbody tr th:only-of-type {\n",
       "        vertical-align: middle;\n",
       "    }\n",
       "\n",
       "    .dataframe tbody tr th {\n",
       "        vertical-align: top;\n",
       "    }\n",
       "\n",
       "    .dataframe thead th {\n",
       "        text-align: right;\n",
       "    }\n",
       "</style>\n",
       "<table border=\"1\" class=\"dataframe\">\n",
       "  <thead>\n",
       "    <tr style=\"text-align: right;\">\n",
       "      <th></th>\n",
       "      <th>PassengerId</th>\n",
       "      <th>Survived</th>\n",
       "      <th>Sex</th>\n",
       "      <th>Age</th>\n",
       "      <th>SibSp</th>\n",
       "      <th>Parch</th>\n",
       "      <th>Fare</th>\n",
       "      <th>Cabin</th>\n",
       "      <th>Embarked</th>\n",
       "      <th>age_description</th>\n",
       "    </tr>\n",
       "  </thead>\n",
       "  <tbody>\n",
       "    <tr>\n",
       "      <th>0</th>\n",
       "      <td>1</td>\n",
       "      <td>0</td>\n",
       "      <td>0</td>\n",
       "      <td>22.0</td>\n",
       "      <td>1</td>\n",
       "      <td>0</td>\n",
       "      <td>7.2500</td>\n",
       "      <td>NaN</td>\n",
       "      <td>S</td>\n",
       "      <td>adult</td>\n",
       "    </tr>\n",
       "    <tr>\n",
       "      <th>1</th>\n",
       "      <td>2</td>\n",
       "      <td>1</td>\n",
       "      <td>1</td>\n",
       "      <td>38.0</td>\n",
       "      <td>1</td>\n",
       "      <td>0</td>\n",
       "      <td>71.2833</td>\n",
       "      <td>C85</td>\n",
       "      <td>C</td>\n",
       "      <td>adult</td>\n",
       "    </tr>\n",
       "    <tr>\n",
       "      <th>2</th>\n",
       "      <td>3</td>\n",
       "      <td>1</td>\n",
       "      <td>1</td>\n",
       "      <td>26.0</td>\n",
       "      <td>0</td>\n",
       "      <td>0</td>\n",
       "      <td>7.9250</td>\n",
       "      <td>NaN</td>\n",
       "      <td>S</td>\n",
       "      <td>adult</td>\n",
       "    </tr>\n",
       "    <tr>\n",
       "      <th>3</th>\n",
       "      <td>4</td>\n",
       "      <td>1</td>\n",
       "      <td>1</td>\n",
       "      <td>35.0</td>\n",
       "      <td>1</td>\n",
       "      <td>0</td>\n",
       "      <td>53.1000</td>\n",
       "      <td>C123</td>\n",
       "      <td>S</td>\n",
       "      <td>adult</td>\n",
       "    </tr>\n",
       "    <tr>\n",
       "      <th>4</th>\n",
       "      <td>5</td>\n",
       "      <td>0</td>\n",
       "      <td>0</td>\n",
       "      <td>35.0</td>\n",
       "      <td>0</td>\n",
       "      <td>0</td>\n",
       "      <td>8.0500</td>\n",
       "      <td>NaN</td>\n",
       "      <td>S</td>\n",
       "      <td>adult</td>\n",
       "    </tr>\n",
       "    <tr>\n",
       "      <th>...</th>\n",
       "      <td>...</td>\n",
       "      <td>...</td>\n",
       "      <td>...</td>\n",
       "      <td>...</td>\n",
       "      <td>...</td>\n",
       "      <td>...</td>\n",
       "      <td>...</td>\n",
       "      <td>...</td>\n",
       "      <td>...</td>\n",
       "      <td>...</td>\n",
       "    </tr>\n",
       "    <tr>\n",
       "      <th>886</th>\n",
       "      <td>887</td>\n",
       "      <td>0</td>\n",
       "      <td>0</td>\n",
       "      <td>27.0</td>\n",
       "      <td>0</td>\n",
       "      <td>0</td>\n",
       "      <td>13.0000</td>\n",
       "      <td>NaN</td>\n",
       "      <td>S</td>\n",
       "      <td>adult</td>\n",
       "    </tr>\n",
       "    <tr>\n",
       "      <th>887</th>\n",
       "      <td>888</td>\n",
       "      <td>1</td>\n",
       "      <td>1</td>\n",
       "      <td>19.0</td>\n",
       "      <td>0</td>\n",
       "      <td>0</td>\n",
       "      <td>30.0000</td>\n",
       "      <td>B42</td>\n",
       "      <td>S</td>\n",
       "      <td>adult</td>\n",
       "    </tr>\n",
       "    <tr>\n",
       "      <th>888</th>\n",
       "      <td>889</td>\n",
       "      <td>0</td>\n",
       "      <td>1</td>\n",
       "      <td>29.0</td>\n",
       "      <td>1</td>\n",
       "      <td>2</td>\n",
       "      <td>23.4500</td>\n",
       "      <td>NaN</td>\n",
       "      <td>S</td>\n",
       "      <td>adult</td>\n",
       "    </tr>\n",
       "    <tr>\n",
       "      <th>889</th>\n",
       "      <td>890</td>\n",
       "      <td>1</td>\n",
       "      <td>0</td>\n",
       "      <td>26.0</td>\n",
       "      <td>0</td>\n",
       "      <td>0</td>\n",
       "      <td>30.0000</td>\n",
       "      <td>C148</td>\n",
       "      <td>C</td>\n",
       "      <td>adult</td>\n",
       "    </tr>\n",
       "    <tr>\n",
       "      <th>890</th>\n",
       "      <td>891</td>\n",
       "      <td>0</td>\n",
       "      <td>0</td>\n",
       "      <td>32.0</td>\n",
       "      <td>0</td>\n",
       "      <td>0</td>\n",
       "      <td>7.7500</td>\n",
       "      <td>NaN</td>\n",
       "      <td>Q</td>\n",
       "      <td>adult</td>\n",
       "    </tr>\n",
       "  </tbody>\n",
       "</table>\n",
       "<p>891 rows × 10 columns</p>\n",
       "</div>"
      ],
      "text/plain": [
       "     PassengerId  Survived  Sex   Age  SibSp  Parch     Fare Cabin Embarked  \\\n",
       "0              1         0    0  22.0      1      0   7.2500   NaN        S   \n",
       "1              2         1    1  38.0      1      0  71.2833   C85        C   \n",
       "2              3         1    1  26.0      0      0   7.9250   NaN        S   \n",
       "3              4         1    1  35.0      1      0  53.1000  C123        S   \n",
       "4              5         0    0  35.0      0      0   8.0500   NaN        S   \n",
       "..           ...       ...  ...   ...    ...    ...      ...   ...      ...   \n",
       "886          887         0    0  27.0      0      0  13.0000   NaN        S   \n",
       "887          888         1    1  19.0      0      0  30.0000   B42        S   \n",
       "888          889         0    1  29.0      1      2  23.4500   NaN        S   \n",
       "889          890         1    0  26.0      0      0  30.0000  C148        C   \n",
       "890          891         0    0  32.0      0      0   7.7500   NaN        Q   \n",
       "\n",
       "    age_description  \n",
       "0             adult  \n",
       "1             adult  \n",
       "2             adult  \n",
       "3             adult  \n",
       "4             adult  \n",
       "..              ...  \n",
       "886           adult  \n",
       "887           adult  \n",
       "888           adult  \n",
       "889           adult  \n",
       "890           adult  \n",
       "\n",
       "[891 rows x 10 columns]"
      ]
     },
     "execution_count": 23,
     "metadata": {},
     "output_type": "execute_result"
    }
   ],
   "source": [
    "df"
   ]
  },
  {
   "cell_type": "code",
   "execution_count": 24,
   "id": "2b7c0697",
   "metadata": {
    "execution": {
     "iopub.execute_input": "2025-07-09T17:43:30.922379Z",
     "iopub.status.busy": "2025-07-09T17:43:30.921965Z",
     "iopub.status.idle": "2025-07-09T17:43:30.930426Z",
     "shell.execute_reply": "2025-07-09T17:43:30.929609Z"
    },
    "papermill": {
     "duration": 0.017216,
     "end_time": "2025-07-09T17:43:30.931796",
     "exception": false,
     "start_time": "2025-07-09T17:43:30.914580",
     "status": "completed"
    },
    "tags": []
   },
   "outputs": [],
   "source": [
    "oe = OrdinalEncoder()\n",
    "df['Age'] = oe.fit_transform(df[['Age']])"
   ]
  },
  {
   "cell_type": "code",
   "execution_count": 25,
   "id": "b7e1793c",
   "metadata": {
    "execution": {
     "iopub.execute_input": "2025-07-09T17:43:30.945374Z",
     "iopub.status.busy": "2025-07-09T17:43:30.945086Z",
     "iopub.status.idle": "2025-07-09T17:43:30.959201Z",
     "shell.execute_reply": "2025-07-09T17:43:30.957939Z"
    },
    "papermill": {
     "duration": 0.022625,
     "end_time": "2025-07-09T17:43:30.960848",
     "exception": false,
     "start_time": "2025-07-09T17:43:30.938223",
     "status": "completed"
    },
    "tags": []
   },
   "outputs": [
    {
     "data": {
      "text/html": [
       "<div>\n",
       "<style scoped>\n",
       "    .dataframe tbody tr th:only-of-type {\n",
       "        vertical-align: middle;\n",
       "    }\n",
       "\n",
       "    .dataframe tbody tr th {\n",
       "        vertical-align: top;\n",
       "    }\n",
       "\n",
       "    .dataframe thead th {\n",
       "        text-align: right;\n",
       "    }\n",
       "</style>\n",
       "<table border=\"1\" class=\"dataframe\">\n",
       "  <thead>\n",
       "    <tr style=\"text-align: right;\">\n",
       "      <th></th>\n",
       "      <th>PassengerId</th>\n",
       "      <th>Survived</th>\n",
       "      <th>Sex</th>\n",
       "      <th>Age</th>\n",
       "      <th>SibSp</th>\n",
       "      <th>Parch</th>\n",
       "      <th>Fare</th>\n",
       "      <th>Cabin</th>\n",
       "      <th>Embarked</th>\n",
       "      <th>age_description</th>\n",
       "    </tr>\n",
       "  </thead>\n",
       "  <tbody>\n",
       "    <tr>\n",
       "      <th>0</th>\n",
       "      <td>1</td>\n",
       "      <td>0</td>\n",
       "      <td>0</td>\n",
       "      <td>28.0</td>\n",
       "      <td>1</td>\n",
       "      <td>0</td>\n",
       "      <td>7.2500</td>\n",
       "      <td>NaN</td>\n",
       "      <td>S</td>\n",
       "      <td>adult</td>\n",
       "    </tr>\n",
       "    <tr>\n",
       "      <th>1</th>\n",
       "      <td>2</td>\n",
       "      <td>1</td>\n",
       "      <td>1</td>\n",
       "      <td>51.0</td>\n",
       "      <td>1</td>\n",
       "      <td>0</td>\n",
       "      <td>71.2833</td>\n",
       "      <td>C85</td>\n",
       "      <td>C</td>\n",
       "      <td>adult</td>\n",
       "    </tr>\n",
       "    <tr>\n",
       "      <th>2</th>\n",
       "      <td>3</td>\n",
       "      <td>1</td>\n",
       "      <td>1</td>\n",
       "      <td>34.0</td>\n",
       "      <td>0</td>\n",
       "      <td>0</td>\n",
       "      <td>7.9250</td>\n",
       "      <td>NaN</td>\n",
       "      <td>S</td>\n",
       "      <td>adult</td>\n",
       "    </tr>\n",
       "    <tr>\n",
       "      <th>3</th>\n",
       "      <td>4</td>\n",
       "      <td>1</td>\n",
       "      <td>1</td>\n",
       "      <td>47.0</td>\n",
       "      <td>1</td>\n",
       "      <td>0</td>\n",
       "      <td>53.1000</td>\n",
       "      <td>C123</td>\n",
       "      <td>S</td>\n",
       "      <td>adult</td>\n",
       "    </tr>\n",
       "    <tr>\n",
       "      <th>4</th>\n",
       "      <td>5</td>\n",
       "      <td>0</td>\n",
       "      <td>0</td>\n",
       "      <td>47.0</td>\n",
       "      <td>0</td>\n",
       "      <td>0</td>\n",
       "      <td>8.0500</td>\n",
       "      <td>NaN</td>\n",
       "      <td>S</td>\n",
       "      <td>adult</td>\n",
       "    </tr>\n",
       "    <tr>\n",
       "      <th>...</th>\n",
       "      <td>...</td>\n",
       "      <td>...</td>\n",
       "      <td>...</td>\n",
       "      <td>...</td>\n",
       "      <td>...</td>\n",
       "      <td>...</td>\n",
       "      <td>...</td>\n",
       "      <td>...</td>\n",
       "      <td>...</td>\n",
       "      <td>...</td>\n",
       "    </tr>\n",
       "    <tr>\n",
       "      <th>886</th>\n",
       "      <td>887</td>\n",
       "      <td>0</td>\n",
       "      <td>0</td>\n",
       "      <td>35.0</td>\n",
       "      <td>0</td>\n",
       "      <td>0</td>\n",
       "      <td>13.0000</td>\n",
       "      <td>NaN</td>\n",
       "      <td>S</td>\n",
       "      <td>adult</td>\n",
       "    </tr>\n",
       "    <tr>\n",
       "      <th>887</th>\n",
       "      <td>888</td>\n",
       "      <td>1</td>\n",
       "      <td>1</td>\n",
       "      <td>24.0</td>\n",
       "      <td>0</td>\n",
       "      <td>0</td>\n",
       "      <td>30.0000</td>\n",
       "      <td>B42</td>\n",
       "      <td>S</td>\n",
       "      <td>adult</td>\n",
       "    </tr>\n",
       "    <tr>\n",
       "      <th>888</th>\n",
       "      <td>889</td>\n",
       "      <td>0</td>\n",
       "      <td>1</td>\n",
       "      <td>38.0</td>\n",
       "      <td>1</td>\n",
       "      <td>2</td>\n",
       "      <td>23.4500</td>\n",
       "      <td>NaN</td>\n",
       "      <td>S</td>\n",
       "      <td>adult</td>\n",
       "    </tr>\n",
       "    <tr>\n",
       "      <th>889</th>\n",
       "      <td>890</td>\n",
       "      <td>1</td>\n",
       "      <td>0</td>\n",
       "      <td>34.0</td>\n",
       "      <td>0</td>\n",
       "      <td>0</td>\n",
       "      <td>30.0000</td>\n",
       "      <td>C148</td>\n",
       "      <td>C</td>\n",
       "      <td>adult</td>\n",
       "    </tr>\n",
       "    <tr>\n",
       "      <th>890</th>\n",
       "      <td>891</td>\n",
       "      <td>0</td>\n",
       "      <td>0</td>\n",
       "      <td>42.0</td>\n",
       "      <td>0</td>\n",
       "      <td>0</td>\n",
       "      <td>7.7500</td>\n",
       "      <td>NaN</td>\n",
       "      <td>Q</td>\n",
       "      <td>adult</td>\n",
       "    </tr>\n",
       "  </tbody>\n",
       "</table>\n",
       "<p>891 rows × 10 columns</p>\n",
       "</div>"
      ],
      "text/plain": [
       "     PassengerId  Survived  Sex   Age  SibSp  Parch     Fare Cabin Embarked  \\\n",
       "0              1         0    0  28.0      1      0   7.2500   NaN        S   \n",
       "1              2         1    1  51.0      1      0  71.2833   C85        C   \n",
       "2              3         1    1  34.0      0      0   7.9250   NaN        S   \n",
       "3              4         1    1  47.0      1      0  53.1000  C123        S   \n",
       "4              5         0    0  47.0      0      0   8.0500   NaN        S   \n",
       "..           ...       ...  ...   ...    ...    ...      ...   ...      ...   \n",
       "886          887         0    0  35.0      0      0  13.0000   NaN        S   \n",
       "887          888         1    1  24.0      0      0  30.0000   B42        S   \n",
       "888          889         0    1  38.0      1      2  23.4500   NaN        S   \n",
       "889          890         1    0  34.0      0      0  30.0000  C148        C   \n",
       "890          891         0    0  42.0      0      0   7.7500   NaN        Q   \n",
       "\n",
       "    age_description  \n",
       "0             adult  \n",
       "1             adult  \n",
       "2             adult  \n",
       "3             adult  \n",
       "4             adult  \n",
       "..              ...  \n",
       "886           adult  \n",
       "887           adult  \n",
       "888           adult  \n",
       "889           adult  \n",
       "890           adult  \n",
       "\n",
       "[891 rows x 10 columns]"
      ]
     },
     "execution_count": 25,
     "metadata": {},
     "output_type": "execute_result"
    }
   ],
   "source": [
    "df"
   ]
  },
  {
   "cell_type": "code",
   "execution_count": 26,
   "id": "bbb3b937",
   "metadata": {
    "execution": {
     "iopub.execute_input": "2025-07-09T17:43:30.975711Z",
     "iopub.status.busy": "2025-07-09T17:43:30.975358Z",
     "iopub.status.idle": "2025-07-09T17:43:30.981430Z",
     "shell.execute_reply": "2025-07-09T17:43:30.980566Z"
    },
    "papermill": {
     "duration": 0.014855,
     "end_time": "2025-07-09T17:43:30.982760",
     "exception": false,
     "start_time": "2025-07-09T17:43:30.967905",
     "status": "completed"
    },
    "tags": []
   },
   "outputs": [
    {
     "data": {
      "text/plain": [
       "array(['adult', 'child'], dtype=object)"
      ]
     },
     "execution_count": 26,
     "metadata": {},
     "output_type": "execute_result"
    }
   ],
   "source": [
    "df.age_description.unique()"
   ]
  },
  {
   "cell_type": "code",
   "execution_count": 27,
   "id": "509a82af",
   "metadata": {
    "execution": {
     "iopub.execute_input": "2025-07-09T17:43:30.998470Z",
     "iopub.status.busy": "2025-07-09T17:43:30.998184Z",
     "iopub.status.idle": "2025-07-09T17:43:31.005663Z",
     "shell.execute_reply": "2025-07-09T17:43:31.004847Z"
    },
    "papermill": {
     "duration": 0.017161,
     "end_time": "2025-07-09T17:43:31.007093",
     "exception": false,
     "start_time": "2025-07-09T17:43:30.989932",
     "status": "completed"
    },
    "tags": []
   },
   "outputs": [],
   "source": [
    "ohe= OneHotEncoder()\n",
    "encodeed=ohe.fit_transform(df[['age_description']])"
   ]
  },
  {
   "cell_type": "code",
   "execution_count": 28,
   "id": "7f007b0b",
   "metadata": {
    "execution": {
     "iopub.execute_input": "2025-07-09T17:43:31.021836Z",
     "iopub.status.busy": "2025-07-09T17:43:31.021536Z",
     "iopub.status.idle": "2025-07-09T17:43:31.027214Z",
     "shell.execute_reply": "2025-07-09T17:43:31.026275Z"
    },
    "papermill": {
     "duration": 0.014409,
     "end_time": "2025-07-09T17:43:31.028683",
     "exception": false,
     "start_time": "2025-07-09T17:43:31.014274",
     "status": "completed"
    },
    "tags": []
   },
   "outputs": [
    {
     "data": {
      "text/plain": [
       "array(['age_description_adult', 'age_description_child'], dtype=object)"
      ]
     },
     "execution_count": 28,
     "metadata": {},
     "output_type": "execute_result"
    }
   ],
   "source": [
    "ohe.get_feature_names_out()"
   ]
  },
  {
   "cell_type": "code",
   "execution_count": 29,
   "id": "12f89063",
   "metadata": {
    "execution": {
     "iopub.execute_input": "2025-07-09T17:43:31.043668Z",
     "iopub.status.busy": "2025-07-09T17:43:31.043336Z",
     "iopub.status.idle": "2025-07-09T17:43:31.049860Z",
     "shell.execute_reply": "2025-07-09T17:43:31.048687Z"
    },
    "papermill": {
     "duration": 0.015995,
     "end_time": "2025-07-09T17:43:31.051463",
     "exception": false,
     "start_time": "2025-07-09T17:43:31.035468",
     "status": "completed"
    },
    "tags": []
   },
   "outputs": [],
   "source": [
    "df_new = pd.DataFrame(\n",
    "    encodeed.toarray(), columns = ohe.get_feature_names_out()\n",
    ")"
   ]
  },
  {
   "cell_type": "code",
   "execution_count": 30,
   "id": "ce1e1bd4",
   "metadata": {
    "execution": {
     "iopub.execute_input": "2025-07-09T17:43:31.066615Z",
     "iopub.status.busy": "2025-07-09T17:43:31.066331Z",
     "iopub.status.idle": "2025-07-09T17:43:31.077677Z",
     "shell.execute_reply": "2025-07-09T17:43:31.076738Z"
    },
    "papermill": {
     "duration": 0.021215,
     "end_time": "2025-07-09T17:43:31.079231",
     "exception": false,
     "start_time": "2025-07-09T17:43:31.058016",
     "status": "completed"
    },
    "tags": []
   },
   "outputs": [
    {
     "data": {
      "text/html": [
       "<div>\n",
       "<style scoped>\n",
       "    .dataframe tbody tr th:only-of-type {\n",
       "        vertical-align: middle;\n",
       "    }\n",
       "\n",
       "    .dataframe tbody tr th {\n",
       "        vertical-align: top;\n",
       "    }\n",
       "\n",
       "    .dataframe thead th {\n",
       "        text-align: right;\n",
       "    }\n",
       "</style>\n",
       "<table border=\"1\" class=\"dataframe\">\n",
       "  <thead>\n",
       "    <tr style=\"text-align: right;\">\n",
       "      <th></th>\n",
       "      <th>age_description_adult</th>\n",
       "      <th>age_description_child</th>\n",
       "    </tr>\n",
       "  </thead>\n",
       "  <tbody>\n",
       "    <tr>\n",
       "      <th>0</th>\n",
       "      <td>1.0</td>\n",
       "      <td>0.0</td>\n",
       "    </tr>\n",
       "    <tr>\n",
       "      <th>1</th>\n",
       "      <td>1.0</td>\n",
       "      <td>0.0</td>\n",
       "    </tr>\n",
       "    <tr>\n",
       "      <th>2</th>\n",
       "      <td>1.0</td>\n",
       "      <td>0.0</td>\n",
       "    </tr>\n",
       "    <tr>\n",
       "      <th>3</th>\n",
       "      <td>1.0</td>\n",
       "      <td>0.0</td>\n",
       "    </tr>\n",
       "    <tr>\n",
       "      <th>4</th>\n",
       "      <td>1.0</td>\n",
       "      <td>0.0</td>\n",
       "    </tr>\n",
       "    <tr>\n",
       "      <th>...</th>\n",
       "      <td>...</td>\n",
       "      <td>...</td>\n",
       "    </tr>\n",
       "    <tr>\n",
       "      <th>886</th>\n",
       "      <td>1.0</td>\n",
       "      <td>0.0</td>\n",
       "    </tr>\n",
       "    <tr>\n",
       "      <th>887</th>\n",
       "      <td>1.0</td>\n",
       "      <td>0.0</td>\n",
       "    </tr>\n",
       "    <tr>\n",
       "      <th>888</th>\n",
       "      <td>1.0</td>\n",
       "      <td>0.0</td>\n",
       "    </tr>\n",
       "    <tr>\n",
       "      <th>889</th>\n",
       "      <td>1.0</td>\n",
       "      <td>0.0</td>\n",
       "    </tr>\n",
       "    <tr>\n",
       "      <th>890</th>\n",
       "      <td>1.0</td>\n",
       "      <td>0.0</td>\n",
       "    </tr>\n",
       "  </tbody>\n",
       "</table>\n",
       "<p>891 rows × 2 columns</p>\n",
       "</div>"
      ],
      "text/plain": [
       "     age_description_adult  age_description_child\n",
       "0                      1.0                    0.0\n",
       "1                      1.0                    0.0\n",
       "2                      1.0                    0.0\n",
       "3                      1.0                    0.0\n",
       "4                      1.0                    0.0\n",
       "..                     ...                    ...\n",
       "886                    1.0                    0.0\n",
       "887                    1.0                    0.0\n",
       "888                    1.0                    0.0\n",
       "889                    1.0                    0.0\n",
       "890                    1.0                    0.0\n",
       "\n",
       "[891 rows x 2 columns]"
      ]
     },
     "execution_count": 30,
     "metadata": {},
     "output_type": "execute_result"
    }
   ],
   "source": [
    "df_new"
   ]
  },
  {
   "cell_type": "code",
   "execution_count": null,
   "id": "73de5499",
   "metadata": {
    "papermill": {
     "duration": 0.006812,
     "end_time": "2025-07-09T17:43:31.093282",
     "exception": false,
     "start_time": "2025-07-09T17:43:31.086470",
     "status": "completed"
    },
    "tags": []
   },
   "outputs": [],
   "source": []
  }
 ],
 "metadata": {
  "kaggle": {
   "accelerator": "none",
   "dataSources": [
    {
     "datasetId": 7764244,
     "sourceId": 12317841,
     "sourceType": "datasetVersion"
    }
   ],
   "dockerImageVersionId": 31040,
   "isGpuEnabled": false,
   "isInternetEnabled": true,
   "language": "python",
   "sourceType": "notebook"
  },
  "kernelspec": {
   "display_name": "Python 3",
   "language": "python",
   "name": "python3"
  },
  "language_info": {
   "codemirror_mode": {
    "name": "ipython",
    "version": 3
   },
   "file_extension": ".py",
   "mimetype": "text/x-python",
   "name": "python",
   "nbconvert_exporter": "python",
   "pygments_lexer": "ipython3",
   "version": "3.11.11"
  },
  "papermill": {
   "default_parameters": {},
   "duration": 9.504165,
   "end_time": "2025-07-09T17:43:31.619185",
   "environment_variables": {},
   "exception": null,
   "input_path": "__notebook__.ipynb",
   "output_path": "__notebook__.ipynb",
   "parameters": {},
   "start_time": "2025-07-09T17:43:22.115020",
   "version": "2.6.0"
  }
 },
 "nbformat": 4,
 "nbformat_minor": 5
}
