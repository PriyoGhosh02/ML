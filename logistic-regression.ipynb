{
 "cells": [
  {
   "cell_type": "code",
   "execution_count": 1,
   "id": "26e84aa0",
   "metadata": {
    "_cell_guid": "b1076dfc-b9ad-4769-8c92-a6c4dae69d19",
    "_uuid": "8f2839f25d086af736a60e9eeb907d3b93b6e0e5",
    "execution": {
     "iopub.execute_input": "2025-07-09T17:13:01.835971Z",
     "iopub.status.busy": "2025-07-09T17:13:01.835660Z",
     "iopub.status.idle": "2025-07-09T17:13:01.840687Z",
     "shell.execute_reply": "2025-07-09T17:13:01.839520Z"
    },
    "papermill": {
     "duration": 0.0124,
     "end_time": "2025-07-09T17:13:01.842315",
     "exception": false,
     "start_time": "2025-07-09T17:13:01.829915",
     "status": "completed"
    },
    "tags": []
   },
   "outputs": [],
   "source": [
    "# install sklearn\n",
    "# !pip install scikit-learn"
   ]
  },
  {
   "cell_type": "code",
   "execution_count": 2,
   "id": "c7b98582",
   "metadata": {
    "execution": {
     "iopub.execute_input": "2025-07-09T17:13:01.851595Z",
     "iopub.status.busy": "2025-07-09T17:13:01.851253Z",
     "iopub.status.idle": "2025-07-09T17:13:03.815250Z",
     "shell.execute_reply": "2025-07-09T17:13:03.814329Z"
    },
    "papermill": {
     "duration": 1.970244,
     "end_time": "2025-07-09T17:13:03.816935",
     "exception": false,
     "start_time": "2025-07-09T17:13:01.846691",
     "status": "completed"
    },
    "tags": []
   },
   "outputs": [],
   "source": [
    "# libraries\n",
    "from sklearn.datasets import load_digits\n",
    "from sklearn.model_selection import train_test_split\n",
    "from sklearn.linear_model import LogisticRegression\n",
    "import matplotlib.pyplot as plt"
   ]
  },
  {
   "cell_type": "code",
   "execution_count": 3,
   "id": "ec5963c0",
   "metadata": {
    "execution": {
     "iopub.execute_input": "2025-07-09T17:13:03.826193Z",
     "iopub.status.busy": "2025-07-09T17:13:03.825759Z",
     "iopub.status.idle": "2025-07-09T17:13:03.850513Z",
     "shell.execute_reply": "2025-07-09T17:13:03.849482Z"
    },
    "papermill": {
     "duration": 0.031186,
     "end_time": "2025-07-09T17:13:03.852194",
     "exception": false,
     "start_time": "2025-07-09T17:13:03.821008",
     "status": "completed"
    },
    "tags": []
   },
   "outputs": [],
   "source": [
    "# sklearn dataset load\n",
    "data = load_digits()"
   ]
  },
  {
   "cell_type": "code",
   "execution_count": 4,
   "id": "819ddd04",
   "metadata": {
    "execution": {
     "iopub.execute_input": "2025-07-09T17:13:03.861327Z",
     "iopub.status.busy": "2025-07-09T17:13:03.861016Z",
     "iopub.status.idle": "2025-07-09T17:13:03.865776Z",
     "shell.execute_reply": "2025-07-09T17:13:03.864858Z"
    },
    "papermill": {
     "duration": 0.011357,
     "end_time": "2025-07-09T17:13:03.867300",
     "exception": false,
     "start_time": "2025-07-09T17:13:03.855943",
     "status": "completed"
    },
    "tags": []
   },
   "outputs": [],
   "source": [
    "# X = features/ input and y = target/ output\n",
    "X = data.data\n",
    "y = data.target"
   ]
  },
  {
   "cell_type": "code",
   "execution_count": 5,
   "id": "69772073",
   "metadata": {
    "execution": {
     "iopub.execute_input": "2025-07-09T17:13:03.875856Z",
     "iopub.status.busy": "2025-07-09T17:13:03.875552Z",
     "iopub.status.idle": "2025-07-09T17:13:03.882609Z",
     "shell.execute_reply": "2025-07-09T17:13:03.881718Z"
    },
    "papermill": {
     "duration": 0.013081,
     "end_time": "2025-07-09T17:13:03.884132",
     "exception": false,
     "start_time": "2025-07-09T17:13:03.871051",
     "status": "completed"
    },
    "tags": []
   },
   "outputs": [
    {
     "data": {
      "text/plain": [
       "array([[ 0.,  0.,  5., ...,  0.,  0.,  0.],\n",
       "       [ 0.,  0.,  0., ..., 10.,  0.,  0.],\n",
       "       [ 0.,  0.,  0., ..., 16.,  9.,  0.],\n",
       "       ...,\n",
       "       [ 0.,  0.,  1., ...,  6.,  0.,  0.],\n",
       "       [ 0.,  0.,  2., ..., 12.,  0.,  0.],\n",
       "       [ 0.,  0., 10., ..., 12.,  1.,  0.]])"
      ]
     },
     "execution_count": 5,
     "metadata": {},
     "output_type": "execute_result"
    }
   ],
   "source": [
    "# features/ input preview\n",
    "X"
   ]
  },
  {
   "cell_type": "code",
   "execution_count": 6,
   "id": "e2e7b7ad",
   "metadata": {
    "execution": {
     "iopub.execute_input": "2025-07-09T17:13:03.893441Z",
     "iopub.status.busy": "2025-07-09T17:13:03.893099Z",
     "iopub.status.idle": "2025-07-09T17:13:03.899083Z",
     "shell.execute_reply": "2025-07-09T17:13:03.898017Z"
    },
    "papermill": {
     "duration": 0.012667,
     "end_time": "2025-07-09T17:13:03.901132",
     "exception": false,
     "start_time": "2025-07-09T17:13:03.888465",
     "status": "completed"
    },
    "tags": []
   },
   "outputs": [
    {
     "data": {
      "text/plain": [
       "array([0, 1, 2, ..., 8, 9, 8])"
      ]
     },
     "execution_count": 6,
     "metadata": {},
     "output_type": "execute_result"
    }
   ],
   "source": [
    "# target/ output preview\n",
    "y"
   ]
  },
  {
   "cell_type": "code",
   "execution_count": 7,
   "id": "07c58d56",
   "metadata": {
    "execution": {
     "iopub.execute_input": "2025-07-09T17:13:03.911993Z",
     "iopub.status.busy": "2025-07-09T17:13:03.911672Z",
     "iopub.status.idle": "2025-07-09T17:13:03.919331Z",
     "shell.execute_reply": "2025-07-09T17:13:03.918461Z"
    },
    "papermill": {
     "duration": 0.015446,
     "end_time": "2025-07-09T17:13:03.921116",
     "exception": false,
     "start_time": "2025-07-09T17:13:03.905670",
     "status": "completed"
    },
    "tags": []
   },
   "outputs": [],
   "source": [
    "# split\n",
    "X_train, X_test, y_train, y_test = train_test_split(X,y,train_size=0.8,random_state=81)"
   ]
  },
  {
   "cell_type": "code",
   "execution_count": 8,
   "id": "43a7382b",
   "metadata": {
    "execution": {
     "iopub.execute_input": "2025-07-09T17:13:03.930191Z",
     "iopub.status.busy": "2025-07-09T17:13:03.929896Z",
     "iopub.status.idle": "2025-07-09T17:13:03.934724Z",
     "shell.execute_reply": "2025-07-09T17:13:03.933489Z"
    },
    "papermill": {
     "duration": 0.011409,
     "end_time": "2025-07-09T17:13:03.936542",
     "exception": false,
     "start_time": "2025-07-09T17:13:03.925133",
     "status": "completed"
    },
    "tags": []
   },
   "outputs": [],
   "source": [
    "# model\n",
    "model = LogisticRegression(random_state=81,max_iter=3000)"
   ]
  },
  {
   "cell_type": "code",
   "execution_count": 9,
   "id": "c64d3a15",
   "metadata": {
    "execution": {
     "iopub.execute_input": "2025-07-09T17:13:03.946099Z",
     "iopub.status.busy": "2025-07-09T17:13:03.945793Z",
     "iopub.status.idle": "2025-07-09T17:13:17.542922Z",
     "shell.execute_reply": "2025-07-09T17:13:17.541227Z"
    },
    "papermill": {
     "duration": 13.605881,
     "end_time": "2025-07-09T17:13:17.546658",
     "exception": false,
     "start_time": "2025-07-09T17:13:03.940777",
     "status": "completed"
    },
    "tags": []
   },
   "outputs": [
    {
     "data": {
      "text/html": [
       "<style>#sk-container-id-1 {color: black;background-color: white;}#sk-container-id-1 pre{padding: 0;}#sk-container-id-1 div.sk-toggleable {background-color: white;}#sk-container-id-1 label.sk-toggleable__label {cursor: pointer;display: block;width: 100%;margin-bottom: 0;padding: 0.3em;box-sizing: border-box;text-align: center;}#sk-container-id-1 label.sk-toggleable__label-arrow:before {content: \"▸\";float: left;margin-right: 0.25em;color: #696969;}#sk-container-id-1 label.sk-toggleable__label-arrow:hover:before {color: black;}#sk-container-id-1 div.sk-estimator:hover label.sk-toggleable__label-arrow:before {color: black;}#sk-container-id-1 div.sk-toggleable__content {max-height: 0;max-width: 0;overflow: hidden;text-align: left;background-color: #f0f8ff;}#sk-container-id-1 div.sk-toggleable__content pre {margin: 0.2em;color: black;border-radius: 0.25em;background-color: #f0f8ff;}#sk-container-id-1 input.sk-toggleable__control:checked~div.sk-toggleable__content {max-height: 200px;max-width: 100%;overflow: auto;}#sk-container-id-1 input.sk-toggleable__control:checked~label.sk-toggleable__label-arrow:before {content: \"▾\";}#sk-container-id-1 div.sk-estimator input.sk-toggleable__control:checked~label.sk-toggleable__label {background-color: #d4ebff;}#sk-container-id-1 div.sk-label input.sk-toggleable__control:checked~label.sk-toggleable__label {background-color: #d4ebff;}#sk-container-id-1 input.sk-hidden--visually {border: 0;clip: rect(1px 1px 1px 1px);clip: rect(1px, 1px, 1px, 1px);height: 1px;margin: -1px;overflow: hidden;padding: 0;position: absolute;width: 1px;}#sk-container-id-1 div.sk-estimator {font-family: monospace;background-color: #f0f8ff;border: 1px dotted black;border-radius: 0.25em;box-sizing: border-box;margin-bottom: 0.5em;}#sk-container-id-1 div.sk-estimator:hover {background-color: #d4ebff;}#sk-container-id-1 div.sk-parallel-item::after {content: \"\";width: 100%;border-bottom: 1px solid gray;flex-grow: 1;}#sk-container-id-1 div.sk-label:hover label.sk-toggleable__label {background-color: #d4ebff;}#sk-container-id-1 div.sk-serial::before {content: \"\";position: absolute;border-left: 1px solid gray;box-sizing: border-box;top: 0;bottom: 0;left: 50%;z-index: 0;}#sk-container-id-1 div.sk-serial {display: flex;flex-direction: column;align-items: center;background-color: white;padding-right: 0.2em;padding-left: 0.2em;position: relative;}#sk-container-id-1 div.sk-item {position: relative;z-index: 1;}#sk-container-id-1 div.sk-parallel {display: flex;align-items: stretch;justify-content: center;background-color: white;position: relative;}#sk-container-id-1 div.sk-item::before, #sk-container-id-1 div.sk-parallel-item::before {content: \"\";position: absolute;border-left: 1px solid gray;box-sizing: border-box;top: 0;bottom: 0;left: 50%;z-index: -1;}#sk-container-id-1 div.sk-parallel-item {display: flex;flex-direction: column;z-index: 1;position: relative;background-color: white;}#sk-container-id-1 div.sk-parallel-item:first-child::after {align-self: flex-end;width: 50%;}#sk-container-id-1 div.sk-parallel-item:last-child::after {align-self: flex-start;width: 50%;}#sk-container-id-1 div.sk-parallel-item:only-child::after {width: 0;}#sk-container-id-1 div.sk-dashed-wrapped {border: 1px dashed gray;margin: 0 0.4em 0.5em 0.4em;box-sizing: border-box;padding-bottom: 0.4em;background-color: white;}#sk-container-id-1 div.sk-label label {font-family: monospace;font-weight: bold;display: inline-block;line-height: 1.2em;}#sk-container-id-1 div.sk-label-container {text-align: center;}#sk-container-id-1 div.sk-container {/* jupyter's `normalize.less` sets `[hidden] { display: none; }` but bootstrap.min.css set `[hidden] { display: none !important; }` so we also need the `!important` here to be able to override the default hidden behavior on the sphinx rendered scikit-learn.org. See: https://github.com/scikit-learn/scikit-learn/issues/21755 */display: inline-block !important;position: relative;}#sk-container-id-1 div.sk-text-repr-fallback {display: none;}</style><div id=\"sk-container-id-1\" class=\"sk-top-container\"><div class=\"sk-text-repr-fallback\"><pre>LogisticRegression(max_iter=3000, random_state=81)</pre><b>In a Jupyter environment, please rerun this cell to show the HTML representation or trust the notebook. <br />On GitHub, the HTML representation is unable to render, please try loading this page with nbviewer.org.</b></div><div class=\"sk-container\" hidden><div class=\"sk-item\"><div class=\"sk-estimator sk-toggleable\"><input class=\"sk-toggleable__control sk-hidden--visually\" id=\"sk-estimator-id-1\" type=\"checkbox\" checked><label for=\"sk-estimator-id-1\" class=\"sk-toggleable__label sk-toggleable__label-arrow\">LogisticRegression</label><div class=\"sk-toggleable__content\"><pre>LogisticRegression(max_iter=3000, random_state=81)</pre></div></div></div></div></div>"
      ],
      "text/plain": [
       "LogisticRegression(max_iter=3000, random_state=81)"
      ]
     },
     "execution_count": 9,
     "metadata": {},
     "output_type": "execute_result"
    }
   ],
   "source": [
    "# train\n",
    "model.fit(X_train,y_train)"
   ]
  },
  {
   "cell_type": "code",
   "execution_count": 10,
   "id": "53552576",
   "metadata": {
    "execution": {
     "iopub.execute_input": "2025-07-09T17:13:17.561099Z",
     "iopub.status.busy": "2025-07-09T17:13:17.560782Z",
     "iopub.status.idle": "2025-07-09T17:13:17.571207Z",
     "shell.execute_reply": "2025-07-09T17:13:17.570425Z"
    },
    "papermill": {
     "duration": 0.019664,
     "end_time": "2025-07-09T17:13:17.572945",
     "exception": false,
     "start_time": "2025-07-09T17:13:17.553281",
     "status": "completed"
    },
    "tags": []
   },
   "outputs": [],
   "source": [
    "# prediction\n",
    "y_predicted = model.predict(X_test)"
   ]
  },
  {
   "cell_type": "code",
   "execution_count": 11,
   "id": "f88d5a38",
   "metadata": {
    "execution": {
     "iopub.execute_input": "2025-07-09T17:13:17.587458Z",
     "iopub.status.busy": "2025-07-09T17:13:17.586806Z",
     "iopub.status.idle": "2025-07-09T17:13:17.595528Z",
     "shell.execute_reply": "2025-07-09T17:13:17.594788Z"
    },
    "papermill": {
     "duration": 0.017715,
     "end_time": "2025-07-09T17:13:17.597242",
     "exception": false,
     "start_time": "2025-07-09T17:13:17.579527",
     "status": "completed"
    },
    "tags": []
   },
   "outputs": [
    {
     "data": {
      "text/plain": [
       "0.9611111111111111"
      ]
     },
     "execution_count": 11,
     "metadata": {},
     "output_type": "execute_result"
    }
   ],
   "source": [
    "# accuray\n",
    "model.score(X_test,y_test)"
   ]
  },
  {
   "cell_type": "code",
   "execution_count": 12,
   "id": "38402315",
   "metadata": {
    "execution": {
     "iopub.execute_input": "2025-07-09T17:13:17.612598Z",
     "iopub.status.busy": "2025-07-09T17:13:17.611362Z",
     "iopub.status.idle": "2025-07-09T17:13:17.619560Z",
     "shell.execute_reply": "2025-07-09T17:13:17.618836Z"
    },
    "papermill": {
     "duration": 0.017542,
     "end_time": "2025-07-09T17:13:17.621503",
     "exception": false,
     "start_time": "2025-07-09T17:13:17.603961",
     "status": "completed"
    },
    "tags": []
   },
   "outputs": [
    {
     "data": {
      "text/plain": [
       "1"
      ]
     },
     "execution_count": 12,
     "metadata": {},
     "output_type": "execute_result"
    }
   ],
   "source": [
    "1"
   ]
  },
  {
   "cell_type": "code",
   "execution_count": 13,
   "id": "fd45f673",
   "metadata": {
    "execution": {
     "iopub.execute_input": "2025-07-09T17:13:17.636405Z",
     "iopub.status.busy": "2025-07-09T17:13:17.635781Z",
     "iopub.status.idle": "2025-07-09T17:13:17.645012Z",
     "shell.execute_reply": "2025-07-09T17:13:17.644188Z"
    },
    "papermill": {
     "duration": 0.018207,
     "end_time": "2025-07-09T17:13:17.646504",
     "exception": false,
     "start_time": "2025-07-09T17:13:17.628297",
     "status": "completed"
    },
    "tags": []
   },
   "outputs": [
    {
     "data": {
      "text/plain": [
       "array([[ 0.,  0.,  3., 14., 16., 14.,  0.,  0.],\n",
       "       [ 0.,  0., 13., 13., 13., 16.,  2.,  0.],\n",
       "       [ 0.,  0.,  1.,  0.,  9., 15.,  0.,  0.],\n",
       "       [ 0.,  0.,  9., 12., 15., 16., 10.,  0.],\n",
       "       [ 0.,  4., 16., 16., 16., 11.,  3.,  0.],\n",
       "       [ 0.,  0.,  4.,  9., 14.,  2.,  0.,  0.],\n",
       "       [ 0.,  0.,  2., 15.,  9.,  0.,  0.,  0.],\n",
       "       [ 0.,  0.,  4., 13.,  1.,  0.,  0.,  0.]])"
      ]
     },
     "execution_count": 13,
     "metadata": {},
     "output_type": "execute_result"
    }
   ],
   "source": [
    "# reshape for plotting\n",
    "X[81].reshape(8,8)"
   ]
  },
  {
   "cell_type": "code",
   "execution_count": 14,
   "id": "c6ace13c",
   "metadata": {
    "execution": {
     "iopub.execute_input": "2025-07-09T17:13:17.656110Z",
     "iopub.status.busy": "2025-07-09T17:13:17.655822Z",
     "iopub.status.idle": "2025-07-09T17:13:17.939986Z",
     "shell.execute_reply": "2025-07-09T17:13:17.938683Z"
    },
    "papermill": {
     "duration": 0.290835,
     "end_time": "2025-07-09T17:13:17.941526",
     "exception": false,
     "start_time": "2025-07-09T17:13:17.650691",
     "status": "completed"
    },
    "tags": []
   },
   "outputs": [
    {
     "data": {
      "text/plain": [
       "<matplotlib.image.AxesImage at 0x786b44c29f50>"
      ]
     },
     "execution_count": 14,
     "metadata": {},
     "output_type": "execute_result"
    },
    {
     "data": {
      "image/png": "[encoded data removed]",
      "text/plain": [
       "<Figure size 640x480 with 1 Axes>"
      ]
     },
     "metadata": {},
     "output_type": "display_data"
    }
   ],
   "source": [
    "# image show\n",
    "plt.imshow(X[81].reshape(8,8),cmap='gray')"
   ]
  },
  {
   "cell_type": "code",
   "execution_count": 15,
   "id": "d7025eb6",
   "metadata": {
    "execution": {
     "iopub.execute_input": "2025-07-09T17:13:17.952548Z",
     "iopub.status.busy": "2025-07-09T17:13:17.952194Z",
     "iopub.status.idle": "2025-07-09T17:13:17.958163Z",
     "shell.execute_reply": "2025-07-09T17:13:17.957355Z"
    },
    "papermill": {
     "duration": 0.012653,
     "end_time": "2025-07-09T17:13:17.959428",
     "exception": false,
     "start_time": "2025-07-09T17:13:17.946775",
     "status": "completed"
    },
    "tags": []
   },
   "outputs": [
    {
     "data": {
      "text/plain": [
       "7"
      ]
     },
     "execution_count": 15,
     "metadata": {},
     "output_type": "execute_result"
    }
   ],
   "source": [
    "# target\n",
    "y[81]"
   ]
  },
  {
   "cell_type": "code",
   "execution_count": 16,
   "id": "1624502d",
   "metadata": {
    "execution": {
     "iopub.execute_input": "2025-07-09T17:13:17.970915Z",
     "iopub.status.busy": "2025-07-09T17:13:17.970112Z",
     "iopub.status.idle": "2025-07-09T17:13:17.976448Z",
     "shell.execute_reply": "2025-07-09T17:13:17.975528Z"
    },
    "papermill": {
     "duration": 0.013921,
     "end_time": "2025-07-09T17:13:17.978055",
     "exception": false,
     "start_time": "2025-07-09T17:13:17.964134",
     "status": "completed"
    },
    "tags": []
   },
   "outputs": [
    {
     "data": {
      "text/plain": [
       "array([7])"
      ]
     },
     "execution_count": 16,
     "metadata": {},
     "output_type": "execute_result"
    }
   ],
   "source": [
    "# model predict\n",
    "model.predict(X[[81]])"
   ]
  },
  {
   "cell_type": "code",
   "execution_count": 17,
   "id": "5bc17842",
   "metadata": {
    "execution": {
     "iopub.execute_input": "2025-07-09T17:13:17.988883Z",
     "iopub.status.busy": "2025-07-09T17:13:17.988545Z",
     "iopub.status.idle": "2025-07-09T17:13:17.992800Z",
     "shell.execute_reply": "2025-07-09T17:13:17.991888Z"
    },
    "papermill": {
     "duration": 0.011349,
     "end_time": "2025-07-09T17:13:17.994307",
     "exception": false,
     "start_time": "2025-07-09T17:13:17.982958",
     "status": "completed"
    },
    "tags": []
   },
   "outputs": [],
   "source": [
    "import joblib"
   ]
  },
  {
   "cell_type": "code",
   "execution_count": 18,
   "id": "aebe0067",
   "metadata": {
    "execution": {
     "iopub.execute_input": "2025-07-09T17:13:18.006471Z",
     "iopub.status.busy": "2025-07-09T17:13:18.006110Z",
     "iopub.status.idle": "2025-07-09T17:13:18.013715Z",
     "shell.execute_reply": "2025-07-09T17:13:18.012852Z"
    },
    "papermill": {
     "duration": 0.016075,
     "end_time": "2025-07-09T17:13:18.015209",
     "exception": false,
     "start_time": "2025-07-09T17:13:17.999134",
     "status": "completed"
    },
    "tags": []
   },
   "outputs": [
    {
     "data": {
      "text/plain": [
       "['logistic_regression.joblib']"
      ]
     },
     "execution_count": 18,
     "metadata": {},
     "output_type": "execute_result"
    }
   ],
   "source": [
    "joblib.dump(model, 'logistic_regression.joblib')"
   ]
  },
  {
   "cell_type": "code",
   "execution_count": 19,
   "id": "4081ea29",
   "metadata": {
    "execution": {
     "iopub.execute_input": "2025-07-09T17:13:18.027009Z",
     "iopub.status.busy": "2025-07-09T17:13:18.026705Z",
     "iopub.status.idle": "2025-07-09T17:13:18.032004Z",
     "shell.execute_reply": "2025-07-09T17:13:18.031126Z"
    },
    "papermill": {
     "duration": 0.013571,
     "end_time": "2025-07-09T17:13:18.033939",
     "exception": false,
     "start_time": "2025-07-09T17:13:18.020368",
     "status": "completed"
    },
    "tags": []
   },
   "outputs": [],
   "source": [
    "old_model = joblib.load('logistic_regression.joblib')"
   ]
  },
  {
   "cell_type": "code",
   "execution_count": 20,
   "id": "d713907e",
   "metadata": {
    "execution": {
     "iopub.execute_input": "2025-07-09T17:13:18.046994Z",
     "iopub.status.busy": "2025-07-09T17:13:18.046030Z",
     "iopub.status.idle": "2025-07-09T17:13:18.052914Z",
     "shell.execute_reply": "2025-07-09T17:13:18.051476Z"
    },
    "papermill": {
     "duration": 0.014945,
     "end_time": "2025-07-09T17:13:18.054535",
     "exception": false,
     "start_time": "2025-07-09T17:13:18.039590",
     "status": "completed"
    },
    "tags": []
   },
   "outputs": [
    {
     "data": {
      "text/plain": [
       "array([1])"
      ]
     },
     "execution_count": 20,
     "metadata": {},
     "output_type": "execute_result"
    }
   ],
   "source": [
    "old_model.predict(X_train[[100]])"
   ]
  },
  {
   "cell_type": "code",
   "execution_count": 21,
   "id": "c60d4f76",
   "metadata": {
    "execution": {
     "iopub.execute_input": "2025-07-09T17:13:18.065468Z",
     "iopub.status.busy": "2025-07-09T17:13:18.065101Z",
     "iopub.status.idle": "2025-07-09T17:13:18.070789Z",
     "shell.execute_reply": "2025-07-09T17:13:18.069949Z"
    },
    "papermill": {
     "duration": 0.012667,
     "end_time": "2025-07-09T17:13:18.072281",
     "exception": false,
     "start_time": "2025-07-09T17:13:18.059614",
     "status": "completed"
    },
    "tags": []
   },
   "outputs": [
    {
     "data": {
      "text/plain": [
       "1"
      ]
     },
     "execution_count": 21,
     "metadata": {},
     "output_type": "execute_result"
    }
   ],
   "source": [
    "1"
   ]
  }
 ],
 "metadata": {
  "kaggle": {
   "accelerator": "none",
   "dataSources": [],
   "dockerImageVersionId": 31089,
   "isGpuEnabled": false,
   "isInternetEnabled": true,
   "language": "python",
   "sourceType": "notebook"
  },
  "kernelspec": {
   "display_name": "Python 3",
   "language": "python",
   "name": "python3"
  },
  "language_info": {
   "codemirror_mode": {
    "name": "ipython",
    "version": 3
   },
   "file_extension": ".py",
   "mimetype": "text/x-python",
   "name": "python",
   "nbconvert_exporter": "python",
   "pygments_lexer": "ipython3",
   "version": "3.11.13"
  },
  "papermill": {
   "default_parameters": {},
   "duration": 21.751102,
   "end_time": "2025-07-09T17:13:18.698599",
   "environment_variables": {},
   "exception": null,
   "input_path": "__notebook__.ipynb",
   "output_path": "__notebook__.ipynb",
   "parameters": {},
   "start_time": "2025-07-09T17:12:56.947497",
   "version": "2.6.0"
  }
 },
 "nbformat": 4,
 "nbformat_minor": 5
}
