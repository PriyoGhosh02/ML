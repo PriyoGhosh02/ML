{
 "cells": [
  {
   "cell_type": "code",
   "execution_count": 1,
   "id": "6868bfe7",
   "metadata": {
    "_cell_guid": "b1076dfc-b9ad-4769-8c92-a6c4dae69d19",
    "_uuid": "8f2839f25d086af736a60e9eeb907d3b93b6e0e5",
    "execution": {
     "iopub.execute_input": "2025-07-20T10:05:06.610335Z",
     "iopub.status.busy": "2025-07-20T10:05:06.610024Z",
     "iopub.status.idle": "2025-07-20T10:05:08.542031Z",
     "shell.execute_reply": "2025-07-20T10:05:08.541034Z"
    },
    "papermill": {
     "duration": 1.93867,
     "end_time": "2025-07-20T10:05:08.543855",
     "exception": false,
     "start_time": "2025-07-20T10:05:06.605185",
     "status": "completed"
    },
    "tags": []
   },
   "outputs": [],
   "source": [
    "from sklearn.datasets import load_iris\n",
    "from sklearn.model_selection import train_test_split\n",
    "from sklearn.neighbors import KNeighborsClassifier\n",
    "from sklearn.metrics import confusion_matrix, ConfusionMatrixDisplay, classification_report\n",
    "import matplotlib.pyplot as plt"
   ]
  },
  {
   "cell_type": "code",
   "execution_count": 2,
   "id": "3b1257a1",
   "metadata": {
    "execution": {
     "iopub.execute_input": "2025-07-20T10:05:08.551914Z",
     "iopub.status.busy": "2025-07-20T10:05:08.551213Z",
     "iopub.status.idle": "2025-07-20T10:05:08.560770Z",
     "shell.execute_reply": "2025-07-20T10:05:08.559952Z"
    },
    "papermill": {
     "duration": 0.01513,
     "end_time": "2025-07-20T10:05:08.562407",
     "exception": false,
     "start_time": "2025-07-20T10:05:08.547277",
     "status": "completed"
    },
    "tags": []
   },
   "outputs": [],
   "source": [
    "data=load_iris()"
   ]
  },
  {
   "cell_type": "code",
   "execution_count": 3,
   "id": "3d6f309c",
   "metadata": {
    "execution": {
     "iopub.execute_input": "2025-07-20T10:05:08.570106Z",
     "iopub.status.busy": "2025-07-20T10:05:08.569789Z",
     "iopub.status.idle": "2025-07-20T10:05:08.574082Z",
     "shell.execute_reply": "2025-07-20T10:05:08.573250Z"
    },
    "papermill": {
     "duration": 0.009876,
     "end_time": "2025-07-20T10:05:08.575500",
     "exception": false,
     "start_time": "2025-07-20T10:05:08.565624",
     "status": "completed"
    },
    "tags": []
   },
   "outputs": [],
   "source": [
    "X=data.data\n",
    "y=data.target"
   ]
  },
  {
   "cell_type": "code",
   "execution_count": 4,
   "id": "25b22423",
   "metadata": {
    "execution": {
     "iopub.execute_input": "2025-07-20T10:05:08.582760Z",
     "iopub.status.busy": "2025-07-20T10:05:08.582420Z",
     "iopub.status.idle": "2025-07-20T10:05:08.589237Z",
     "shell.execute_reply": "2025-07-20T10:05:08.588452Z"
    },
    "papermill": {
     "duration": 0.012088,
     "end_time": "2025-07-20T10:05:08.590659",
     "exception": false,
     "start_time": "2025-07-20T10:05:08.578571",
     "status": "completed"
    },
    "tags": []
   },
   "outputs": [],
   "source": [
    "X_train,X_test,y_train,y_test=train_test_split(X,y,test_size=0.2, random_state=81)"
   ]
  },
  {
   "cell_type": "code",
   "execution_count": 5,
   "id": "2753884d",
   "metadata": {
    "execution": {
     "iopub.execute_input": "2025-07-20T10:05:08.598289Z",
     "iopub.status.busy": "2025-07-20T10:05:08.597585Z",
     "iopub.status.idle": "2025-07-20T10:05:08.602185Z",
     "shell.execute_reply": "2025-07-20T10:05:08.601228Z"
    },
    "papermill": {
     "duration": 0.009869,
     "end_time": "2025-07-20T10:05:08.603622",
     "exception": false,
     "start_time": "2025-07-20T10:05:08.593753",
     "status": "completed"
    },
    "tags": []
   },
   "outputs": [],
   "source": [
    "# min max normalization\n",
    "X=(X-X.min())/(X.max()-X.min())"
   ]
  },
  {
   "cell_type": "code",
   "execution_count": 6,
   "id": "0b365370",
   "metadata": {
    "execution": {
     "iopub.execute_input": "2025-07-20T10:05:08.610899Z",
     "iopub.status.busy": "2025-07-20T10:05:08.610562Z",
     "iopub.status.idle": "2025-07-20T10:05:08.617308Z",
     "shell.execute_reply": "2025-07-20T10:05:08.616447Z"
    },
    "papermill": {
     "duration": 0.011797,
     "end_time": "2025-07-20T10:05:08.618595",
     "exception": false,
     "start_time": "2025-07-20T10:05:08.606798",
     "status": "completed"
    },
    "tags": []
   },
   "outputs": [
    {
     "data": {
      "text/plain": [
       "array([[0.64102564, 0.43589744, 0.16666667, 0.01282051],\n",
       "       [0.61538462, 0.37179487, 0.16666667, 0.01282051],\n",
       "       [0.58974359, 0.3974359 , 0.15384615, 0.01282051],\n",
       "       [0.57692308, 0.38461538, 0.17948718, 0.01282051],\n",
       "       [0.62820513, 0.44871795, 0.16666667, 0.01282051]])"
      ]
     },
     "execution_count": 6,
     "metadata": {},
     "output_type": "execute_result"
    }
   ],
   "source": [
    "X[:5]"
   ]
  },
  {
   "cell_type": "code",
   "execution_count": 7,
   "id": "e4c1eead",
   "metadata": {
    "execution": {
     "iopub.execute_input": "2025-07-20T10:05:08.625866Z",
     "iopub.status.busy": "2025-07-20T10:05:08.625562Z",
     "iopub.status.idle": "2025-07-20T10:05:08.629411Z",
     "shell.execute_reply": "2025-07-20T10:05:08.628742Z"
    },
    "papermill": {
     "duration": 0.009048,
     "end_time": "2025-07-20T10:05:08.630794",
     "exception": false,
     "start_time": "2025-07-20T10:05:08.621746",
     "status": "completed"
    },
    "tags": []
   },
   "outputs": [],
   "source": [
    "model=KNeighborsClassifier( n_neighbors=5)"
   ]
  },
  {
   "cell_type": "code",
   "execution_count": 8,
   "id": "60ce7435",
   "metadata": {
    "execution": {
     "iopub.execute_input": "2025-07-20T10:05:08.638745Z",
     "iopub.status.busy": "2025-07-20T10:05:08.638394Z",
     "iopub.status.idle": "2025-07-20T10:05:08.653039Z",
     "shell.execute_reply": "2025-07-20T10:05:08.652154Z"
    },
    "papermill": {
     "duration": 0.02034,
     "end_time": "2025-07-20T10:05:08.654613",
     "exception": false,
     "start_time": "2025-07-20T10:05:08.634273",
     "status": "completed"
    },
    "tags": []
   },
   "outputs": [
    {
     "data": {
      "text/html": [
       "<style>#sk-container-id-1 {color: black;background-color: white;}#sk-container-id-1 pre{padding: 0;}#sk-container-id-1 div.sk-toggleable {background-color: white;}#sk-container-id-1 label.sk-toggleable__label {cursor: pointer;display: block;width: 100%;margin-bottom: 0;padding: 0.3em;box-sizing: border-box;text-align: center;}#sk-container-id-1 label.sk-toggleable__label-arrow:before {content: \"▸\";float: left;margin-right: 0.25em;color: #696969;}#sk-container-id-1 label.sk-toggleable__label-arrow:hover:before {color: black;}#sk-container-id-1 div.sk-estimator:hover label.sk-toggleable__label-arrow:before {color: black;}#sk-container-id-1 div.sk-toggleable__content {max-height: 0;max-width: 0;overflow: hidden;text-align: left;background-color: #f0f8ff;}#sk-container-id-1 div.sk-toggleable__content pre {margin: 0.2em;color: black;border-radius: 0.25em;background-color: #f0f8ff;}#sk-container-id-1 input.sk-toggleable__control:checked~div.sk-toggleable__content {max-height: 200px;max-width: 100%;overflow: auto;}#sk-container-id-1 input.sk-toggleable__control:checked~label.sk-toggleable__label-arrow:before {content: \"▾\";}#sk-container-id-1 div.sk-estimator input.sk-toggleable__control:checked~label.sk-toggleable__label {background-color: #d4ebff;}#sk-container-id-1 div.sk-label input.sk-toggleable__control:checked~label.sk-toggleable__label {background-color: #d4ebff;}#sk-container-id-1 input.sk-hidden--visually {border: 0;clip: rect(1px 1px 1px 1px);clip: rect(1px, 1px, 1px, 1px);height: 1px;margin: -1px;overflow: hidden;padding: 0;position: absolute;width: 1px;}#sk-container-id-1 div.sk-estimator {font-family: monospace;background-color: #f0f8ff;border: 1px dotted black;border-radius: 0.25em;box-sizing: border-box;margin-bottom: 0.5em;}#sk-container-id-1 div.sk-estimator:hover {background-color: #d4ebff;}#sk-container-id-1 div.sk-parallel-item::after {content: \"\";width: 100%;border-bottom: 1px solid gray;flex-grow: 1;}#sk-container-id-1 div.sk-label:hover label.sk-toggleable__label {background-color: #d4ebff;}#sk-container-id-1 div.sk-serial::before {content: \"\";position: absolute;border-left: 1px solid gray;box-sizing: border-box;top: 0;bottom: 0;left: 50%;z-index: 0;}#sk-container-id-1 div.sk-serial {display: flex;flex-direction: column;align-items: center;background-color: white;padding-right: 0.2em;padding-left: 0.2em;position: relative;}#sk-container-id-1 div.sk-item {position: relative;z-index: 1;}#sk-container-id-1 div.sk-parallel {display: flex;align-items: stretch;justify-content: center;background-color: white;position: relative;}#sk-container-id-1 div.sk-item::before, #sk-container-id-1 div.sk-parallel-item::before {content: \"\";position: absolute;border-left: 1px solid gray;box-sizing: border-box;top: 0;bottom: 0;left: 50%;z-index: -1;}#sk-container-id-1 div.sk-parallel-item {display: flex;flex-direction: column;z-index: 1;position: relative;background-color: white;}#sk-container-id-1 div.sk-parallel-item:first-child::after {align-self: flex-end;width: 50%;}#sk-container-id-1 div.sk-parallel-item:last-child::after {align-self: flex-start;width: 50%;}#sk-container-id-1 div.sk-parallel-item:only-child::after {width: 0;}#sk-container-id-1 div.sk-dashed-wrapped {border: 1px dashed gray;margin: 0 0.4em 0.5em 0.4em;box-sizing: border-box;padding-bottom: 0.4em;background-color: white;}#sk-container-id-1 div.sk-label label {font-family: monospace;font-weight: bold;display: inline-block;line-height: 1.2em;}#sk-container-id-1 div.sk-label-container {text-align: center;}#sk-container-id-1 div.sk-container {/* jupyter's `normalize.less` sets `[hidden] { display: none; }` but bootstrap.min.css set `[hidden] { display: none !important; }` so we also need the `!important` here to be able to override the default hidden behavior on the sphinx rendered scikit-learn.org. See: https://github.com/scikit-learn/scikit-learn/issues/21755 */display: inline-block !important;position: relative;}#sk-container-id-1 div.sk-text-repr-fallback {display: none;}</style><div id=\"sk-container-id-1\" class=\"sk-top-container\"><div class=\"sk-text-repr-fallback\"><pre>KNeighborsClassifier()</pre><b>In a Jupyter environment, please rerun this cell to show the HTML representation or trust the notebook. <br />On GitHub, the HTML representation is unable to render, please try loading this page with nbviewer.org.</b></div><div class=\"sk-container\" hidden><div class=\"sk-item\"><div class=\"sk-estimator sk-toggleable\"><input class=\"sk-toggleable__control sk-hidden--visually\" id=\"sk-estimator-id-1\" type=\"checkbox\" checked><label for=\"sk-estimator-id-1\" class=\"sk-toggleable__label sk-toggleable__label-arrow\">KNeighborsClassifier</label><div class=\"sk-toggleable__content\"><pre>KNeighborsClassifier()</pre></div></div></div></div></div>"
      ],
      "text/plain": [
       "KNeighborsClassifier()"
      ]
     },
     "execution_count": 8,
     "metadata": {},
     "output_type": "execute_result"
    }
   ],
   "source": [
    "model.fit(X_train,y_train)"
   ]
  },
  {
   "cell_type": "code",
   "execution_count": 9,
   "id": "80393d38",
   "metadata": {
    "execution": {
     "iopub.execute_input": "2025-07-20T10:05:08.663936Z",
     "iopub.status.busy": "2025-07-20T10:05:08.663050Z",
     "iopub.status.idle": "2025-07-20T10:05:08.676974Z",
     "shell.execute_reply": "2025-07-20T10:05:08.676036Z"
    },
    "papermill": {
     "duration": 0.02035,
     "end_time": "2025-07-20T10:05:08.678530",
     "exception": false,
     "start_time": "2025-07-20T10:05:08.658180",
     "status": "completed"
    },
    "tags": []
   },
   "outputs": [
    {
     "data": {
      "text/plain": [
       "array([2, 0, 2, 1, 0, 0, 1, 0, 2, 0, 1, 1, 2, 2, 0, 2, 0, 0, 0, 1, 1, 1,\n",
       "       0, 0, 1, 1, 1, 2, 0, 0])"
      ]
     },
     "execution_count": 9,
     "metadata": {},
     "output_type": "execute_result"
    }
   ],
   "source": [
    "y_pred=model.predict(X_test)\n",
    "y_pred"
   ]
  },
  {
   "cell_type": "code",
   "execution_count": 10,
   "id": "099df57c",
   "metadata": {
    "execution": {
     "iopub.execute_input": "2025-07-20T10:05:08.687548Z",
     "iopub.status.busy": "2025-07-20T10:05:08.686832Z",
     "iopub.status.idle": "2025-07-20T10:05:08.697173Z",
     "shell.execute_reply": "2025-07-20T10:05:08.696277Z"
    },
    "papermill": {
     "duration": 0.01605,
     "end_time": "2025-07-20T10:05:08.698643",
     "exception": false,
     "start_time": "2025-07-20T10:05:08.682593",
     "status": "completed"
    },
    "tags": []
   },
   "outputs": [
    {
     "data": {
      "text/plain": [
       "1.0"
      ]
     },
     "execution_count": 10,
     "metadata": {},
     "output_type": "execute_result"
    }
   ],
   "source": [
    "model.score(X_test,y_test)"
   ]
  },
  {
   "cell_type": "markdown",
   "id": "9d20e356",
   "metadata": {
    "papermill": {
     "duration": 0.004097,
     "end_time": "2025-07-20T10:05:08.706270",
     "exception": false,
     "start_time": "2025-07-20T10:05:08.702173",
     "status": "completed"
    },
    "tags": []
   },
   "source": [
    "# confusion matrix"
   ]
  },
  {
   "cell_type": "code",
   "execution_count": 11,
   "id": "05a06599",
   "metadata": {
    "execution": {
     "iopub.execute_input": "2025-07-20T10:05:08.714049Z",
     "iopub.status.busy": "2025-07-20T10:05:08.713693Z",
     "iopub.status.idle": "2025-07-20T10:05:08.721468Z",
     "shell.execute_reply": "2025-07-20T10:05:08.720573Z"
    },
    "papermill": {
     "duration": 0.013393,
     "end_time": "2025-07-20T10:05:08.722973",
     "exception": false,
     "start_time": "2025-07-20T10:05:08.709580",
     "status": "completed"
    },
    "tags": []
   },
   "outputs": [],
   "source": [
    "cm= confusion_matrix(y_test,y_pred)"
   ]
  },
  {
   "cell_type": "code",
   "execution_count": 12,
   "id": "7516e9ac",
   "metadata": {
    "execution": {
     "iopub.execute_input": "2025-07-20T10:05:08.731228Z",
     "iopub.status.busy": "2025-07-20T10:05:08.730919Z",
     "iopub.status.idle": "2025-07-20T10:05:09.095560Z",
     "shell.execute_reply": "2025-07-20T10:05:09.094464Z"
    },
    "papermill": {
     "duration": 0.370609,
     "end_time": "2025-07-20T10:05:09.097150",
     "exception": false,
     "start_time": "2025-07-20T10:05:08.726541",
     "status": "completed"
    },
    "tags": []
   },
   "outputs": [
    {
     "data": {
      "text/plain": [
       "<sklearn.metrics._plot.confusion_matrix.ConfusionMatrixDisplay at 0x7ae6ab5ce9d0>"
      ]
     },
     "execution_count": 12,
     "metadata": {},
     "output_type": "execute_result"
    },
    {
     "data": {
      "image/png": "[encoded data removed]",
      "text/plain": [
       "<Figure size 640x480 with 2 Axes>"
      ]
     },
     "metadata": {},
     "output_type": "display_data"
    }
   ],
   "source": [
    "ConfusionMatrixDisplay(cm, display_labels=data.target_names).plot(cmap=\"Reds\")"
   ]
  },
  {
   "cell_type": "code",
   "execution_count": 13,
   "id": "b9e74ef3",
   "metadata": {
    "execution": {
     "iopub.execute_input": "2025-07-20T10:05:09.106365Z",
     "iopub.status.busy": "2025-07-20T10:05:09.106063Z",
     "iopub.status.idle": "2025-07-20T10:05:09.116643Z",
     "shell.execute_reply": "2025-07-20T10:05:09.115752Z"
    },
    "papermill": {
     "duration": 0.016878,
     "end_time": "2025-07-20T10:05:09.118136",
     "exception": false,
     "start_time": "2025-07-20T10:05:09.101258",
     "status": "completed"
    },
    "tags": []
   },
   "outputs": [],
   "source": [
    "report = classification_report(y_test, y_pred, target_names=data.target_names)"
   ]
  },
  {
   "cell_type": "code",
   "execution_count": 14,
   "id": "d43ef69e",
   "metadata": {
    "execution": {
     "iopub.execute_input": "2025-07-20T10:05:09.126837Z",
     "iopub.status.busy": "2025-07-20T10:05:09.126524Z",
     "iopub.status.idle": "2025-07-20T10:05:09.131131Z",
     "shell.execute_reply": "2025-07-20T10:05:09.130104Z"
    },
    "papermill": {
     "duration": 0.010583,
     "end_time": "2025-07-20T10:05:09.132645",
     "exception": false,
     "start_time": "2025-07-20T10:05:09.122062",
     "status": "completed"
    },
    "tags": []
   },
   "outputs": [
    {
     "name": "stdout",
     "output_type": "stream",
     "text": [
      "              precision    recall  f1-score   support\n",
      "\n",
      "      setosa       1.00      1.00      1.00        13\n",
      "  versicolor       1.00      1.00      1.00        10\n",
      "   virginica       1.00      1.00      1.00         7\n",
      "\n",
      "    accuracy                           1.00        30\n",
      "   macro avg       1.00      1.00      1.00        30\n",
      "weighted avg       1.00      1.00      1.00        30\n",
      "\n"
     ]
    }
   ],
   "source": [
    "print(report)"
   ]
  },
  {
   "cell_type": "code",
   "execution_count": null,
   "id": "aa8f43e2",
   "metadata": {
    "papermill": {
     "duration": 0.003832,
     "end_time": "2025-07-20T10:05:09.140504",
     "exception": false,
     "start_time": "2025-07-20T10:05:09.136672",
     "status": "completed"
    },
    "tags": []
   },
   "outputs": [],
   "source": []
  }
 ],
 "metadata": {
  "kaggle": {
   "accelerator": "none",
   "dataSources": [],
   "dockerImageVersionId": 31089,
   "isGpuEnabled": false,
   "isInternetEnabled": true,
   "language": "python",
   "sourceType": "notebook"
  },
  "kernelspec": {
   "display_name": "Python 3",
   "language": "python",
   "name": "python3"
  },
  "language_info": {
   "codemirror_mode": {
    "name": "ipython",
    "version": 3
   },
   "file_extension": ".py",
   "mimetype": "text/x-python",
   "name": "python",
   "nbconvert_exporter": "python",
   "pygments_lexer": "ipython3",
   "version": "3.11.13"
  },
  "papermill": {
   "default_parameters": {},
   "duration": 7.670342,
   "end_time": "2025-07-20T10:05:09.663389",
   "environment_variables": {},
   "exception": null,
   "input_path": "__notebook__.ipynb",
   "output_path": "__notebook__.ipynb",
   "parameters": {},
   "start_time": "2025-07-20T10:05:01.993047",
   "version": "2.6.0"
  }
 },
 "nbformat": 4,
 "nbformat_minor": 5
}
