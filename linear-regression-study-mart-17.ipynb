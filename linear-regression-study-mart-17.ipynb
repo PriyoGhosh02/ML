{
 "cells": [
  {
   "cell_type": "code",
   "execution_count": 1,
   "id": "014a255a",
   "metadata": {
    "_cell_guid": "b1076dfc-b9ad-4769-8c92-a6c4dae69d19",
    "_uuid": "8f2839f25d086af736a60e9eeb907d3b93b6e0e5",
    "execution": {
     "iopub.execute_input": "2025-07-09T17:49:06.976564Z",
     "iopub.status.busy": "2025-07-09T17:49:06.976213Z",
     "iopub.status.idle": "2025-07-09T17:49:08.850892Z",
     "shell.execute_reply": "2025-07-09T17:49:08.850079Z"
    },
    "papermill": {
     "duration": 1.88211,
     "end_time": "2025-07-09T17:49:08.852625",
     "exception": false,
     "start_time": "2025-07-09T17:49:06.970515",
     "status": "completed"
    },
    "tags": []
   },
   "outputs": [],
   "source": [
    "import pandas as pd\n",
    "import matplotlib.pyplot as plt\n"
   ]
  },
  {
   "cell_type": "code",
   "execution_count": 2,
   "id": "a244a517",
   "metadata": {
    "execution": {
     "iopub.execute_input": "2025-07-09T17:49:08.860771Z",
     "iopub.status.busy": "2025-07-09T17:49:08.860362Z",
     "iopub.status.idle": "2025-07-09T17:49:08.900422Z",
     "shell.execute_reply": "2025-07-09T17:49:08.899502Z"
    },
    "papermill": {
     "duration": 0.045699,
     "end_time": "2025-07-09T17:49:08.902042",
     "exception": false,
     "start_time": "2025-07-09T17:49:08.856343",
     "status": "completed"
    },
    "tags": []
   },
   "outputs": [
    {
     "data": {
      "text/html": [
       "<div>\n",
       "<style scoped>\n",
       "    .dataframe tbody tr th:only-of-type {\n",
       "        vertical-align: middle;\n",
       "    }\n",
       "\n",
       "    .dataframe tbody tr th {\n",
       "        vertical-align: top;\n",
       "    }\n",
       "\n",
       "    .dataframe thead th {\n",
       "        text-align: right;\n",
       "    }\n",
       "</style>\n",
       "<table border=\"1\" class=\"dataframe\">\n",
       "  <thead>\n",
       "    <tr style=\"text-align: right;\">\n",
       "      <th></th>\n",
       "      <th>Date</th>\n",
       "      <th>Starting (USD)</th>\n",
       "      <th>Ending (USD)</th>\n",
       "    </tr>\n",
       "  </thead>\n",
       "  <tbody>\n",
       "    <tr>\n",
       "      <th>0</th>\n",
       "      <td>01.01.24</td>\n",
       "      <td>16800</td>\n",
       "      <td>16500</td>\n",
       "    </tr>\n",
       "    <tr>\n",
       "      <th>1</th>\n",
       "      <td>01.12.23</td>\n",
       "      <td>15900</td>\n",
       "      <td>16100</td>\n",
       "    </tr>\n",
       "    <tr>\n",
       "      <th>2</th>\n",
       "      <td>01.11.23</td>\n",
       "      <td>15800</td>\n",
       "      <td>15300</td>\n",
       "    </tr>\n",
       "    <tr>\n",
       "      <th>3</th>\n",
       "      <td>01.10.23</td>\n",
       "      <td>16100</td>\n",
       "      <td>16200</td>\n",
       "    </tr>\n",
       "    <tr>\n",
       "      <th>4</th>\n",
       "      <td>01.09.23</td>\n",
       "      <td>16300</td>\n",
       "      <td>15700</td>\n",
       "    </tr>\n",
       "  </tbody>\n",
       "</table>\n",
       "</div>"
      ],
      "text/plain": [
       "       Date  Starting (USD)  Ending (USD)\n",
       "0  01.01.24           16800         16500\n",
       "1  01.12.23           15900         16100\n",
       "2  01.11.23           15800         15300\n",
       "3  01.10.23           16100         16200\n",
       "4  01.09.23           16300         15700"
      ]
     },
     "execution_count": 2,
     "metadata": {},
     "output_type": "execute_result"
    }
   ],
   "source": [
    "df=pd.read_csv(\"/kaggle/input/salary/nasdaq100.csv\", sep=\";\")\n",
    "df.head()\n"
   ]
  },
  {
   "cell_type": "code",
   "execution_count": 3,
   "id": "31ed3517",
   "metadata": {
    "execution": {
     "iopub.execute_input": "2025-07-09T17:49:08.911078Z",
     "iopub.status.busy": "2025-07-09T17:49:08.910358Z",
     "iopub.status.idle": "2025-07-09T17:49:08.920954Z",
     "shell.execute_reply": "2025-07-09T17:49:08.920157Z"
    },
    "papermill": {
     "duration": 0.016482,
     "end_time": "2025-07-09T17:49:08.922343",
     "exception": false,
     "start_time": "2025-07-09T17:49:08.905861",
     "status": "completed"
    },
    "tags": []
   },
   "outputs": [
    {
     "data": {
      "text/plain": [
       "Date              0\n",
       "Starting (USD)    0\n",
       "Ending (USD)      0\n",
       "dtype: int64"
      ]
     },
     "execution_count": 3,
     "metadata": {},
     "output_type": "execute_result"
    }
   ],
   "source": [
    "df.isnull().sum()"
   ]
  },
  {
   "cell_type": "code",
   "execution_count": 4,
   "id": "264507e4",
   "metadata": {
    "execution": {
     "iopub.execute_input": "2025-07-09T17:49:08.931279Z",
     "iopub.status.busy": "2025-07-09T17:49:08.930356Z",
     "iopub.status.idle": "2025-07-09T17:49:08.944574Z",
     "shell.execute_reply": "2025-07-09T17:49:08.943736Z"
    },
    "papermill": {
     "duration": 0.020213,
     "end_time": "2025-07-09T17:49:08.946130",
     "exception": false,
     "start_time": "2025-07-09T17:49:08.925917",
     "status": "completed"
    },
    "tags": []
   },
   "outputs": [
    {
     "data": {
      "text/html": [
       "<div>\n",
       "<style scoped>\n",
       "    .dataframe tbody tr th:only-of-type {\n",
       "        vertical-align: middle;\n",
       "    }\n",
       "\n",
       "    .dataframe tbody tr th {\n",
       "        vertical-align: top;\n",
       "    }\n",
       "\n",
       "    .dataframe thead th {\n",
       "        text-align: right;\n",
       "    }\n",
       "</style>\n",
       "<table border=\"1\" class=\"dataframe\">\n",
       "  <thead>\n",
       "    <tr style=\"text-align: right;\">\n",
       "      <th></th>\n",
       "      <th>Starting (USD)</th>\n",
       "      <th>Ending (USD)</th>\n",
       "    </tr>\n",
       "  </thead>\n",
       "  <tbody>\n",
       "    <tr>\n",
       "      <th>0</th>\n",
       "      <td>16800</td>\n",
       "      <td>16500</td>\n",
       "    </tr>\n",
       "    <tr>\n",
       "      <th>1</th>\n",
       "      <td>15900</td>\n",
       "      <td>16100</td>\n",
       "    </tr>\n",
       "    <tr>\n",
       "      <th>2</th>\n",
       "      <td>15800</td>\n",
       "      <td>15300</td>\n",
       "    </tr>\n",
       "    <tr>\n",
       "      <th>3</th>\n",
       "      <td>16100</td>\n",
       "      <td>16200</td>\n",
       "    </tr>\n",
       "    <tr>\n",
       "      <th>4</th>\n",
       "      <td>16300</td>\n",
       "      <td>15700</td>\n",
       "    </tr>\n",
       "  </tbody>\n",
       "</table>\n",
       "</div>"
      ],
      "text/plain": [
       "   Starting (USD)  Ending (USD)\n",
       "0           16800         16500\n",
       "1           15900         16100\n",
       "2           15800         15300\n",
       "3           16100         16200\n",
       "4           16300         15700"
      ]
     },
     "execution_count": 4,
     "metadata": {},
     "output_type": "execute_result"
    }
   ],
   "source": [
    "df=df.drop(columns=['Date'])\n",
    "df.head()"
   ]
  },
  {
   "cell_type": "code",
   "execution_count": 5,
   "id": "213e6daf",
   "metadata": {
    "execution": {
     "iopub.execute_input": "2025-07-09T17:49:08.955316Z",
     "iopub.status.busy": "2025-07-09T17:49:08.954516Z",
     "iopub.status.idle": "2025-07-09T17:49:09.270477Z",
     "shell.execute_reply": "2025-07-09T17:49:09.269660Z"
    },
    "papermill": {
     "duration": 0.322039,
     "end_time": "2025-07-09T17:49:09.272094",
     "exception": false,
     "start_time": "2025-07-09T17:49:08.950055",
     "status": "completed"
    },
    "tags": []
   },
   "outputs": [
    {
     "data": {
      "text/plain": [
       "Text(0.5, 1.0, 'salary')"
      ]
     },
     "execution_count": 5,
     "metadata": {},
     "output_type": "execute_result"
    },
    {
     "data": {
      "image/png": "[encoded data removed]",
      "text/plain": [
       "<Figure size 640x480 with 1 Axes>"
      ]
     },
     "metadata": {},
     "output_type": "display_data"
    }
   ],
   "source": [
    "plt.scatter(df['Starting (USD)'], df['Ending (USD)'])\n",
    "plt.xlabel('starting')\n",
    "plt.ylabel('ending')\n",
    "plt.title('salary')"
   ]
  },
  {
   "cell_type": "code",
   "execution_count": 6,
   "id": "b9e42ff3",
   "metadata": {
    "execution": {
     "iopub.execute_input": "2025-07-09T17:49:09.282288Z",
     "iopub.status.busy": "2025-07-09T17:49:09.281500Z",
     "iopub.status.idle": "2025-07-09T17:49:09.286510Z",
     "shell.execute_reply": "2025-07-09T17:49:09.285859Z"
    },
    "papermill": {
     "duration": 0.011435,
     "end_time": "2025-07-09T17:49:09.287875",
     "exception": false,
     "start_time": "2025-07-09T17:49:09.276440",
     "status": "completed"
    },
    "tags": []
   },
   "outputs": [],
   "source": [
    "y=df['Ending (USD)']\n",
    "x=df.drop('Ending (USD)', axis=1)"
   ]
  },
  {
   "cell_type": "code",
   "execution_count": 7,
   "id": "1de6f5d1",
   "metadata": {
    "execution": {
     "iopub.execute_input": "2025-07-09T17:49:09.297182Z",
     "iopub.status.busy": "2025-07-09T17:49:09.296849Z",
     "iopub.status.idle": "2025-07-09T17:49:10.941336Z",
     "shell.execute_reply": "2025-07-09T17:49:10.940183Z"
    },
    "papermill": {
     "duration": 1.651182,
     "end_time": "2025-07-09T17:49:10.943214",
     "exception": false,
     "start_time": "2025-07-09T17:49:09.292032",
     "status": "completed"
    },
    "tags": []
   },
   "outputs": [],
   "source": [
    "from sklearn.linear_model import LinearRegression\n"
   ]
  },
  {
   "cell_type": "code",
   "execution_count": 8,
   "id": "e57201f8",
   "metadata": {
    "execution": {
     "iopub.execute_input": "2025-07-09T17:49:10.952801Z",
     "iopub.status.busy": "2025-07-09T17:49:10.952318Z",
     "iopub.status.idle": "2025-07-09T17:49:10.956897Z",
     "shell.execute_reply": "2025-07-09T17:49:10.956139Z"
    },
    "papermill": {
     "duration": 0.010881,
     "end_time": "2025-07-09T17:49:10.958224",
     "exception": false,
     "start_time": "2025-07-09T17:49:10.947343",
     "status": "completed"
    },
    "tags": []
   },
   "outputs": [],
   "source": [
    "reg=LinearRegression()"
   ]
  },
  {
   "cell_type": "code",
   "execution_count": 9,
   "id": "bce22267",
   "metadata": {
    "execution": {
     "iopub.execute_input": "2025-07-09T17:49:10.968656Z",
     "iopub.status.busy": "2025-07-09T17:49:10.967622Z",
     "iopub.status.idle": "2025-07-09T17:49:11.185165Z",
     "shell.execute_reply": "2025-07-09T17:49:11.184278Z"
    },
    "papermill": {
     "duration": 0.224574,
     "end_time": "2025-07-09T17:49:11.187130",
     "exception": false,
     "start_time": "2025-07-09T17:49:10.962556",
     "status": "completed"
    },
    "tags": []
   },
   "outputs": [
    {
     "data": {
      "text/plain": [
       "Text(0.5, 1.0, 'salary')"
      ]
     },
     "execution_count": 9,
     "metadata": {},
     "output_type": "execute_result"
    },
    {
     "data": {
      "image/png": "[encoded data removed]",
      "text/plain": [
       "<Figure size 640x480 with 1 Axes>"
      ]
     },
     "metadata": {},
     "output_type": "display_data"
    }
   ],
   "source": [
    "plt.scatter(x.mean(), y.mean(), color='red')\n",
    "plt.scatter(df['Starting (USD)'], df['Ending (USD)'])\n",
    "plt.xlabel('starting')\n",
    "plt.ylabel('ending')\n",
    "plt.title('salary')"
   ]
  },
  {
   "cell_type": "code",
   "execution_count": 10,
   "id": "5b720113",
   "metadata": {
    "execution": {
     "iopub.execute_input": "2025-07-09T17:49:11.197979Z",
     "iopub.status.busy": "2025-07-09T17:49:11.197671Z",
     "iopub.status.idle": "2025-07-09T17:49:11.240899Z",
     "shell.execute_reply": "2025-07-09T17:49:11.240054Z"
    },
    "papermill": {
     "duration": 0.050227,
     "end_time": "2025-07-09T17:49:11.242354",
     "exception": false,
     "start_time": "2025-07-09T17:49:11.192127",
     "status": "completed"
    },
    "tags": []
   },
   "outputs": [
    {
     "data": {
      "text/html": [
       "<style>#sk-container-id-1 {color: black;background-color: white;}#sk-container-id-1 pre{padding: 0;}#sk-container-id-1 div.sk-toggleable {background-color: white;}#sk-container-id-1 label.sk-toggleable__label {cursor: pointer;display: block;width: 100%;margin-bottom: 0;padding: 0.3em;box-sizing: border-box;text-align: center;}#sk-container-id-1 label.sk-toggleable__label-arrow:before {content: \"▸\";float: left;margin-right: 0.25em;color: #696969;}#sk-container-id-1 label.sk-toggleable__label-arrow:hover:before {color: black;}#sk-container-id-1 div.sk-estimator:hover label.sk-toggleable__label-arrow:before {color: black;}#sk-container-id-1 div.sk-toggleable__content {max-height: 0;max-width: 0;overflow: hidden;text-align: left;background-color: #f0f8ff;}#sk-container-id-1 div.sk-toggleable__content pre {margin: 0.2em;color: black;border-radius: 0.25em;background-color: #f0f8ff;}#sk-container-id-1 input.sk-toggleable__control:checked~div.sk-toggleable__content {max-height: 200px;max-width: 100%;overflow: auto;}#sk-container-id-1 input.sk-toggleable__control:checked~label.sk-toggleable__label-arrow:before {content: \"▾\";}#sk-container-id-1 div.sk-estimator input.sk-toggleable__control:checked~label.sk-toggleable__label {background-color: #d4ebff;}#sk-container-id-1 div.sk-label input.sk-toggleable__control:checked~label.sk-toggleable__label {background-color: #d4ebff;}#sk-container-id-1 input.sk-hidden--visually {border: 0;clip: rect(1px 1px 1px 1px);clip: rect(1px, 1px, 1px, 1px);height: 1px;margin: -1px;overflow: hidden;padding: 0;position: absolute;width: 1px;}#sk-container-id-1 div.sk-estimator {font-family: monospace;background-color: #f0f8ff;border: 1px dotted black;border-radius: 0.25em;box-sizing: border-box;margin-bottom: 0.5em;}#sk-container-id-1 div.sk-estimator:hover {background-color: #d4ebff;}#sk-container-id-1 div.sk-parallel-item::after {content: \"\";width: 100%;border-bottom: 1px solid gray;flex-grow: 1;}#sk-container-id-1 div.sk-label:hover label.sk-toggleable__label {background-color: #d4ebff;}#sk-container-id-1 div.sk-serial::before {content: \"\";position: absolute;border-left: 1px solid gray;box-sizing: border-box;top: 0;bottom: 0;left: 50%;z-index: 0;}#sk-container-id-1 div.sk-serial {display: flex;flex-direction: column;align-items: center;background-color: white;padding-right: 0.2em;padding-left: 0.2em;position: relative;}#sk-container-id-1 div.sk-item {position: relative;z-index: 1;}#sk-container-id-1 div.sk-parallel {display: flex;align-items: stretch;justify-content: center;background-color: white;position: relative;}#sk-container-id-1 div.sk-item::before, #sk-container-id-1 div.sk-parallel-item::before {content: \"\";position: absolute;border-left: 1px solid gray;box-sizing: border-box;top: 0;bottom: 0;left: 50%;z-index: -1;}#sk-container-id-1 div.sk-parallel-item {display: flex;flex-direction: column;z-index: 1;position: relative;background-color: white;}#sk-container-id-1 div.sk-parallel-item:first-child::after {align-self: flex-end;width: 50%;}#sk-container-id-1 div.sk-parallel-item:last-child::after {align-self: flex-start;width: 50%;}#sk-container-id-1 div.sk-parallel-item:only-child::after {width: 0;}#sk-container-id-1 div.sk-dashed-wrapped {border: 1px dashed gray;margin: 0 0.4em 0.5em 0.4em;box-sizing: border-box;padding-bottom: 0.4em;background-color: white;}#sk-container-id-1 div.sk-label label {font-family: monospace;font-weight: bold;display: inline-block;line-height: 1.2em;}#sk-container-id-1 div.sk-label-container {text-align: center;}#sk-container-id-1 div.sk-container {/* jupyter's `normalize.less` sets `[hidden] { display: none; }` but bootstrap.min.css set `[hidden] { display: none !important; }` so we also need the `!important` here to be able to override the default hidden behavior on the sphinx rendered scikit-learn.org. See: https://github.com/scikit-learn/scikit-learn/issues/21755 */display: inline-block !important;position: relative;}#sk-container-id-1 div.sk-text-repr-fallback {display: none;}</style><div id=\"sk-container-id-1\" class=\"sk-top-container\"><div class=\"sk-text-repr-fallback\"><pre>LinearRegression()</pre><b>In a Jupyter environment, please rerun this cell to show the HTML representation or trust the notebook. <br />On GitHub, the HTML representation is unable to render, please try loading this page with nbviewer.org.</b></div><div class=\"sk-container\" hidden><div class=\"sk-item\"><div class=\"sk-estimator sk-toggleable\"><input class=\"sk-toggleable__control sk-hidden--visually\" id=\"sk-estimator-id-1\" type=\"checkbox\" checked><label for=\"sk-estimator-id-1\" class=\"sk-toggleable__label sk-toggleable__label-arrow\">LinearRegression</label><div class=\"sk-toggleable__content\"><pre>LinearRegression()</pre></div></div></div></div></div>"
      ],
      "text/plain": [
       "LinearRegression()"
      ]
     },
     "execution_count": 10,
     "metadata": {},
     "output_type": "execute_result"
    }
   ],
   "source": [
    "reg.fit(x,y)"
   ]
  },
  {
   "cell_type": "code",
   "execution_count": 11,
   "id": "4eb113ff",
   "metadata": {
    "execution": {
     "iopub.execute_input": "2025-07-09T17:49:11.253240Z",
     "iopub.status.busy": "2025-07-09T17:49:11.252888Z",
     "iopub.status.idle": "2025-07-09T17:49:11.258768Z",
     "shell.execute_reply": "2025-07-09T17:49:11.258059Z"
    },
    "papermill": {
     "duration": 0.01278,
     "end_time": "2025-07-09T17:49:11.260042",
     "exception": false,
     "start_time": "2025-07-09T17:49:11.247262",
     "status": "completed"
    },
    "tags": []
   },
   "outputs": [
    {
     "data": {
      "text/plain": [
       "array([16304.0105628])"
      ]
     },
     "execution_count": 11,
     "metadata": {},
     "output_type": "execute_result"
    }
   ],
   "source": [
    "m=reg.coef_\n",
    "c=reg.intercept_ #which point cross the y axis this slope\n",
    "m*16700+c\n"
   ]
  },
  {
   "cell_type": "code",
   "execution_count": 12,
   "id": "ce1b1d5b",
   "metadata": {
    "execution": {
     "iopub.execute_input": "2025-07-09T17:49:11.271633Z",
     "iopub.status.busy": "2025-07-09T17:49:11.270777Z",
     "iopub.status.idle": "2025-07-09T17:49:11.279522Z",
     "shell.execute_reply": "2025-07-09T17:49:11.278629Z"
    },
    "papermill": {
     "duration": 0.015988,
     "end_time": "2025-07-09T17:49:11.280998",
     "exception": false,
     "start_time": "2025-07-09T17:49:11.265010",
     "status": "completed"
    },
    "tags": []
   },
   "outputs": [
    {
     "name": "stderr",
     "output_type": "stream",
     "text": [
      "/usr/local/lib/python3.11/dist-packages/sklearn/base.py:439: UserWarning: X does not have valid feature names, but LinearRegression was fitted with feature names\n",
      "  warnings.warn(\n"
     ]
    },
    {
     "data": {
      "text/plain": [
       "array([16304.0105628])"
      ]
     },
     "execution_count": 12,
     "metadata": {},
     "output_type": "execute_result"
    }
   ],
   "source": [
    "# another way to predict\n",
    "reg.predict([[16700]])"
   ]
  },
  {
   "cell_type": "code",
   "execution_count": 13,
   "id": "5482a857",
   "metadata": {
    "execution": {
     "iopub.execute_input": "2025-07-09T17:49:11.292174Z",
     "iopub.status.busy": "2025-07-09T17:49:11.291880Z",
     "iopub.status.idle": "2025-07-09T17:49:11.303167Z",
     "shell.execute_reply": "2025-07-09T17:49:11.302150Z"
    },
    "papermill": {
     "duration": 0.018829,
     "end_time": "2025-07-09T17:49:11.304829",
     "exception": false,
     "start_time": "2025-07-09T17:49:11.286000",
     "status": "completed"
    },
    "tags": []
   },
   "outputs": [
    {
     "data": {
      "text/html": [
       "<div>\n",
       "<style scoped>\n",
       "    .dataframe tbody tr th:only-of-type {\n",
       "        vertical-align: middle;\n",
       "    }\n",
       "\n",
       "    .dataframe tbody tr th {\n",
       "        vertical-align: top;\n",
       "    }\n",
       "\n",
       "    .dataframe thead th {\n",
       "        text-align: right;\n",
       "    }\n",
       "</style>\n",
       "<table border=\"1\" class=\"dataframe\">\n",
       "  <thead>\n",
       "    <tr style=\"text-align: right;\">\n",
       "      <th></th>\n",
       "      <th>Starting (USD)</th>\n",
       "      <th>Ending (USD)</th>\n",
       "      <th>predict_y</th>\n",
       "    </tr>\n",
       "  </thead>\n",
       "  <tbody>\n",
       "    <tr>\n",
       "      <th>0</th>\n",
       "      <td>16800</td>\n",
       "      <td>16500</td>\n",
       "      <td>16369.268856</td>\n",
       "    </tr>\n",
       "    <tr>\n",
       "      <th>1</th>\n",
       "      <td>15900</td>\n",
       "      <td>16100</td>\n",
       "      <td>15781.944215</td>\n",
       "    </tr>\n",
       "    <tr>\n",
       "      <th>2</th>\n",
       "      <td>15800</td>\n",
       "      <td>15300</td>\n",
       "      <td>15716.685922</td>\n",
       "    </tr>\n",
       "    <tr>\n",
       "      <th>3</th>\n",
       "      <td>16100</td>\n",
       "      <td>16200</td>\n",
       "      <td>15912.460802</td>\n",
       "    </tr>\n",
       "    <tr>\n",
       "      <th>4</th>\n",
       "      <td>16300</td>\n",
       "      <td>15700</td>\n",
       "      <td>16042.977389</td>\n",
       "    </tr>\n",
       "    <tr>\n",
       "      <th>5</th>\n",
       "      <td>16800</td>\n",
       "      <td>16400</td>\n",
       "      <td>16369.268856</td>\n",
       "    </tr>\n",
       "    <tr>\n",
       "      <th>6</th>\n",
       "      <td>15900</td>\n",
       "      <td>16200</td>\n",
       "      <td>15781.944215</td>\n",
       "    </tr>\n",
       "    <tr>\n",
       "      <th>7</th>\n",
       "      <td>15800</td>\n",
       "      <td>15500</td>\n",
       "      <td>15716.685922</td>\n",
       "    </tr>\n",
       "    <tr>\n",
       "      <th>8</th>\n",
       "      <td>16150</td>\n",
       "      <td>16100</td>\n",
       "      <td>15945.089949</td>\n",
       "    </tr>\n",
       "    <tr>\n",
       "      <th>9</th>\n",
       "      <td>16300</td>\n",
       "      <td>15800</td>\n",
       "      <td>16042.977389</td>\n",
       "    </tr>\n",
       "    <tr>\n",
       "      <th>10</th>\n",
       "      <td>16200</td>\n",
       "      <td>16200</td>\n",
       "      <td>15977.719096</td>\n",
       "    </tr>\n",
       "    <tr>\n",
       "      <th>11</th>\n",
       "      <td>16300</td>\n",
       "      <td>15700</td>\n",
       "      <td>16042.977389</td>\n",
       "    </tr>\n",
       "  </tbody>\n",
       "</table>\n",
       "</div>"
      ],
      "text/plain": [
       "    Starting (USD)  Ending (USD)     predict_y\n",
       "0            16800         16500  16369.268856\n",
       "1            15900         16100  15781.944215\n",
       "2            15800         15300  15716.685922\n",
       "3            16100         16200  15912.460802\n",
       "4            16300         15700  16042.977389\n",
       "5            16800         16400  16369.268856\n",
       "6            15900         16200  15781.944215\n",
       "7            15800         15500  15716.685922\n",
       "8            16150         16100  15945.089949\n",
       "9            16300         15800  16042.977389\n",
       "10           16200         16200  15977.719096\n",
       "11           16300         15700  16042.977389"
      ]
     },
     "execution_count": 13,
     "metadata": {},
     "output_type": "execute_result"
    }
   ],
   "source": [
    "df['predict_y']=reg.predict(x)\n",
    "df"
   ]
  },
  {
   "cell_type": "code",
   "execution_count": 14,
   "id": "dbfd6518",
   "metadata": {
    "execution": {
     "iopub.execute_input": "2025-07-09T17:49:11.319706Z",
     "iopub.status.busy": "2025-07-09T17:49:11.318560Z",
     "iopub.status.idle": "2025-07-09T17:49:11.547974Z",
     "shell.execute_reply": "2025-07-09T17:49:11.547076Z"
    },
    "papermill": {
     "duration": 0.237446,
     "end_time": "2025-07-09T17:49:11.549480",
     "exception": false,
     "start_time": "2025-07-09T17:49:11.312034",
     "status": "completed"
    },
    "tags": []
   },
   "outputs": [
    {
     "data": {
      "text/plain": [
       "Text(0.5, 1.0, 'salary')"
      ]
     },
     "execution_count": 14,
     "metadata": {},
     "output_type": "execute_result"
    },
    {
     "data": {
      "image/png": "[encoded data removed]",
      "text/plain": [
       "<Figure size 640x480 with 1 Axes>"
      ]
     },
     "metadata": {},
     "output_type": "display_data"
    }
   ],
   "source": [
    "plt.plot(x,reg.predict(x))\n",
    "#check\n",
    "plt.scatter(x.mean(), y.mean(), color='red')\n",
    "plt.scatter(df['Starting (USD)'], df['Ending (USD)'])\n",
    "plt.scatter(df['Starting (USD)'], reg.predict(x))\n",
    "plt.xlabel('starting')\n",
    "plt.ylabel('ending')\n",
    "plt.title('salary')"
   ]
  },
  {
   "cell_type": "code",
   "execution_count": 15,
   "id": "a9b384d1",
   "metadata": {
    "execution": {
     "iopub.execute_input": "2025-07-09T17:49:11.562629Z",
     "iopub.status.busy": "2025-07-09T17:49:11.562169Z",
     "iopub.status.idle": "2025-07-09T17:49:11.569648Z",
     "shell.execute_reply": "2025-07-09T17:49:11.568609Z"
    },
    "papermill": {
     "duration": 0.015804,
     "end_time": "2025-07-09T17:49:11.571187",
     "exception": false,
     "start_time": "2025-07-09T17:49:11.555383",
     "status": "completed"
    },
    "tags": []
   },
   "outputs": [
    {
     "data": {
      "text/plain": [
       "80411.23397700385"
      ]
     },
     "execution_count": 15,
     "metadata": {},
     "output_type": "execute_result"
    }
   ],
   "source": [
    "# error calculation mse\n",
    "from sklearn.metrics import mean_squared_error\n",
    "mse=mean_squared_error(df['Ending (USD)'], df['predict_y'])\n",
    "mse"
   ]
  },
  {
   "cell_type": "code",
   "execution_count": 16,
   "id": "9f3ad136",
   "metadata": {
    "execution": {
     "iopub.execute_input": "2025-07-09T17:49:11.584188Z",
     "iopub.status.busy": "2025-07-09T17:49:11.583878Z",
     "iopub.status.idle": "2025-07-09T17:49:11.591869Z",
     "shell.execute_reply": "2025-07-09T17:49:11.590875Z"
    },
    "papermill": {
     "duration": 0.016087,
     "end_time": "2025-07-09T17:49:11.593328",
     "exception": false,
     "start_time": "2025-07-09T17:49:11.577241",
     "status": "completed"
    },
    "tags": []
   },
   "outputs": [
    {
     "data": {
      "text/plain": [
       "0.3577804940272571"
      ]
     },
     "execution_count": 16,
     "metadata": {},
     "output_type": "execute_result"
    }
   ],
   "source": [
    "reg.score(x,y)"
   ]
  },
  {
   "cell_type": "code",
   "execution_count": null,
   "id": "9171ea18",
   "metadata": {
    "papermill": {
     "duration": 0.007613,
     "end_time": "2025-07-09T17:49:11.607871",
     "exception": false,
     "start_time": "2025-07-09T17:49:11.600258",
     "status": "completed"
    },
    "tags": []
   },
   "outputs": [],
   "source": []
  }
 ],
 "metadata": {
  "kaggle": {
   "accelerator": "none",
   "dataSources": [
    {
     "datasetId": 7802432,
     "sourceId": 12374378,
     "sourceType": "datasetVersion"
    }
   ],
   "dockerImageVersionId": 31040,
   "isGpuEnabled": false,
   "isInternetEnabled": true,
   "language": "python",
   "sourceType": "notebook"
  },
  "kernelspec": {
   "display_name": "Python 3",
   "language": "python",
   "name": "python3"
  },
  "language_info": {
   "codemirror_mode": {
    "name": "ipython",
    "version": 3
   },
   "file_extension": ".py",
   "mimetype": "text/x-python",
   "name": "python",
   "nbconvert_exporter": "python",
   "pygments_lexer": "ipython3",
   "version": "3.11.11"
  },
  "papermill": {
   "default_parameters": {},
   "duration": 10.472938,
   "end_time": "2025-07-09T17:49:12.234812",
   "environment_variables": {},
   "exception": null,
   "input_path": "__notebook__.ipynb",
   "output_path": "__notebook__.ipynb",
   "parameters": {},
   "start_time": "2025-07-09T17:49:01.761874",
   "version": "2.6.0"
  }
 },
 "nbformat": 4,
 "nbformat_minor": 5
}
