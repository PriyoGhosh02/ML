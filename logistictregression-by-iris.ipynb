{
 "cells": [
  {
   "cell_type": "code",
   "execution_count": 1,
   "id": "904d18ef",
   "metadata": {
    "_cell_guid": "b1076dfc-b9ad-4769-8c92-a6c4dae69d19",
    "_uuid": "8f2839f25d086af736a60e9eeb907d3b93b6e0e5",
    "execution": {
     "iopub.execute_input": "2025-07-09T17:17:07.179571Z",
     "iopub.status.busy": "2025-07-09T17:17:07.179116Z",
     "iopub.status.idle": "2025-07-09T17:17:09.311188Z",
     "shell.execute_reply": "2025-07-09T17:17:09.309827Z"
    },
    "papermill": {
     "duration": 2.141148,
     "end_time": "2025-07-09T17:17:09.313359",
     "exception": false,
     "start_time": "2025-07-09T17:17:07.172211",
     "status": "completed"
    },
    "tags": []
   },
   "outputs": [],
   "source": [
    "from sklearn.datasets import load_iris\n",
    "from sklearn.linear_model import LogisticRegression\n",
    "from sklearn.model_selection import train_test_split\n",
    "from sklearn.metrics import accuracy_score"
   ]
  },
  {
   "cell_type": "code",
   "execution_count": 2,
   "id": "08883714",
   "metadata": {
    "execution": {
     "iopub.execute_input": "2025-07-09T17:17:09.323221Z",
     "iopub.status.busy": "2025-07-09T17:17:09.321968Z",
     "iopub.status.idle": "2025-07-09T17:17:09.333222Z",
     "shell.execute_reply": "2025-07-09T17:17:09.331991Z"
    },
    "papermill": {
     "duration": 0.01815,
     "end_time": "2025-07-09T17:17:09.335546",
     "exception": false,
     "start_time": "2025-07-09T17:17:09.317396",
     "status": "completed"
    },
    "tags": []
   },
   "outputs": [],
   "source": [
    "iris=load_iris()"
   ]
  },
  {
   "cell_type": "code",
   "execution_count": 3,
   "id": "b7b612f7",
   "metadata": {
    "execution": {
     "iopub.execute_input": "2025-07-09T17:17:09.344604Z",
     "iopub.status.busy": "2025-07-09T17:17:09.344224Z",
     "iopub.status.idle": "2025-07-09T17:17:09.352531Z",
     "shell.execute_reply": "2025-07-09T17:17:09.351442Z"
    },
    "papermill": {
     "duration": 0.014936,
     "end_time": "2025-07-09T17:17:09.354215",
     "exception": false,
     "start_time": "2025-07-09T17:17:09.339279",
     "status": "completed"
    },
    "tags": []
   },
   "outputs": [
    {
     "data": {
      "text/plain": [
       "array([0, 0, 0, 0, 0, 0, 0, 0, 0, 0, 0, 0, 0, 0, 0, 0, 0, 0, 0, 0, 0, 0,\n",
       "       0, 0, 0, 0, 0, 0, 0, 0, 0, 0, 0, 0, 0, 0, 0, 0, 0, 0, 0, 0, 0, 0,\n",
       "       0, 0, 0, 0, 0, 0, 1, 1, 1, 1, 1, 1, 1, 1, 1, 1, 1, 1, 1, 1, 1, 1,\n",
       "       1, 1, 1, 1, 1, 1, 1, 1, 1, 1, 1, 1, 1, 1, 1, 1, 1, 1, 1, 1, 1, 1,\n",
       "       1, 1, 1, 1, 1, 1, 1, 1, 1, 1, 1, 1, 2, 2, 2, 2, 2, 2, 2, 2, 2, 2,\n",
       "       2, 2, 2, 2, 2, 2, 2, 2, 2, 2, 2, 2, 2, 2, 2, 2, 2, 2, 2, 2, 2, 2,\n",
       "       2, 2, 2, 2, 2, 2, 2, 2, 2, 2, 2, 2, 2, 2, 2, 2, 2, 2])"
      ]
     },
     "execution_count": 3,
     "metadata": {},
     "output_type": "execute_result"
    }
   ],
   "source": [
    "iris.target"
   ]
  },
  {
   "cell_type": "code",
   "execution_count": 4,
   "id": "7464dce2",
   "metadata": {
    "execution": {
     "iopub.execute_input": "2025-07-09T17:17:09.363699Z",
     "iopub.status.busy": "2025-07-09T17:17:09.363233Z",
     "iopub.status.idle": "2025-07-09T17:17:09.372649Z",
     "shell.execute_reply": "2025-07-09T17:17:09.371657Z"
    },
    "papermill": {
     "duration": 0.016332,
     "end_time": "2025-07-09T17:17:09.374444",
     "exception": false,
     "start_time": "2025-07-09T17:17:09.358112",
     "status": "completed"
    },
    "tags": []
   },
   "outputs": [],
   "source": [
    "X_train , X_test , y_train , y_test = train_test_split(iris.data,iris.target , test_size =0.3, random_state =42)"
   ]
  },
  {
   "cell_type": "code",
   "execution_count": 5,
   "id": "ef16a9bd",
   "metadata": {
    "execution": {
     "iopub.execute_input": "2025-07-09T17:17:09.383817Z",
     "iopub.status.busy": "2025-07-09T17:17:09.383420Z",
     "iopub.status.idle": "2025-07-09T17:17:09.388983Z",
     "shell.execute_reply": "2025-07-09T17:17:09.387752Z"
    },
    "papermill": {
     "duration": 0.012546,
     "end_time": "2025-07-09T17:17:09.390842",
     "exception": false,
     "start_time": "2025-07-09T17:17:09.378296",
     "status": "completed"
    },
    "tags": []
   },
   "outputs": [],
   "source": [
    "model=LogisticRegression()"
   ]
  },
  {
   "cell_type": "code",
   "execution_count": 6,
   "id": "5146c53a",
   "metadata": {
    "execution": {
     "iopub.execute_input": "2025-07-09T17:17:09.400812Z",
     "iopub.status.busy": "2025-07-09T17:17:09.400403Z",
     "iopub.status.idle": "2025-07-09T17:17:09.475285Z",
     "shell.execute_reply": "2025-07-09T17:17:09.474295Z"
    },
    "papermill": {
     "duration": 0.084111,
     "end_time": "2025-07-09T17:17:09.479422",
     "exception": false,
     "start_time": "2025-07-09T17:17:09.395311",
     "status": "completed"
    },
    "tags": []
   },
   "outputs": [
    {
     "data": {
      "text/html": [
       "<style>#sk-container-id-1 {color: black;background-color: white;}#sk-container-id-1 pre{padding: 0;}#sk-container-id-1 div.sk-toggleable {background-color: white;}#sk-container-id-1 label.sk-toggleable__label {cursor: pointer;display: block;width: 100%;margin-bottom: 0;padding: 0.3em;box-sizing: border-box;text-align: center;}#sk-container-id-1 label.sk-toggleable__label-arrow:before {content: \"▸\";float: left;margin-right: 0.25em;color: #696969;}#sk-container-id-1 label.sk-toggleable__label-arrow:hover:before {color: black;}#sk-container-id-1 div.sk-estimator:hover label.sk-toggleable__label-arrow:before {color: black;}#sk-container-id-1 div.sk-toggleable__content {max-height: 0;max-width: 0;overflow: hidden;text-align: left;background-color: #f0f8ff;}#sk-container-id-1 div.sk-toggleable__content pre {margin: 0.2em;color: black;border-radius: 0.25em;background-color: #f0f8ff;}#sk-container-id-1 input.sk-toggleable__control:checked~div.sk-toggleable__content {max-height: 200px;max-width: 100%;overflow: auto;}#sk-container-id-1 input.sk-toggleable__control:checked~label.sk-toggleable__label-arrow:before {content: \"▾\";}#sk-container-id-1 div.sk-estimator input.sk-toggleable__control:checked~label.sk-toggleable__label {background-color: #d4ebff;}#sk-container-id-1 div.sk-label input.sk-toggleable__control:checked~label.sk-toggleable__label {background-color: #d4ebff;}#sk-container-id-1 input.sk-hidden--visually {border: 0;clip: rect(1px 1px 1px 1px);clip: rect(1px, 1px, 1px, 1px);height: 1px;margin: -1px;overflow: hidden;padding: 0;position: absolute;width: 1px;}#sk-container-id-1 div.sk-estimator {font-family: monospace;background-color: #f0f8ff;border: 1px dotted black;border-radius: 0.25em;box-sizing: border-box;margin-bottom: 0.5em;}#sk-container-id-1 div.sk-estimator:hover {background-color: #d4ebff;}#sk-container-id-1 div.sk-parallel-item::after {content: \"\";width: 100%;border-bottom: 1px solid gray;flex-grow: 1;}#sk-container-id-1 div.sk-label:hover label.sk-toggleable__label {background-color: #d4ebff;}#sk-container-id-1 div.sk-serial::before {content: \"\";position: absolute;border-left: 1px solid gray;box-sizing: border-box;top: 0;bottom: 0;left: 50%;z-index: 0;}#sk-container-id-1 div.sk-serial {display: flex;flex-direction: column;align-items: center;background-color: white;padding-right: 0.2em;padding-left: 0.2em;position: relative;}#sk-container-id-1 div.sk-item {position: relative;z-index: 1;}#sk-container-id-1 div.sk-parallel {display: flex;align-items: stretch;justify-content: center;background-color: white;position: relative;}#sk-container-id-1 div.sk-item::before, #sk-container-id-1 div.sk-parallel-item::before {content: \"\";position: absolute;border-left: 1px solid gray;box-sizing: border-box;top: 0;bottom: 0;left: 50%;z-index: -1;}#sk-container-id-1 div.sk-parallel-item {display: flex;flex-direction: column;z-index: 1;position: relative;background-color: white;}#sk-container-id-1 div.sk-parallel-item:first-child::after {align-self: flex-end;width: 50%;}#sk-container-id-1 div.sk-parallel-item:last-child::after {align-self: flex-start;width: 50%;}#sk-container-id-1 div.sk-parallel-item:only-child::after {width: 0;}#sk-container-id-1 div.sk-dashed-wrapped {border: 1px dashed gray;margin: 0 0.4em 0.5em 0.4em;box-sizing: border-box;padding-bottom: 0.4em;background-color: white;}#sk-container-id-1 div.sk-label label {font-family: monospace;font-weight: bold;display: inline-block;line-height: 1.2em;}#sk-container-id-1 div.sk-label-container {text-align: center;}#sk-container-id-1 div.sk-container {/* jupyter's `normalize.less` sets `[hidden] { display: none; }` but bootstrap.min.css set `[hidden] { display: none !important; }` so we also need the `!important` here to be able to override the default hidden behavior on the sphinx rendered scikit-learn.org. See: https://github.com/scikit-learn/scikit-learn/issues/21755 */display: inline-block !important;position: relative;}#sk-container-id-1 div.sk-text-repr-fallback {display: none;}</style><div id=\"sk-container-id-1\" class=\"sk-top-container\"><div class=\"sk-text-repr-fallback\"><pre>LogisticRegression()</pre><b>In a Jupyter environment, please rerun this cell to show the HTML representation or trust the notebook. <br />On GitHub, the HTML representation is unable to render, please try loading this page with nbviewer.org.</b></div><div class=\"sk-container\" hidden><div class=\"sk-item\"><div class=\"sk-estimator sk-toggleable\"><input class=\"sk-toggleable__control sk-hidden--visually\" id=\"sk-estimator-id-1\" type=\"checkbox\" checked><label for=\"sk-estimator-id-1\" class=\"sk-toggleable__label sk-toggleable__label-arrow\">LogisticRegression</label><div class=\"sk-toggleable__content\"><pre>LogisticRegression()</pre></div></div></div></div></div>"
      ],
      "text/plain": [
       "LogisticRegression()"
      ]
     },
     "execution_count": 6,
     "metadata": {},
     "output_type": "execute_result"
    }
   ],
   "source": [
    "model.fit(X_train,y_train)"
   ]
  },
  {
   "cell_type": "code",
   "execution_count": 7,
   "id": "5da9e0df",
   "metadata": {
    "execution": {
     "iopub.execute_input": "2025-07-09T17:17:09.493191Z",
     "iopub.status.busy": "2025-07-09T17:17:09.492346Z",
     "iopub.status.idle": "2025-07-09T17:17:09.500869Z",
     "shell.execute_reply": "2025-07-09T17:17:09.499529Z"
    },
    "papermill": {
     "duration": 0.018987,
     "end_time": "2025-07-09T17:17:09.504061",
     "exception": false,
     "start_time": "2025-07-09T17:17:09.485074",
     "status": "completed"
    },
    "tags": []
   },
   "outputs": [],
   "source": [
    "y_pred=model.predict(X_test)"
   ]
  },
  {
   "cell_type": "code",
   "execution_count": 8,
   "id": "b089f16c",
   "metadata": {
    "execution": {
     "iopub.execute_input": "2025-07-09T17:17:09.518776Z",
     "iopub.status.busy": "2025-07-09T17:17:09.518224Z",
     "iopub.status.idle": "2025-07-09T17:17:09.525087Z",
     "shell.execute_reply": "2025-07-09T17:17:09.524131Z"
    },
    "papermill": {
     "duration": 0.017491,
     "end_time": "2025-07-09T17:17:09.527813",
     "exception": false,
     "start_time": "2025-07-09T17:17:09.510322",
     "status": "completed"
    },
    "tags": []
   },
   "outputs": [],
   "source": [
    "# y_pred.reshape(9,5)"
   ]
  },
  {
   "cell_type": "code",
   "execution_count": 9,
   "id": "a82e9146",
   "metadata": {
    "execution": {
     "iopub.execute_input": "2025-07-09T17:17:09.543834Z",
     "iopub.status.busy": "2025-07-09T17:17:09.541507Z",
     "iopub.status.idle": "2025-07-09T17:17:09.550426Z",
     "shell.execute_reply": "2025-07-09T17:17:09.549444Z"
    },
    "papermill": {
     "duration": 0.019285,
     "end_time": "2025-07-09T17:17:09.553355",
     "exception": false,
     "start_time": "2025-07-09T17:17:09.534070",
     "status": "completed"
    },
    "tags": []
   },
   "outputs": [],
   "source": [
    "accq= accuracy_score(y_test , y_pred)"
   ]
  },
  {
   "cell_type": "code",
   "execution_count": 10,
   "id": "c6df86da",
   "metadata": {
    "execution": {
     "iopub.execute_input": "2025-07-09T17:17:09.568709Z",
     "iopub.status.busy": "2025-07-09T17:17:09.568139Z",
     "iopub.status.idle": "2025-07-09T17:17:09.576239Z",
     "shell.execute_reply": "2025-07-09T17:17:09.575234Z"
    },
    "papermill": {
     "duration": 0.017964,
     "end_time": "2025-07-09T17:17:09.578652",
     "exception": false,
     "start_time": "2025-07-09T17:17:09.560688",
     "status": "completed"
    },
    "tags": []
   },
   "outputs": [
    {
     "data": {
      "text/plain": [
       "1.0"
      ]
     },
     "execution_count": 10,
     "metadata": {},
     "output_type": "execute_result"
    }
   ],
   "source": [
    "accq"
   ]
  },
  {
   "cell_type": "code",
   "execution_count": 11,
   "id": "2e0f43f9",
   "metadata": {
    "execution": {
     "iopub.execute_input": "2025-07-09T17:17:09.593237Z",
     "iopub.status.busy": "2025-07-09T17:17:09.592862Z",
     "iopub.status.idle": "2025-07-09T17:17:09.601398Z",
     "shell.execute_reply": "2025-07-09T17:17:09.600368Z"
    },
    "papermill": {
     "duration": 0.018715,
     "end_time": "2025-07-09T17:17:09.603126",
     "exception": false,
     "start_time": "2025-07-09T17:17:09.584411",
     "status": "completed"
    },
    "tags": []
   },
   "outputs": [
    {
     "data": {
      "text/plain": [
       "['iris.joblib']"
      ]
     },
     "execution_count": 11,
     "metadata": {},
     "output_type": "execute_result"
    }
   ],
   "source": [
    "import joblib \n",
    "joblib.dump(model, \"iris.joblib\") "
   ]
  },
  {
   "cell_type": "code",
   "execution_count": 12,
   "id": "ced4ca95",
   "metadata": {
    "execution": {
     "iopub.execute_input": "2025-07-09T17:17:09.613417Z",
     "iopub.status.busy": "2025-07-09T17:17:09.612303Z",
     "iopub.status.idle": "2025-07-09T17:17:09.618509Z",
     "shell.execute_reply": "2025-07-09T17:17:09.617423Z"
    },
    "papermill": {
     "duration": 0.013352,
     "end_time": "2025-07-09T17:17:09.620559",
     "exception": false,
     "start_time": "2025-07-09T17:17:09.607207",
     "status": "completed"
    },
    "tags": []
   },
   "outputs": [],
   "source": [
    "old=joblib.load(\"iris.joblib\")"
   ]
  },
  {
   "cell_type": "code",
   "execution_count": 13,
   "id": "885739d8",
   "metadata": {
    "execution": {
     "iopub.execute_input": "2025-07-09T17:17:09.630734Z",
     "iopub.status.busy": "2025-07-09T17:17:09.629577Z",
     "iopub.status.idle": "2025-07-09T17:17:09.638626Z",
     "shell.execute_reply": "2025-07-09T17:17:09.637522Z"
    },
    "papermill": {
     "duration": 0.015875,
     "end_time": "2025-07-09T17:17:09.640508",
     "exception": false,
     "start_time": "2025-07-09T17:17:09.624633",
     "status": "completed"
    },
    "tags": []
   },
   "outputs": [
    {
     "data": {
      "text/plain": [
       "1.0"
      ]
     },
     "execution_count": 13,
     "metadata": {},
     "output_type": "execute_result"
    }
   ],
   "source": [
    "old.score(X_test, y_test)"
   ]
  },
  {
   "cell_type": "code",
   "execution_count": 14,
   "id": "82a065df",
   "metadata": {
    "execution": {
     "iopub.execute_input": "2025-07-09T17:17:09.650447Z",
     "iopub.status.busy": "2025-07-09T17:17:09.649872Z",
     "iopub.status.idle": "2025-07-09T17:17:09.656432Z",
     "shell.execute_reply": "2025-07-09T17:17:09.655442Z"
    },
    "papermill": {
     "duration": 0.013521,
     "end_time": "2025-07-09T17:17:09.658223",
     "exception": false,
     "start_time": "2025-07-09T17:17:09.644702",
     "status": "completed"
    },
    "tags": []
   },
   "outputs": [
    {
     "data": {
      "text/plain": [
       "1"
      ]
     },
     "execution_count": 14,
     "metadata": {},
     "output_type": "execute_result"
    }
   ],
   "source": [
    "1"
   ]
  },
  {
   "cell_type": "code",
   "execution_count": null,
   "id": "c3d747cc",
   "metadata": {
    "papermill": {
     "duration": 0.003887,
     "end_time": "2025-07-09T17:17:09.666713",
     "exception": false,
     "start_time": "2025-07-09T17:17:09.662826",
     "status": "completed"
    },
    "tags": []
   },
   "outputs": [],
   "source": []
  }
 ],
 "metadata": {
  "kaggle": {
   "accelerator": "none",
   "dataSources": [],
   "dockerImageVersionId": 31089,
   "isGpuEnabled": false,
   "isInternetEnabled": true,
   "language": "python",
   "sourceType": "notebook"
  },
  "kernelspec": {
   "display_name": "Python 3",
   "language": "python",
   "name": "python3"
  },
  "language_info": {
   "codemirror_mode": {
    "name": "ipython",
    "version": 3
   },
   "file_extension": ".py",
   "mimetype": "text/x-python",
   "name": "python",
   "nbconvert_exporter": "python",
   "pygments_lexer": "ipython3",
   "version": "3.11.13"
  },
  "papermill": {
   "default_parameters": {},
   "duration": 9.141377,
   "end_time": "2025-07-09T17:17:10.595464",
   "environment_variables": {},
   "exception": null,
   "input_path": "__notebook__.ipynb",
   "output_path": "__notebook__.ipynb",
   "parameters": {},
   "start_time": "2025-07-09T17:17:01.454087",
   "version": "2.6.0"
  }
 },
 "nbformat": 4,
 "nbformat_minor": 5
}
