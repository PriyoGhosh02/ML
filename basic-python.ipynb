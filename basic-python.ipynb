{
 "cells": [
  {
   "cell_type": "code",
   "execution_count": 1,
   "id": "410c165a",
   "metadata": {
    "_cell_guid": "b1076dfc-b9ad-4769-8c92-a6c4dae69d19",
    "_uuid": "8f2839f25d086af736a60e9eeb907d3b93b6e0e5",
    "execution": {
     "iopub.execute_input": "2025-07-09T17:19:43.026473Z",
     "iopub.status.busy": "2025-07-09T17:19:43.025732Z",
     "iopub.status.idle": "2025-07-09T17:19:43.032550Z",
     "shell.execute_reply": "2025-07-09T17:19:43.031719Z"
    },
    "papermill": {
     "duration": 0.011652,
     "end_time": "2025-07-09T17:19:43.034274",
     "exception": false,
     "start_time": "2025-07-09T17:19:43.022622",
     "status": "completed"
    },
    "tags": []
   },
   "outputs": [
    {
     "name": "stdout",
     "output_type": "stream",
     "text": [
      "Hello\n"
     ]
    }
   ],
   "source": [
    "print(\"Hello\")"
   ]
  },
  {
   "cell_type": "code",
   "execution_count": 2,
   "id": "f42ff2b9",
   "metadata": {
    "execution": {
     "iopub.execute_input": "2025-07-09T17:19:43.038503Z",
     "iopub.status.busy": "2025-07-09T17:19:43.038210Z",
     "iopub.status.idle": "2025-07-09T17:19:43.043429Z",
     "shell.execute_reply": "2025-07-09T17:19:43.042788Z"
    },
    "papermill": {
     "duration": 0.008316,
     "end_time": "2025-07-09T17:19:43.044495",
     "exception": false,
     "start_time": "2025-07-09T17:19:43.036179",
     "status": "completed"
    },
    "tags": []
   },
   "outputs": [
    {
     "data": {
      "text/plain": [
       "[0, 1, 3, (7, 8)]"
      ]
     },
     "execution_count": 2,
     "metadata": {},
     "output_type": "execute_result"
    }
   ],
   "source": [
    "l=[0, 1, 3]\n",
    "l.append((7,8))\n",
    "l"
   ]
  },
  {
   "cell_type": "code",
   "execution_count": 3,
   "id": "24d2d296",
   "metadata": {
    "execution": {
     "iopub.execute_input": "2025-07-09T17:19:43.047955Z",
     "iopub.status.busy": "2025-07-09T17:19:43.047756Z",
     "iopub.status.idle": "2025-07-09T17:19:43.051548Z",
     "shell.execute_reply": "2025-07-09T17:19:43.050942Z"
    },
    "papermill": {
     "duration": 0.006666,
     "end_time": "2025-07-09T17:19:43.052637",
     "exception": false,
     "start_time": "2025-07-09T17:19:43.045971",
     "status": "completed"
    },
    "tags": []
   },
   "outputs": [
    {
     "name": "stdout",
     "output_type": "stream",
     "text": [
      "1=2\n",
      "2=1\n",
      "3=1\n",
      "4=1\n",
      "5=1\n",
      "a=2\n"
     ]
    }
   ],
   "source": [
    "l=[1,2,3,4,5,1,'a','a']\n",
    "ls=set(l)\n",
    "for i in ls:\n",
    "    print(f\"{i}={l.count(i)}\")"
   ]
  },
  {
   "cell_type": "code",
   "execution_count": 4,
   "id": "74811857",
   "metadata": {
    "execution": {
     "iopub.execute_input": "2025-07-09T17:19:43.056373Z",
     "iopub.status.busy": "2025-07-09T17:19:43.056142Z",
     "iopub.status.idle": "2025-07-09T17:19:43.060493Z",
     "shell.execute_reply": "2025-07-09T17:19:43.059849Z"
    },
    "papermill": {
     "duration": 0.007416,
     "end_time": "2025-07-09T17:19:43.061640",
     "exception": false,
     "start_time": "2025-07-09T17:19:43.054224",
     "status": "completed"
    },
    "tags": []
   },
   "outputs": [
    {
     "name": "stdout",
     "output_type": "stream",
     "text": [
      "0 1 1 2 3 5 8 13 21 34 "
     ]
    }
   ],
   "source": [
    "def fibonacci(n):\n",
    "    a, b = 0, 1\n",
    "    for _ in range(n):\n",
    "        print(a, end=' ')\n",
    "        a, b = b, a + b\n",
    "\n",
    "fibonacci(10)\n"
   ]
  }
 ],
 "metadata": {
  "kaggle": {
   "accelerator": "none",
   "dataSources": [],
   "dockerImageVersionId": 31040,
   "isGpuEnabled": false,
   "isInternetEnabled": true,
   "language": "python",
   "sourceType": "notebook"
  },
  "kernelspec": {
   "display_name": "Python 3",
   "language": "python",
   "name": "python3"
  },
  "language_info": {
   "codemirror_mode": {
    "name": "ipython",
    "version": 3
   },
   "file_extension": ".py",
   "mimetype": "text/x-python",
   "name": "python",
   "nbconvert_exporter": "python",
   "pygments_lexer": "ipython3",
   "version": "3.11.11"
  },
  "papermill": {
   "default_parameters": {},
   "duration": 7.456025,
   "end_time": "2025-07-09T17:19:46.032835",
   "environment_variables": {},
   "exception": null,
   "input_path": "__notebook__.ipynb",
   "output_path": "__notebook__.ipynb",
   "parameters": {},
   "start_time": "2025-07-09T17:19:38.576810",
   "version": "2.6.0"
  }
 },
 "nbformat": 4,
 "nbformat_minor": 5
}
