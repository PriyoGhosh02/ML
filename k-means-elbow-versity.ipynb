{
 "cells": [
  {
   "cell_type": "code",
   "execution_count": 1,
   "id": "9f342ef7",
   "metadata": {
    "_cell_guid": "b1076dfc-b9ad-4769-8c92-a6c4dae69d19",
    "_uuid": "8f2839f25d086af736a60e9eeb907d3b93b6e0e5",
    "execution": {
     "iopub.execute_input": "2025-07-16T17:49:28.901282Z",
     "iopub.status.busy": "2025-07-16T17:49:28.900937Z",
     "iopub.status.idle": "2025-07-16T17:49:28.905210Z",
     "shell.execute_reply": "2025-07-16T17:49:28.904591Z"
    },
    "papermill": {
     "duration": 0.011131,
     "end_time": "2025-07-16T17:49:28.906427",
     "exception": false,
     "start_time": "2025-07-16T17:49:28.895296",
     "status": "completed"
    },
    "tags": []
   },
   "outputs": [],
   "source": [
    "# standard deviation\n",
    "# import numpy as np\n",
    "\n",
    "# arr = np.array([5, 7, 3, 7, 10])\n",
    "# mean = arr.mean()\n",
    "\n",
    "\n",
    "# print(mean)\n",
    "\n"
   ]
  },
  {
   "cell_type": "code",
   "execution_count": 2,
   "id": "922ca130",
   "metadata": {
    "execution": {
     "iopub.execute_input": "2025-07-16T17:49:28.915142Z",
     "iopub.status.busy": "2025-07-16T17:49:28.914877Z",
     "iopub.status.idle": "2025-07-16T17:49:30.566181Z",
     "shell.execute_reply": "2025-07-16T17:49:30.565416Z"
    },
    "papermill": {
     "duration": 1.657285,
     "end_time": "2025-07-16T17:49:30.567711",
     "exception": false,
     "start_time": "2025-07-16T17:49:28.910426",
     "status": "completed"
    },
    "tags": []
   },
   "outputs": [],
   "source": [
    "import pandas as pd\n",
    "import warnings\n",
    "warnings.filterwarnings('ignore')"
   ]
  },
  {
   "cell_type": "code",
   "execution_count": 3,
   "id": "6640aa08",
   "metadata": {
    "execution": {
     "iopub.execute_input": "2025-07-16T17:49:30.576799Z",
     "iopub.status.busy": "2025-07-16T17:49:30.576126Z",
     "iopub.status.idle": "2025-07-16T17:49:30.614491Z",
     "shell.execute_reply": "2025-07-16T17:49:30.613670Z"
    },
    "papermill": {
     "duration": 0.04411,
     "end_time": "2025-07-16T17:49:30.615824",
     "exception": false,
     "start_time": "2025-07-16T17:49:30.571714",
     "status": "completed"
    },
    "tags": []
   },
   "outputs": [
    {
     "data": {
      "text/html": [
       "<div>\n",
       "<style scoped>\n",
       "    .dataframe tbody tr th:only-of-type {\n",
       "        vertical-align: middle;\n",
       "    }\n",
       "\n",
       "    .dataframe tbody tr th {\n",
       "        vertical-align: top;\n",
       "    }\n",
       "\n",
       "    .dataframe thead th {\n",
       "        text-align: right;\n",
       "    }\n",
       "</style>\n",
       "<table border=\"1\" class=\"dataframe\">\n",
       "  <thead>\n",
       "    <tr style=\"text-align: right;\">\n",
       "      <th></th>\n",
       "      <th>Name</th>\n",
       "      <th>Age</th>\n",
       "      <th>Income($)</th>\n",
       "    </tr>\n",
       "  </thead>\n",
       "  <tbody>\n",
       "    <tr>\n",
       "      <th>0</th>\n",
       "      <td>Rob</td>\n",
       "      <td>27</td>\n",
       "      <td>70000</td>\n",
       "    </tr>\n",
       "    <tr>\n",
       "      <th>1</th>\n",
       "      <td>Michael</td>\n",
       "      <td>29</td>\n",
       "      <td>90000</td>\n",
       "    </tr>\n",
       "    <tr>\n",
       "      <th>2</th>\n",
       "      <td>Mohan</td>\n",
       "      <td>29</td>\n",
       "      <td>61000</td>\n",
       "    </tr>\n",
       "    <tr>\n",
       "      <th>3</th>\n",
       "      <td>Ismail</td>\n",
       "      <td>28</td>\n",
       "      <td>60000</td>\n",
       "    </tr>\n",
       "    <tr>\n",
       "      <th>4</th>\n",
       "      <td>Kory</td>\n",
       "      <td>42</td>\n",
       "      <td>150000</td>\n",
       "    </tr>\n",
       "  </tbody>\n",
       "</table>\n",
       "</div>"
      ],
      "text/plain": [
       "      Name  Age  Income($)\n",
       "0      Rob   27      70000\n",
       "1  Michael   29      90000\n",
       "2    Mohan   29      61000\n",
       "3   Ismail   28      60000\n",
       "4     Kory   42     150000"
      ]
     },
     "execution_count": 3,
     "metadata": {},
     "output_type": "execute_result"
    }
   ],
   "source": [
    "df=pd.read_csv('/kaggle/input/k-means/income.csv')\n",
    "df.head()"
   ]
  },
  {
   "cell_type": "code",
   "execution_count": 4,
   "id": "f3786e7e",
   "metadata": {
    "execution": {
     "iopub.execute_input": "2025-07-16T17:49:30.624595Z",
     "iopub.status.busy": "2025-07-16T17:49:30.624334Z",
     "iopub.status.idle": "2025-07-16T17:49:30.636919Z",
     "shell.execute_reply": "2025-07-16T17:49:30.636136Z"
    },
    "papermill": {
     "duration": 0.018459,
     "end_time": "2025-07-16T17:49:30.638274",
     "exception": false,
     "start_time": "2025-07-16T17:49:30.619815",
     "status": "completed"
    },
    "tags": []
   },
   "outputs": [
    {
     "data": {
      "text/html": [
       "<div>\n",
       "<style scoped>\n",
       "    .dataframe tbody tr th:only-of-type {\n",
       "        vertical-align: middle;\n",
       "    }\n",
       "\n",
       "    .dataframe tbody tr th {\n",
       "        vertical-align: top;\n",
       "    }\n",
       "\n",
       "    .dataframe thead th {\n",
       "        text-align: right;\n",
       "    }\n",
       "</style>\n",
       "<table border=\"1\" class=\"dataframe\">\n",
       "  <thead>\n",
       "    <tr style=\"text-align: right;\">\n",
       "      <th></th>\n",
       "      <th>Age</th>\n",
       "      <th>Income($)</th>\n",
       "    </tr>\n",
       "  </thead>\n",
       "  <tbody>\n",
       "    <tr>\n",
       "      <th>0</th>\n",
       "      <td>27</td>\n",
       "      <td>70000</td>\n",
       "    </tr>\n",
       "    <tr>\n",
       "      <th>1</th>\n",
       "      <td>29</td>\n",
       "      <td>90000</td>\n",
       "    </tr>\n",
       "    <tr>\n",
       "      <th>2</th>\n",
       "      <td>29</td>\n",
       "      <td>61000</td>\n",
       "    </tr>\n",
       "    <tr>\n",
       "      <th>3</th>\n",
       "      <td>28</td>\n",
       "      <td>60000</td>\n",
       "    </tr>\n",
       "    <tr>\n",
       "      <th>4</th>\n",
       "      <td>42</td>\n",
       "      <td>150000</td>\n",
       "    </tr>\n",
       "  </tbody>\n",
       "</table>\n",
       "</div>"
      ],
      "text/plain": [
       "   Age  Income($)\n",
       "0   27      70000\n",
       "1   29      90000\n",
       "2   29      61000\n",
       "3   28      60000\n",
       "4   42     150000"
      ]
     },
     "execution_count": 4,
     "metadata": {},
     "output_type": "execute_result"
    }
   ],
   "source": [
    "df.drop('Name', axis=1, inplace=True)\n",
    "df.head()\n"
   ]
  },
  {
   "cell_type": "code",
   "execution_count": 5,
   "id": "7b6def86",
   "metadata": {
    "execution": {
     "iopub.execute_input": "2025-07-16T17:49:30.647065Z",
     "iopub.status.busy": "2025-07-16T17:49:30.646800Z",
     "iopub.status.idle": "2025-07-16T17:49:30.654821Z",
     "shell.execute_reply": "2025-07-16T17:49:30.654185Z"
    },
    "papermill": {
     "duration": 0.013764,
     "end_time": "2025-07-16T17:49:30.656021",
     "exception": false,
     "start_time": "2025-07-16T17:49:30.642257",
     "status": "completed"
    },
    "tags": []
   },
   "outputs": [
    {
     "data": {
      "text/plain": [
       "Age          0\n",
       "Income($)    0\n",
       "dtype: int64"
      ]
     },
     "execution_count": 5,
     "metadata": {},
     "output_type": "execute_result"
    }
   ],
   "source": [
    "# check nul\n",
    "df.isnull().sum()"
   ]
  },
  {
   "cell_type": "code",
   "execution_count": 6,
   "id": "127e942a",
   "metadata": {
    "execution": {
     "iopub.execute_input": "2025-07-16T17:49:30.664910Z",
     "iopub.status.busy": "2025-07-16T17:49:30.664672Z",
     "iopub.status.idle": "2025-07-16T17:49:30.670063Z",
     "shell.execute_reply": "2025-07-16T17:49:30.669352Z"
    },
    "papermill": {
     "duration": 0.011057,
     "end_time": "2025-07-16T17:49:30.671274",
     "exception": false,
     "start_time": "2025-07-16T17:49:30.660217",
     "status": "completed"
    },
    "tags": []
   },
   "outputs": [],
   "source": [
    "# normanilaztion\n",
    "df = (df - df.min()) / (df.max() - df.min())\n"
   ]
  },
  {
   "cell_type": "code",
   "execution_count": 7,
   "id": "8c7bc6c5",
   "metadata": {
    "execution": {
     "iopub.execute_input": "2025-07-16T17:49:30.680255Z",
     "iopub.status.busy": "2025-07-16T17:49:30.679943Z",
     "iopub.status.idle": "2025-07-16T17:49:30.977840Z",
     "shell.execute_reply": "2025-07-16T17:49:30.976973Z"
    },
    "papermill": {
     "duration": 0.303933,
     "end_time": "2025-07-16T17:49:30.979227",
     "exception": false,
     "start_time": "2025-07-16T17:49:30.675294",
     "status": "completed"
    },
    "tags": []
   },
   "outputs": [
    {
     "data": {
      "text/plain": [
       "<matplotlib.collections.PathCollection at 0x7952e873e350>"
      ]
     },
     "execution_count": 7,
     "metadata": {},
     "output_type": "execute_result"
    },
    {
     "data": {
      "image/png": "[encoded data removed]",
      "text/plain": [
       "<Figure size 640x480 with 1 Axes>"
      ]
     },
     "metadata": {},
     "output_type": "display_data"
    }
   ],
   "source": [
    "import matplotlib.pyplot as plt\n",
    "\n",
    "\n",
    "plt.scatter(df[\"Age\"], df['Income($)'])"
   ]
  },
  {
   "cell_type": "code",
   "execution_count": 8,
   "id": "a6fdb8d5",
   "metadata": {
    "execution": {
     "iopub.execute_input": "2025-07-16T17:49:30.989178Z",
     "iopub.status.busy": "2025-07-16T17:49:30.988862Z",
     "iopub.status.idle": "2025-07-16T17:49:32.772258Z",
     "shell.execute_reply": "2025-07-16T17:49:32.771552Z"
    },
    "papermill": {
     "duration": 1.789999,
     "end_time": "2025-07-16T17:49:32.773751",
     "exception": false,
     "start_time": "2025-07-16T17:49:30.983752",
     "status": "completed"
    },
    "tags": []
   },
   "outputs": [],
   "source": [
    "#k-means\n",
    "from sklearn.cluster import KMeans"
   ]
  },
  {
   "cell_type": "code",
   "execution_count": 9,
   "id": "6dd9e1bd",
   "metadata": {
    "execution": {
     "iopub.execute_input": "2025-07-16T17:49:32.784767Z",
     "iopub.status.busy": "2025-07-16T17:49:32.784358Z",
     "iopub.status.idle": "2025-07-16T17:49:32.788733Z",
     "shell.execute_reply": "2025-07-16T17:49:32.787771Z"
    },
    "papermill": {
     "duration": 0.010853,
     "end_time": "2025-07-16T17:49:32.790111",
     "exception": false,
     "start_time": "2025-07-16T17:49:32.779258",
     "status": "completed"
    },
    "tags": []
   },
   "outputs": [],
   "source": [
    "km=KMeans(n_clusters=3, random_state=81)"
   ]
  },
  {
   "cell_type": "code",
   "execution_count": 10,
   "id": "6824032e",
   "metadata": {
    "execution": {
     "iopub.execute_input": "2025-07-16T17:49:32.799914Z",
     "iopub.status.busy": "2025-07-16T17:49:32.799655Z",
     "iopub.status.idle": "2025-07-16T17:49:32.859472Z",
     "shell.execute_reply": "2025-07-16T17:49:32.858652Z"
    },
    "papermill": {
     "duration": 0.066118,
     "end_time": "2025-07-16T17:49:32.860734",
     "exception": false,
     "start_time": "2025-07-16T17:49:32.794616",
     "status": "completed"
    },
    "tags": []
   },
   "outputs": [
    {
     "data": {
      "text/html": [
       "<style>#sk-container-id-1 {color: black;background-color: white;}#sk-container-id-1 pre{padding: 0;}#sk-container-id-1 div.sk-toggleable {background-color: white;}#sk-container-id-1 label.sk-toggleable__label {cursor: pointer;display: block;width: 100%;margin-bottom: 0;padding: 0.3em;box-sizing: border-box;text-align: center;}#sk-container-id-1 label.sk-toggleable__label-arrow:before {content: \"▸\";float: left;margin-right: 0.25em;color: #696969;}#sk-container-id-1 label.sk-toggleable__label-arrow:hover:before {color: black;}#sk-container-id-1 div.sk-estimator:hover label.sk-toggleable__label-arrow:before {color: black;}#sk-container-id-1 div.sk-toggleable__content {max-height: 0;max-width: 0;overflow: hidden;text-align: left;background-color: #f0f8ff;}#sk-container-id-1 div.sk-toggleable__content pre {margin: 0.2em;color: black;border-radius: 0.25em;background-color: #f0f8ff;}#sk-container-id-1 input.sk-toggleable__control:checked~div.sk-toggleable__content {max-height: 200px;max-width: 100%;overflow: auto;}#sk-container-id-1 input.sk-toggleable__control:checked~label.sk-toggleable__label-arrow:before {content: \"▾\";}#sk-container-id-1 div.sk-estimator input.sk-toggleable__control:checked~label.sk-toggleable__label {background-color: #d4ebff;}#sk-container-id-1 div.sk-label input.sk-toggleable__control:checked~label.sk-toggleable__label {background-color: #d4ebff;}#sk-container-id-1 input.sk-hidden--visually {border: 0;clip: rect(1px 1px 1px 1px);clip: rect(1px, 1px, 1px, 1px);height: 1px;margin: -1px;overflow: hidden;padding: 0;position: absolute;width: 1px;}#sk-container-id-1 div.sk-estimator {font-family: monospace;background-color: #f0f8ff;border: 1px dotted black;border-radius: 0.25em;box-sizing: border-box;margin-bottom: 0.5em;}#sk-container-id-1 div.sk-estimator:hover {background-color: #d4ebff;}#sk-container-id-1 div.sk-parallel-item::after {content: \"\";width: 100%;border-bottom: 1px solid gray;flex-grow: 1;}#sk-container-id-1 div.sk-label:hover label.sk-toggleable__label {background-color: #d4ebff;}#sk-container-id-1 div.sk-serial::before {content: \"\";position: absolute;border-left: 1px solid gray;box-sizing: border-box;top: 0;bottom: 0;left: 50%;z-index: 0;}#sk-container-id-1 div.sk-serial {display: flex;flex-direction: column;align-items: center;background-color: white;padding-right: 0.2em;padding-left: 0.2em;position: relative;}#sk-container-id-1 div.sk-item {position: relative;z-index: 1;}#sk-container-id-1 div.sk-parallel {display: flex;align-items: stretch;justify-content: center;background-color: white;position: relative;}#sk-container-id-1 div.sk-item::before, #sk-container-id-1 div.sk-parallel-item::before {content: \"\";position: absolute;border-left: 1px solid gray;box-sizing: border-box;top: 0;bottom: 0;left: 50%;z-index: -1;}#sk-container-id-1 div.sk-parallel-item {display: flex;flex-direction: column;z-index: 1;position: relative;background-color: white;}#sk-container-id-1 div.sk-parallel-item:first-child::after {align-self: flex-end;width: 50%;}#sk-container-id-1 div.sk-parallel-item:last-child::after {align-self: flex-start;width: 50%;}#sk-container-id-1 div.sk-parallel-item:only-child::after {width: 0;}#sk-container-id-1 div.sk-dashed-wrapped {border: 1px dashed gray;margin: 0 0.4em 0.5em 0.4em;box-sizing: border-box;padding-bottom: 0.4em;background-color: white;}#sk-container-id-1 div.sk-label label {font-family: monospace;font-weight: bold;display: inline-block;line-height: 1.2em;}#sk-container-id-1 div.sk-label-container {text-align: center;}#sk-container-id-1 div.sk-container {/* jupyter's `normalize.less` sets `[hidden] { display: none; }` but bootstrap.min.css set `[hidden] { display: none !important; }` so we also need the `!important` here to be able to override the default hidden behavior on the sphinx rendered scikit-learn.org. See: https://github.com/scikit-learn/scikit-learn/issues/21755 */display: inline-block !important;position: relative;}#sk-container-id-1 div.sk-text-repr-fallback {display: none;}</style><div id=\"sk-container-id-1\" class=\"sk-top-container\"><div class=\"sk-text-repr-fallback\"><pre>KMeans(n_clusters=3, random_state=81)</pre><b>In a Jupyter environment, please rerun this cell to show the HTML representation or trust the notebook. <br />On GitHub, the HTML representation is unable to render, please try loading this page with nbviewer.org.</b></div><div class=\"sk-container\" hidden><div class=\"sk-item\"><div class=\"sk-estimator sk-toggleable\"><input class=\"sk-toggleable__control sk-hidden--visually\" id=\"sk-estimator-id-1\" type=\"checkbox\" checked><label for=\"sk-estimator-id-1\" class=\"sk-toggleable__label sk-toggleable__label-arrow\">KMeans</label><div class=\"sk-toggleable__content\"><pre>KMeans(n_clusters=3, random_state=81)</pre></div></div></div></div></div>"
      ],
      "text/plain": [
       "KMeans(n_clusters=3, random_state=81)"
      ]
     },
     "execution_count": 10,
     "metadata": {},
     "output_type": "execute_result"
    }
   ],
   "source": [
    "km.fit(df)"
   ]
  },
  {
   "cell_type": "code",
   "execution_count": 11,
   "id": "9be041d1",
   "metadata": {
    "execution": {
     "iopub.execute_input": "2025-07-16T17:49:32.873071Z",
     "iopub.status.busy": "2025-07-16T17:49:32.872700Z",
     "iopub.status.idle": "2025-07-16T17:49:32.880670Z",
     "shell.execute_reply": "2025-07-16T17:49:32.879819Z"
    },
    "papermill": {
     "duration": 0.015797,
     "end_time": "2025-07-16T17:49:32.881920",
     "exception": false,
     "start_time": "2025-07-16T17:49:32.866123",
     "status": "completed"
    },
    "tags": []
   },
   "outputs": [
    {
     "data": {
      "text/plain": [
       "array([0, 0, 0, 0, 1, 1, 1, 1, 1, 1, 1, 0, 0, 0, 0, 0, 2, 2, 2, 2, 2, 2],\n",
       "      dtype=int32)"
      ]
     },
     "execution_count": 11,
     "metadata": {},
     "output_type": "execute_result"
    }
   ],
   "source": [
    "km.predict(df)"
   ]
  },
  {
   "cell_type": "code",
   "execution_count": 12,
   "id": "b6cf82fe",
   "metadata": {
    "execution": {
     "iopub.execute_input": "2025-07-16T17:49:32.892543Z",
     "iopub.status.busy": "2025-07-16T17:49:32.892276Z",
     "iopub.status.idle": "2025-07-16T17:49:32.928235Z",
     "shell.execute_reply": "2025-07-16T17:49:32.927525Z"
    },
    "papermill": {
     "duration": 0.042949,
     "end_time": "2025-07-16T17:49:32.929784",
     "exception": false,
     "start_time": "2025-07-16T17:49:32.886835",
     "status": "completed"
    },
    "tags": []
   },
   "outputs": [
    {
     "data": {
      "text/plain": [
       "array([0, 0, 0, 0, 1, 1, 1, 1, 1, 1, 1, 0, 0, 0, 0, 0, 2, 2, 2, 2, 2, 2],\n",
       "      dtype=int32)"
      ]
     },
     "execution_count": 12,
     "metadata": {},
     "output_type": "execute_result"
    }
   ],
   "source": [
    "# same kal\n",
    "cluster_label=km.fit_predict(df)\n",
    "cluster_label"
   ]
  },
  {
   "cell_type": "code",
   "execution_count": 13,
   "id": "fadc6d6d",
   "metadata": {
    "execution": {
     "iopub.execute_input": "2025-07-16T17:49:32.941042Z",
     "iopub.status.busy": "2025-07-16T17:49:32.940415Z",
     "iopub.status.idle": "2025-07-16T17:49:32.949506Z",
     "shell.execute_reply": "2025-07-16T17:49:32.948710Z"
    },
    "papermill": {
     "duration": 0.015925,
     "end_time": "2025-07-16T17:49:32.950805",
     "exception": false,
     "start_time": "2025-07-16T17:49:32.934880",
     "status": "completed"
    },
    "tags": []
   },
   "outputs": [
    {
     "data": {
      "text/html": [
       "<div>\n",
       "<style scoped>\n",
       "    .dataframe tbody tr th:only-of-type {\n",
       "        vertical-align: middle;\n",
       "    }\n",
       "\n",
       "    .dataframe tbody tr th {\n",
       "        vertical-align: top;\n",
       "    }\n",
       "\n",
       "    .dataframe thead th {\n",
       "        text-align: right;\n",
       "    }\n",
       "</style>\n",
       "<table border=\"1\" class=\"dataframe\">\n",
       "  <thead>\n",
       "    <tr style=\"text-align: right;\">\n",
       "      <th></th>\n",
       "      <th>Age</th>\n",
       "      <th>Income($)</th>\n",
       "      <th>cluster</th>\n",
       "    </tr>\n",
       "  </thead>\n",
       "  <tbody>\n",
       "    <tr>\n",
       "      <th>0</th>\n",
       "      <td>0.058824</td>\n",
       "      <td>0.213675</td>\n",
       "      <td>0</td>\n",
       "    </tr>\n",
       "    <tr>\n",
       "      <th>1</th>\n",
       "      <td>0.176471</td>\n",
       "      <td>0.384615</td>\n",
       "      <td>0</td>\n",
       "    </tr>\n",
       "    <tr>\n",
       "      <th>2</th>\n",
       "      <td>0.176471</td>\n",
       "      <td>0.136752</td>\n",
       "      <td>0</td>\n",
       "    </tr>\n",
       "    <tr>\n",
       "      <th>3</th>\n",
       "      <td>0.117647</td>\n",
       "      <td>0.128205</td>\n",
       "      <td>0</td>\n",
       "    </tr>\n",
       "    <tr>\n",
       "      <th>4</th>\n",
       "      <td>0.941176</td>\n",
       "      <td>0.897436</td>\n",
       "      <td>1</td>\n",
       "    </tr>\n",
       "  </tbody>\n",
       "</table>\n",
       "</div>"
      ],
      "text/plain": [
       "        Age  Income($)  cluster\n",
       "0  0.058824   0.213675        0\n",
       "1  0.176471   0.384615        0\n",
       "2  0.176471   0.136752        0\n",
       "3  0.117647   0.128205        0\n",
       "4  0.941176   0.897436        1"
      ]
     },
     "execution_count": 13,
     "metadata": {},
     "output_type": "execute_result"
    }
   ],
   "source": [
    "df['cluster']=cluster_label\n",
    "df.head()"
   ]
  },
  {
   "cell_type": "code",
   "execution_count": 14,
   "id": "a05e2806",
   "metadata": {
    "execution": {
     "iopub.execute_input": "2025-07-16T17:49:32.962081Z",
     "iopub.status.busy": "2025-07-16T17:49:32.961382Z",
     "iopub.status.idle": "2025-07-16T17:49:32.969887Z",
     "shell.execute_reply": "2025-07-16T17:49:32.969162Z"
    },
    "papermill": {
     "duration": 0.015425,
     "end_time": "2025-07-16T17:49:32.971177",
     "exception": false,
     "start_time": "2025-07-16T17:49:32.955752",
     "status": "completed"
    },
    "tags": []
   },
   "outputs": [],
   "source": [
    "df_0=df[df['cluster']==0]\n",
    "df_1=df[df['cluster']==1]\n",
    "df_2=df[df['cluster']==2]"
   ]
  },
  {
   "cell_type": "code",
   "execution_count": 15,
   "id": "6227a1e2",
   "metadata": {
    "execution": {
     "iopub.execute_input": "2025-07-16T17:49:32.982198Z",
     "iopub.status.busy": "2025-07-16T17:49:32.981625Z",
     "iopub.status.idle": "2025-07-16T17:49:32.985313Z",
     "shell.execute_reply": "2025-07-16T17:49:32.984551Z"
    },
    "papermill": {
     "duration": 0.010368,
     "end_time": "2025-07-16T17:49:32.986562",
     "exception": false,
     "start_time": "2025-07-16T17:49:32.976194",
     "status": "completed"
    },
    "tags": []
   },
   "outputs": [],
   "source": [
    "# show cluster center\n",
    "km_center=km.cluster_centers_"
   ]
  },
  {
   "cell_type": "code",
   "execution_count": 16,
   "id": "a4b511f1",
   "metadata": {
    "execution": {
     "iopub.execute_input": "2025-07-16T17:49:32.997244Z",
     "iopub.status.busy": "2025-07-16T17:49:32.996715Z",
     "iopub.status.idle": "2025-07-16T17:49:33.001607Z",
     "shell.execute_reply": "2025-07-16T17:49:33.000890Z"
    },
    "papermill": {
     "duration": 0.011531,
     "end_time": "2025-07-16T17:49:33.002865",
     "exception": false,
     "start_time": "2025-07-16T17:49:32.991334",
     "status": "completed"
    },
    "tags": []
   },
   "outputs": [
    {
     "name": "stdout",
     "output_type": "stream",
     "text": [
      "[0.1372549  0.72268908 0.85294118]\n",
      "[0.11633428 0.8974359  0.2022792 ]\n"
     ]
    }
   ],
   "source": [
    "# sob gula er 0 number print : means all\n",
    "print(km_center[:,0] )  #x\n",
    "print(km_center[:,1])    #y"
   ]
  },
  {
   "cell_type": "code",
   "execution_count": 17,
   "id": "551fe30d",
   "metadata": {
    "execution": {
     "iopub.execute_input": "2025-07-16T17:49:33.013959Z",
     "iopub.status.busy": "2025-07-16T17:49:33.013451Z",
     "iopub.status.idle": "2025-07-16T17:49:33.173764Z",
     "shell.execute_reply": "2025-07-16T17:49:33.173032Z"
    },
    "papermill": {
     "duration": 0.16726,
     "end_time": "2025-07-16T17:49:33.175131",
     "exception": false,
     "start_time": "2025-07-16T17:49:33.007871",
     "status": "completed"
    },
    "tags": []
   },
   "outputs": [
    {
     "data": {
      "text/plain": [
       "<matplotlib.collections.PathCollection at 0x7952d3dc6f10>"
      ]
     },
     "execution_count": 17,
     "metadata": {},
     "output_type": "execute_result"
    },
    {
     "data": {
      "image/png": "[encoded data removed]",
      "text/plain": [
       "<Figure size 640x480 with 1 Axes>"
      ]
     },
     "metadata": {},
     "output_type": "display_data"
    }
   ],
   "source": [
    "plt.scatter(df_0[\"Age\"], df_0['Income($)'], marker='x', color='red')\n",
    "plt.scatter(df_1[\"Age\"], df_1['Income($)'], marker='x', color='blue')\n",
    "plt.scatter(df_2[\"Age\"], df_2['Income($)'], marker='x', color='green')\n",
    "plt.scatter(km_center[:,0], km_center[:,1], marker='*', color='black' )"
   ]
  },
  {
   "cell_type": "code",
   "execution_count": 18,
   "id": "6fde581e",
   "metadata": {
    "execution": {
     "iopub.execute_input": "2025-07-16T17:49:33.186936Z",
     "iopub.status.busy": "2025-07-16T17:49:33.186403Z",
     "iopub.status.idle": "2025-07-16T17:49:33.191432Z",
     "shell.execute_reply": "2025-07-16T17:49:33.190647Z"
    },
    "papermill": {
     "duration": 0.012163,
     "end_time": "2025-07-16T17:49:33.192667",
     "exception": false,
     "start_time": "2025-07-16T17:49:33.180504",
     "status": "completed"
    },
    "tags": []
   },
   "outputs": [
    {
     "data": {
      "text/plain": [
       "0.4750783498553094"
      ]
     },
     "execution_count": 18,
     "metadata": {},
     "output_type": "execute_result"
    }
   ],
   "source": [
    "km.inertia_   #k=3"
   ]
  },
  {
   "cell_type": "markdown",
   "id": "a35e9516",
   "metadata": {
    "papermill": {
     "duration": 0.007772,
     "end_time": "2025-07-16T17:49:33.205898",
     "exception": false,
     "start_time": "2025-07-16T17:49:33.198126",
     "status": "completed"
    },
    "tags": []
   },
   "source": [
    "# Elbow Method"
   ]
  },
  {
   "cell_type": "code",
   "execution_count": 19,
   "id": "ca972fb9",
   "metadata": {
    "execution": {
     "iopub.execute_input": "2025-07-16T17:49:33.219834Z",
     "iopub.status.busy": "2025-07-16T17:49:33.219248Z",
     "iopub.status.idle": "2025-07-16T17:49:33.356222Z",
     "shell.execute_reply": "2025-07-16T17:49:33.355523Z"
    },
    "papermill": {
     "duration": 0.146089,
     "end_time": "2025-07-16T17:49:33.358025",
     "exception": false,
     "start_time": "2025-07-16T17:49:33.211936",
     "status": "completed"
    },
    "tags": []
   },
   "outputs": [],
   "source": [
    "sse=[]  #sum of sqare error\n",
    "\n",
    "for k in range(1,10):\n",
    "    km=KMeans(n_clusters=k)\n",
    "    km.fit_predict(df[['Age', 'Income($)']])\n",
    "    sse.append(km.inertia_)"
   ]
  },
  {
   "cell_type": "code",
   "execution_count": 20,
   "id": "69cb9ab8",
   "metadata": {
    "execution": {
     "iopub.execute_input": "2025-07-16T17:49:33.370948Z",
     "iopub.status.busy": "2025-07-16T17:49:33.370660Z",
     "iopub.status.idle": "2025-07-16T17:49:33.526956Z",
     "shell.execute_reply": "2025-07-16T17:49:33.526084Z"
    },
    "papermill": {
     "duration": 0.163883,
     "end_time": "2025-07-16T17:49:33.528341",
     "exception": false,
     "start_time": "2025-07-16T17:49:33.364458",
     "status": "completed"
    },
    "tags": []
   },
   "outputs": [
    {
     "data": {
      "text/plain": [
       "[<matplotlib.lines.Line2D at 0x7952d3e095d0>]"
      ]
     },
     "execution_count": 20,
     "metadata": {},
     "output_type": "execute_result"
    },
    {
     "data": {
      "image/png": "[encoded data removed]",
      "text/plain": [
       "<Figure size 640x480 with 1 Axes>"
      ]
     },
     "metadata": {},
     "output_type": "display_data"
    }
   ],
   "source": [
    "plt.plot(range(1,10), sse )\n"
   ]
  },
  {
   "cell_type": "code",
   "execution_count": null,
   "id": "c37b833a",
   "metadata": {
    "papermill": {
     "duration": 0.005287,
     "end_time": "2025-07-16T17:49:33.539633",
     "exception": false,
     "start_time": "2025-07-16T17:49:33.534346",
     "status": "completed"
    },
    "tags": []
   },
   "outputs": [],
   "source": []
  }
 ],
 "metadata": {
  "kaggle": {
   "accelerator": "none",
   "dataSources": [
    {
     "datasetId": 7878385,
     "sourceId": 12485401,
     "sourceType": "datasetVersion"
    }
   ],
   "dockerImageVersionId": 31089,
   "isGpuEnabled": false,
   "isInternetEnabled": true,
   "language": "python",
   "sourceType": "notebook"
  },
  "kernelspec": {
   "display_name": "Python 3",
   "language": "python",
   "name": "python3"
  },
  "language_info": {
   "codemirror_mode": {
    "name": "ipython",
    "version": 3
   },
   "file_extension": ".py",
   "mimetype": "text/x-python",
   "name": "python",
   "nbconvert_exporter": "python",
   "pygments_lexer": "ipython3",
   "version": "3.11.13"
  },
  "papermill": {
   "default_parameters": {},
   "duration": 9.834106,
   "end_time": "2025-07-16T17:49:34.164591",
   "environment_variables": {},
   "exception": null,
   "input_path": "__notebook__.ipynb",
   "output_path": "__notebook__.ipynb",
   "parameters": {},
   "start_time": "2025-07-16T17:49:24.330485",
   "version": "2.6.0"
  }
 },
 "nbformat": 4,
 "nbformat_minor": 5
}
